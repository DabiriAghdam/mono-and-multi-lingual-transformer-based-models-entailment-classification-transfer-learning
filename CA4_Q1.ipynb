{
  "cells": [
    {
      "cell_type": "code",
      "execution_count": null,
      "metadata": {
        "id": "Y5wau-_3zTpo"
      },
      "outputs": [],
      "source": [
        "!pip install datasets\n",
        "!pip install transformers\n",
        "!pip install sentencepiece  "
      ]
    },
    {
      "cell_type": "code",
      "execution_count": 2,
      "metadata": {
        "id": "_2_D7Xqzt4MN"
      },
      "outputs": [],
      "source": [
        "import numpy as np\n",
        "import os\n",
        "import random\n",
        "import regex as re\n",
        "import logging\n",
        "import gc\n",
        "from tqdm import tqdm, trange\n",
        "from sklearn.metrics import precision_recall_fscore_support, accuracy_score, classification_report\n",
        "from datasets import load_dataset\n",
        "import torch\n",
        "import torch.nn as nn\n",
        "from transformers import AdamW, get_linear_schedule_with_warmup\n",
        "from torch.utils.data import DataLoader, RandomSampler, SequentialSampler, TensorDataset\n",
        "from transformers import XLMRobertaTokenizer\n",
        "from transformers.models.xlm_roberta.modeling_xlm_roberta import  XLMRobertaModel, XLMRobertaConfig\n",
        "from transformers import BertConfig, BertTokenizer, BertModel\n",
        "import matplotlib.pyplot as plt\n",
        "import seaborn as sns\n",
        "plt.style.use('seaborn')"
      ]
    },
    {
      "cell_type": "code",
      "execution_count": 3,
      "metadata": {
        "colab": {
          "base_uri": "https://localhost:8080/",
          "height": 328,
          "referenced_widgets": [
            "aeb8496f7971483781dc3aae51e8b216",
            "63b3bbede779494dbb9f3d8940de943c",
            "6860e7dec36a42d3a23d27e68f80b56f",
            "71351694d5f4458286fee5c8fde5172a",
            "5b5fc6c4c5ad459690e3b88a26fb393c",
            "d0e06ba6db674e4c9bc5a10e5fc20b71",
            "02c2720954844cfdaa652aa3e2b162c2",
            "22b30402294c4925bb44925220bfdcea",
            "4872da320e394b5f8969471f396c4bd4",
            "4c5a33471ffc46b7a8f1b61579f40124",
            "bd7c16796c374594acc9e1ee4c192d37",
            "c5a260f6105f4f0f8d4d96fe80161d4e",
            "2768d9ae1df34a20be0807c84d9275f1",
            "74b9bf7d33af4f1fb1668ec69ae902e2",
            "6e22277d0eae4998a85fb0b1e5af51d3",
            "c7a5bc0be5234cde85d26890cf11a17e",
            "20662125897e42cf985ee1c7107d5197",
            "ed3ac27cb2a04c3986a93b8b7f8b8662",
            "00d35507988d41678404e0dd266efb0b",
            "ffc7396ac994439884c39d6894134524",
            "b903db7bd2904a3c98697ce7d8baa74d",
            "106dab31edd245dab9dd9818aba588a4",
            "43d36198bfa344d598a4f4c89ab64856",
            "3650003979bf453aa9a848324b58e645",
            "461644ebafee4683ae6c476b9d8790a3",
            "4babc0d827714ce28220da614a2d060c",
            "057cb837bdc040989fa70d9de60c60e3",
            "c1f11f6ed4ee4a48991204292aadaf15",
            "7f9e79c3b1f84d71889f625ce3fa96cf",
            "f6d8b738fe5a4a73b29859f105786645",
            "435878519f6446f5b0e7463ff8744365",
            "544ded41a09a4eca82d8b8c9a97eca3d",
            "f2a33f06e3694a8ca4111ae008795877",
            "2efbc10be796441bb5d27029fd05e5ea",
            "2eddc027cbf4444ab64c1a776733f38c",
            "fa01257170454d1ba2944b8124ae8bb7",
            "bc21d87ec919499490ad1f7cf998879f",
            "d87f3fc7c8cc42c68f7c507a2ac74143",
            "47a90145d7a34ff79faa6359dc2dddc6",
            "acab06e81d8347c3a1a8cadb4b4e1523",
            "6133c9d9df644d0f9b34fa3ae5c1109c",
            "104d8d2c999646189c4dc8f3868f88df",
            "dda032d7d8ff4f97a186a5e6643b3ba8",
            "31f423ba0971448da4bb498b4ba9afb2",
            "084a25447c064ea0bd2f40267a8415f0",
            "97365f974fcc473f8a3dc3c497ae293c",
            "50cf49ac15a54bfd8d616e7345b84860",
            "85189131e3814270b57ac60d9f6d2c92",
            "285539ef2c31497a88d9b9a9bb048812",
            "ced5ac23047045248d36855f7c7026bd",
            "cd7b9e865b21459496b62969b62f48b9",
            "8590658b1ece4ee4a44b305c33376b6d",
            "035f1fc5e0974196809fe00fd754edb5",
            "343702fc28f0420d84a91fff2168adff",
            "3b4a3f934dfd49949256619434abeddb",
            "b46ae8781a74475c9b946245528846dc",
            "f90f12e76bb94bbaa28c9c5e5691c0df",
            "9c83771a7ca3426cbe88b677298c414f",
            "3663a0b44f4e411eaec5f3f07187cb85",
            "b30baa06560e4d8b83c9420c3e7819c5",
            "9b4b24bfe7c547f4b64a8e21e37c26eb",
            "6b98881ee3484c90827c8d748049991c",
            "f6b2929ec8cd44b482c0baef2baf232a",
            "c6ade318efd4497484c7d98783344802",
            "15c76a938fc7401ba822f37444657f15",
            "34e9e1692dc642a29459551f5234c024",
            "c79a7528f8bf4b0cb71aa9b3c49f5c55",
            "e7190499c9444a769bed74dbd9e0c23a",
            "733dcba134c34697988eeadfd19fedd2",
            "458c830b6c3c43bfb243df6e83cf79c7",
            "3b115bfe3e534bbb97b8e8bbddb0a037",
            "9b7b3153eac04cf187f28f535c6eed0b",
            "4a705094d1ad49e6aaf4d143a64b4836",
            "8d768383e7824b9cae70ba6caaae4c3d",
            "f86c757d421643fe95e05ca8c9b3dc90",
            "480f686e52f448329df23883a21eecde",
            "ea918b4a7fee453482e676cb2849767d",
            "d9e257bc5a9e47cb811d3ecf14642001",
            "ac40b6f2b0874b6a844ca228635fcc52",
            "6cd17eb2037842c59aa9bd2ac9dea7f9",
            "6ee925b94c174da891f119b7c1969935",
            "7920acb6ec264680881fabc84f90aff2",
            "eac696071e694143aaed8cee5d9a3fc6",
            "32e2374c06e74d4dad9fc64ac663dd2f",
            "b008ecfd5b22437e95a6fff6f22baebe",
            "87aa13d4aeb546248f208f1e709bb634",
            "2a6f459e36db45e4916d71530d239392",
            "14819331d2284ef28635eef82f736b72",
            "eb9afde2831a4f2d87e3ea30cda0bb55",
            "d7d4e6dc1935472da965eac1b50a7392",
            "f5da246f08f64205bb29095830f3ca05",
            "0d456250900b44e08d38a1282f34e374",
            "31ab20256520406f91bb9a7b0871cd16",
            "b753a050d04c4d0a9aa489c4854c578a",
            "b4777d7fcf9a47bfae6ab92348cdeaaa",
            "e80a24bc8da0459ebe5cf2a4d3c365ab",
            "5f97976fb67948ac950484081a2cd74b",
            "0f0e28a9820d4ec49cfb4a13823929c4",
            "ca6b30bec0a34e6c9e809e760d112396",
            "33d52b8ac35f43c6a5aa6215d2c3e9dd",
            "58ef5c1e4086408f840adf61096ef1a3",
            "36f1ca6c2751461a95554f4eaa11839e",
            "da515f30712840ae83497bca39fd99fc",
            "26167513cfcb4ebdad2fba5539c301d4",
            "6019dab6bbbb4fdca00044f195c0c8bc",
            "52f54ab2d06740d7b6d7b6b670572f33",
            "39b86b273a5244b39dafd3b19d761439",
            "0ee111226ef04651849a89313d5b3dde",
            "3f92214be01c46d8a4437f251e64165f",
            "5784ee2ba923423684959cea80a00798",
            "1685dba419b5404d9e66ba22d0d5f0b6",
            "850d692a24784f7aa8b29ccb55e97eb3",
            "9551ee1647b141559a4e8c459203f53c",
            "2d3e3792c309408eb209929913632031",
            "ad9d9c0de83d4720964c59e7d455469f",
            "22a63be846aa4ce1a3f110cec8b8d3a2",
            "bebe8d8d7471477498ea97051e562e5e",
            "9cf7b11930b64a1a82afce4184b91e9d",
            "b8c0679db50343ec973e5a42d110d858",
            "b4e92b26f2aa484584857a08963adcdc",
            "c8890b859a8c486abded3cb219cb3e50"
          ]
        },
        "id": "ct-dAfGrzifl",
        "outputId": "8a6561ae-6a01-496d-d9e8-413235a3b094"
      },
      "outputs": [
        {
          "data": {
            "application/vnd.jupyter.widget-view+json": {
              "model_id": "aeb8496f7971483781dc3aae51e8b216",
              "version_major": 2,
              "version_minor": 0
            },
            "text/plain": [
              "Downloading builder script:   0%|          | 0.00/4.93k [00:00<?, ?B/s]"
            ]
          },
          "metadata": {},
          "output_type": "display_data"
        },
        {
          "data": {
            "application/vnd.jupyter.widget-view+json": {
              "model_id": "c5a260f6105f4f0f8d4d96fe80161d4e",
              "version_major": 2,
              "version_minor": 0
            },
            "text/plain": [
              "Downloading metadata:   0%|          | 0.00/2.21k [00:00<?, ?B/s]"
            ]
          },
          "metadata": {},
          "output_type": "display_data"
        },
        {
          "name": "stdout",
          "output_type": "stream",
          "text": [
            "Downloading and preparing dataset parsinlu_reading_comprehension/parsinlu-repo (download: 903.75 KiB, generated: 923.72 KiB, post-processed: Unknown size, total: 1.78 MiB) to /root/.cache/huggingface/datasets/persiannlp___parsinlu_reading_comprehension/parsinlu-repo/1.0.0/a99ad431d1637751f03fa9da3de66a41e93983d11116a0918a6efaaa72343d2d...\n"
          ]
        },
        {
          "data": {
            "application/vnd.jupyter.widget-view+json": {
              "model_id": "43d36198bfa344d598a4f4c89ab64856",
              "version_major": 2,
              "version_minor": 0
            },
            "text/plain": [
              "Downloading data files:   0%|          | 0/3 [00:00<?, ?it/s]"
            ]
          },
          "metadata": {},
          "output_type": "display_data"
        },
        {
          "data": {
            "application/vnd.jupyter.widget-view+json": {
              "model_id": "2efbc10be796441bb5d27029fd05e5ea",
              "version_major": 2,
              "version_minor": 0
            },
            "text/plain": [
              "Downloading data:   0%|          | 0.00/75.9k [00:00<?, ?B/s]"
            ]
          },
          "metadata": {},
          "output_type": "display_data"
        },
        {
          "data": {
            "application/vnd.jupyter.widget-view+json": {
              "model_id": "084a25447c064ea0bd2f40267a8415f0",
              "version_major": 2,
              "version_minor": 0
            },
            "text/plain": [
              "Downloading data:   0%|          | 0.00/28.2k [00:00<?, ?B/s]"
            ]
          },
          "metadata": {},
          "output_type": "display_data"
        },
        {
          "data": {
            "application/vnd.jupyter.widget-view+json": {
              "model_id": "b46ae8781a74475c9b946245528846dc",
              "version_major": 2,
              "version_minor": 0
            },
            "text/plain": [
              "Downloading data:   0%|          | 0.00/168k [00:00<?, ?B/s]"
            ]
          },
          "metadata": {},
          "output_type": "display_data"
        },
        {
          "data": {
            "application/vnd.jupyter.widget-view+json": {
              "model_id": "c79a7528f8bf4b0cb71aa9b3c49f5c55",
              "version_major": 2,
              "version_minor": 0
            },
            "text/plain": [
              "Extracting data files:   0%|          | 0/3 [00:00<?, ?it/s]"
            ]
          },
          "metadata": {},
          "output_type": "display_data"
        },
        {
          "data": {
            "application/vnd.jupyter.widget-view+json": {
              "model_id": "d9e257bc5a9e47cb811d3ecf14642001",
              "version_major": 2,
              "version_minor": 0
            },
            "text/plain": [
              "Generating train split:   0%|          | 0/755 [00:00<?, ? examples/s]"
            ]
          },
          "metadata": {},
          "output_type": "display_data"
        },
        {
          "data": {
            "application/vnd.jupyter.widget-view+json": {
              "model_id": "eb9afde2831a4f2d87e3ea30cda0bb55",
              "version_major": 2,
              "version_minor": 0
            },
            "text/plain": [
              "Generating test split:   0%|          | 0/1675 [00:00<?, ? examples/s]"
            ]
          },
          "metadata": {},
          "output_type": "display_data"
        },
        {
          "data": {
            "application/vnd.jupyter.widget-view+json": {
              "model_id": "33d52b8ac35f43c6a5aa6215d2c3e9dd",
              "version_major": 2,
              "version_minor": 0
            },
            "text/plain": [
              "Generating validation split:   0%|          | 0/270 [00:00<?, ? examples/s]"
            ]
          },
          "metadata": {},
          "output_type": "display_data"
        },
        {
          "name": "stdout",
          "output_type": "stream",
          "text": [
            "Dataset parsinlu_reading_comprehension downloaded and prepared to /root/.cache/huggingface/datasets/persiannlp___parsinlu_reading_comprehension/parsinlu-repo/1.0.0/a99ad431d1637751f03fa9da3de66a41e93983d11116a0918a6efaaa72343d2d. Subsequent calls will reuse this data.\n"
          ]
        },
        {
          "data": {
            "application/vnd.jupyter.widget-view+json": {
              "model_id": "1685dba419b5404d9e66ba22d0d5f0b6",
              "version_major": 2,
              "version_minor": 0
            },
            "text/plain": [
              "  0%|          | 0/3 [00:00<?, ?it/s]"
            ]
          },
          "metadata": {},
          "output_type": "display_data"
        }
      ],
      "source": [
        "dataset = load_dataset('persiannlp/parsinlu_entailment')"
      ]
    },
    {
      "cell_type": "code",
      "execution_count": 4,
      "metadata": {
        "colab": {
          "base_uri": "https://localhost:8080/",
          "height": 416
        },
        "id": "cDwxzAdY677O",
        "outputId": "6036f5d5-edbe-46ff-cadf-3063bd3382b6"
      },
      "outputs": [
        {
          "data": {
            "text/plain": [
              "{'c': 0.2718832891246684,\n",
              " 'e': 0.40318302387267907,\n",
              " 'n': 0.3249336870026525,\n",
              " 'xx': 0.001326259946949602}"
            ]
          },
          "execution_count": 4,
          "metadata": {},
          "output_type": "execute_result"
        },
        {
          "data": {
            "image/png": "[encoded data removed]",
            "text/plain": [
              "<Figure size 576x396 with 1 Axes>"
            ]
          },
          "metadata": {},
          "output_type": "display_data"
        }
      ],
      "source": [
        "freq_dict = dict()\n",
        "for data in dataset['train']:\n",
        "    if (data['label'] in freq_dict): freq_dict[data['label']] += 1\n",
        "    else: freq_dict[data['label']] = 1\n",
        "\n",
        "for k,v in freq_dict.items():\n",
        "    freq_dict[k] = v / (len(dataset['train']) - 1)\n",
        "\n",
        "sns.countplot(x=dataset['train']['label'])\n",
        "freq_dict"
      ]
    },
    {
      "cell_type": "code",
      "execution_count": 5,
      "metadata": {
        "colab": {
          "base_uri": "https://localhost:8080/"
        },
        "id": "UNXGj4GgAtyY",
        "outputId": "69d661fb-2302-45fe-f896-6ed7e34e326e"
      },
      "outputs": [
        {
          "name": "stdout",
          "output_type": "stream",
          "text": [
            "{'sent1': 'xx', 'sent2': 'xx', 'category': 'natural-miras', 'label': 'xx'}\n"
          ]
        }
      ],
      "source": [
        "for data in dataset['train']:\n",
        "    if(data['label'] == 'xx'): print(data)"
      ]
    },
    {
      "cell_type": "code",
      "execution_count": 6,
      "metadata": {
        "colab": {
          "base_uri": "https://localhost:8080/",
          "height": 364
        },
        "id": "WIE7Yr64AEk3",
        "outputId": "20e34c34-b81b-4162-ddcc-6e783e33fab0"
      },
      "outputs": [
        {
          "data": {
            "text/plain": [
              "{'c': 0.40370370370370373, 'e': 0.28888888888888886, 'n': 0.3074074074074074}"
            ]
          },
          "execution_count": 6,
          "metadata": {},
          "output_type": "execute_result"
        },
        {
          "data": {
            "image/png": "[encoded data removed]",
            "text/plain": [
              "<Figure size 576x396 with 1 Axes>"
            ]
          },
          "metadata": {},
          "output_type": "display_data"
        }
      ],
      "source": [
        "freq_dict = dict()\n",
        "for data in dataset['validation']:\n",
        "    if (data['label'] in freq_dict): freq_dict[data['label']] += 1\n",
        "    else: freq_dict[data['label']] = 1\n",
        "\n",
        "for k,v in freq_dict.items():\n",
        "    freq_dict[k] = v / (len(dataset['validation']))\n",
        "\n",
        "sns.countplot(x=dataset['validation']['label'])\n",
        "freq_dict"
      ]
    },
    {
      "cell_type": "code",
      "execution_count": 7,
      "metadata": {
        "colab": {
          "base_uri": "https://localhost:8080/",
          "height": 416
        },
        "id": "CErTCZLp6lAY",
        "outputId": "1e493c94-0749-4565-c204-83b61d13472f"
      },
      "outputs": [
        {
          "data": {
            "text/plain": [
              "{'-': 0.001195457262402869,\n",
              " 'c': 0.3353257621040048,\n",
              " 'e': 0.3646144650328751,\n",
              " 'n': 0.30005977286312013}"
            ]
          },
          "execution_count": 7,
          "metadata": {},
          "output_type": "execute_result"
        },
        {
          "data": {
            "image/png": "[encoded data removed]",
            "text/plain": [
              "<Figure size 576x396 with 1 Axes>"
            ]
          },
          "metadata": {},
          "output_type": "display_data"
        }
      ],
      "source": [
        "freq_dict = dict()\n",
        "for data in dataset['test']:\n",
        "    if (data['label'] in freq_dict): freq_dict[data['label']] += 1\n",
        "    else: freq_dict[data['label']] = 1\n",
        "\n",
        "for k,v in freq_dict.items():\n",
        "    freq_dict[k] = v / (len(dataset['test']) - 2)\n",
        "\n",
        "sns.countplot(x=dataset['test']['label'])\n",
        "freq_dict"
      ]
    },
    {
      "cell_type": "code",
      "execution_count": 8,
      "metadata": {
        "colab": {
          "base_uri": "https://localhost:8080/"
        },
        "id": "qE5OQQYcAqdS",
        "outputId": "496a723b-6ba2-4e8a-e620-665c6022919b"
      },
      "outputs": [
        {
          "name": "stdout",
          "output_type": "stream",
          "text": [
            "{'sent1': 'آنها برنامه هایی را برای افزایش کارآیی و به کارگیری منابع به طور مؤثر تثبیت کردند', 'sent2': 'برنامه های افزایش بهره وری تلفیق شدند ، زیرا آنها عمیقاً به کارایی اهمیت می دهند.', 'category': 'translation-dev', 'label': '-'}\n",
            "{'sent1': 'این هتل نوع جدیدی از هتل های فوق ستاره و کوچک را به نمایش می گذارد که فضای اداری عمومی را به افرادی که از راه دور کار میکنند, می فروشد.', 'sent2': 'افرادی که از راه دور کار میکنند  فضای اداری عمومی را خریداری می کند.', 'category': 'translation-dev', 'label': '-'}\n"
          ]
        }
      ],
      "source": [
        "for data in dataset['test']:\n",
        "    if(data['label'] == '-'): print(data)"
      ]
    },
    {
      "cell_type": "code",
      "execution_count": 9,
      "metadata": {
        "id": "NrJ4LDo2AEoy"
      },
      "outputs": [],
      "source": [
        "class Textual_EntailementClassifier(nn.Module):\n",
        "    def __init__(self, input_dim, num_labels=3, dropout_rate=0.):\n",
        "        super(Textual_EntailementClassifier, self).__init__()\n",
        "        self.dropout = nn.Dropout(dropout_rate)\n",
        "        self.linear1 = nn.Linear(input_dim, input_dim // 3)\n",
        "        self.relu = nn.ReLU()\n",
        "        self.linear2 = nn.Linear(input_dim // 3, num_labels)\n",
        "\n",
        "    def forward(self, x):\n",
        "        x = self.dropout(x)\n",
        "        x = self.linear1(x)\n",
        "        x = self.relu(x)\n",
        "        return self.linear2(x)"
      ]
    },
    {
      "cell_type": "code",
      "execution_count": 10,
      "metadata": {
        "id": "qX9IcSy-Yzhk"
      },
      "outputs": [],
      "source": [
        "class XLMRoBERTa_Textual_Entailement(BertModel):\n",
        "    def __init__(self, config, args, label_lst):\n",
        "        super(XLMRoBERTa_Textual_Entailement, self).__init__(config)\n",
        "        self.args = args\n",
        "        self.num_labels = len(set(label_lst))\n",
        "        self.roberta = XLMRobertaModel(config=config) # Load pretrained Bert\n",
        "        self.classifier = Textual_EntailementClassifier(config.hidden_size, self.num_labels, args.dropout_rate)\n",
        "\n",
        "    def forward(self, input_ids, attention_mask, token_type_ids, label_ids):\n",
        "        outputs = self.roberta(input_ids, attention_mask, token_type_ids)  # sequence_output, pooled_output, (hidden_states), (attentions)\n",
        "        pooled_output = outputs[1]  # [CLS]\n",
        "        label_logits = self.classifier(pooled_output)\n",
        "\n",
        "        total_loss = 0\n",
        "        # Softmax\n",
        "        if label_ids is not None:\n",
        "            loss = 0\n",
        "            if self.num_labels == 1:\n",
        "                loss_fct = nn.MSELoss()\n",
        "                loss = loss_fct(label_logits.view(-1), label_ids.view(-1))\n",
        "            else:\n",
        "                loss_fct = nn.CrossEntropyLoss()\n",
        "                loss = loss_fct(label_logits.view(-1, self.num_labels), label_ids.view(-1))\n",
        "            total_loss += loss\n",
        "\n",
        "        outputs = (label_logits,) + outputs[2:]  # add hidden states and attention if they are here\n",
        "        outputs = (total_loss,) + outputs\n",
        "\n",
        "        return outputs  # (loss), logits, (hidden_states), (attentions)"
      ]
    },
    {
      "cell_type": "code",
      "execution_count": 12,
      "metadata": {
        "id": "TT9SxAJmDY8_"
      },
      "outputs": [],
      "source": [
        "class ParsBERT_Textual_Entailement(BertModel):\n",
        "    def __init__(self, config, args, label_lst):\n",
        "        super(ParsBERT_Textual_Entailement, self).__init__(config)\n",
        "        self.args = args\n",
        "        self.num_labels = len(set(label_lst))\n",
        "        self.parsbert = BertModel(config=config) # Load pretrained ParsBert\n",
        "        self.classifier = Textual_EntailementClassifier(config.hidden_size, self.num_labels, args.dropout_rate)\n",
        "\n",
        "    def forward(self, input_ids, attention_mask, token_type_ids, label_ids):\n",
        "        outputs = self.parsbert(input_ids, attention_mask, token_type_ids)  # sequence_output, pooled_output, (hidden_states), (attentions)\n",
        "        pooled_output = outputs[1]  # [CLS]\n",
        "        label_logits = self.classifier(pooled_output)\n",
        "\n",
        "        total_loss = 0\n",
        "        # Softmax\n",
        "        if label_ids is not None:\n",
        "            loss = 0\n",
        "            if self.num_labels == 1:\n",
        "                loss_fct = nn.MSELoss()\n",
        "                loss = loss_fct(label_logits.view(-1), label_ids.view(-1))\n",
        "            else:\n",
        "                loss_fct = nn.CrossEntropyLoss()\n",
        "                loss = loss_fct(label_logits.view(-1, self.num_labels), label_ids.view(-1))\n",
        "            total_loss += loss\n",
        "\n",
        "        outputs = (label_logits,) + outputs[2:]  # add hidden states and attention if they are here\n",
        "        outputs = (total_loss,) + outputs\n",
        "\n",
        "        return outputs  # (loss), logits, (hidden_states), (attentions)"
      ]
    },
    {
      "cell_type": "code",
      "execution_count": 13,
      "metadata": {
        "id": "xRlNFn16WA4M"
      },
      "outputs": [],
      "source": [
        "MODEL_CLASSES = {\n",
        "    'XLMRoberta': (XLMRobertaConfig, XLMRoBERTa_Textual_Entailement, XLMRobertaTokenizer),\n",
        "    'parsbert': (BertConfig, ParsBERT_Textual_Entailement, BertTokenizer),\n",
        "}\n",
        "\n",
        "MODEL_PATH_MAP = {\n",
        "    'XLMRoberta': 'xlm-roberta-base',\n",
        "    'parsbert': 'HooshvareLab/bert-fa-zwnj-base',\n",
        "}\n",
        "\n",
        "logger = logging.getLogger(__name__)"
      ]
    },
    {
      "cell_type": "code",
      "execution_count": 14,
      "metadata": {
        "id": "FGZghD02Yzxv"
      },
      "outputs": [],
      "source": [
        "def load_tokenizer(args):\n",
        "    return MODEL_CLASSES[args.model_type][2].from_pretrained(args.model_name_or_path)\n",
        "\n",
        "def init_logger():\n",
        "    logging.basicConfig(format='%(asctime)s - %(levelname)s - %(name)s -   %(message)s',\n",
        "                        datefmt='%m/%d/%Y %H:%M:%S',\n",
        "                        level=logging.INFO)\n",
        "    \n",
        "def label2index(label):\n",
        "    if (label == 'e'): return 0\n",
        "    elif (label == 'c'): return 1\n",
        "    else: return 2\n",
        "\n",
        "def get_labels(dataset):\n",
        "  train_label = list()\n",
        "  for data in dataset:\n",
        "      if (data['label'] != 'xx' and data['label'] != '-'): train_label.append(data['label'])\n",
        "  \n",
        "  return train_label\n",
        "\n",
        "def set_seed(args):\n",
        "    random.seed(args.seed)\n",
        "    np.random.seed(args.seed)\n",
        "    torch.manual_seed(args.seed)\n",
        "    if not args.no_cuda and torch.cuda.is_available():\n",
        "        torch.cuda.manual_seed_all(args.seed)"
      ]
    },
    {
      "cell_type": "code",
      "execution_count": 15,
      "metadata": {
        "id": "dhLxqH9fr4jR"
      },
      "outputs": [],
      "source": [
        "def prepare_dataset(data, args, tokenizer, padding='max_length'):\n",
        "\n",
        "    device = torch.device(\"cuda\" if torch.cuda.is_available() else \"cpu\")\n",
        "    all_label = torch.tensor([label2index(x['label']) for x in data if  (x['label'] != 'xx' and x['label'] != '-')], dtype=torch.long).to(device)\n",
        "    bert_input = tokenizer([x['sent1'] for x in data if (x['label'] != 'xx' and x['label'] != '-')] , [x['sent2'] for x in data if (x['label'] != 'xx' and x['label'] != '-')], padding=padding, max_length=args.max_seq_len, truncation=True, return_tensors=\"pt\")\n",
        "    if ('token_type_ids' in bert_input):\n",
        "        dataset = TensorDataset(bert_input['input_ids'].to(device), bert_input['attention_mask'].to(device), bert_input['token_type_ids'].to(device), all_label)\n",
        "    else:\n",
        "        dataset = TensorDataset(bert_input['input_ids'].to(device), bert_input['attention_mask'].to(device), torch.zeros_like(bert_input['input_ids']).to(device), all_label)\n",
        "\n",
        "    return dataset"
      ]
    },
    {
      "cell_type": "code",
      "execution_count": 16,
      "metadata": {
        "id": "3IEGTfNm1GZG"
      },
      "outputs": [],
      "source": [
        "class Trainer(object):\n",
        "    def __init__(self, args, train_dataset=None, dev_dataset=None, test_dataset=None):\n",
        "        self.args = args\n",
        "        self.train_dataset = train_dataset\n",
        "        self.dev_dataset = dev_dataset\n",
        "        self.test_dataset = test_dataset\n",
        "\n",
        "        self.label_lst = get_labels(dataset['train'])\n",
        "\n",
        "        self.config_class, self.model_class, _ = MODEL_CLASSES[args.model_type]\n",
        "        self.config = self.config_class.from_pretrained(args.model_name_or_path, finetuning_task=args.task)\n",
        "        self.model = self.model_class.from_pretrained(args.model_name_or_path,\n",
        "                                                      config=self.config,\n",
        "                                                      args=args,\n",
        "                                                      label_lst=self.label_lst)\n",
        "                                                      \n",
        "\n",
        "        # GPU or CPU\n",
        "        self.device = \"cuda\" if torch.cuda.is_available() and not args.no_cuda else \"cpu\"\n",
        "        self.model.to(self.device)\n",
        "\n",
        "    def train(self):\n",
        "        train_sampler = RandomSampler(self.train_dataset)\n",
        "        train_dataloader = DataLoader(self.train_dataset, sampler=train_sampler, batch_size=self.args.train_batch_size)\n",
        "        if self.args.max_steps > 0:\n",
        "            t_total = self.args.max_steps\n",
        "            self.args.num_train_epochs = self.args.max_steps // (len(train_dataloader) // self.args.gradient_accumulation_steps) + 1\n",
        "        else:\n",
        "            t_total = len(train_dataloader) // self.args.gradient_accumulation_steps * self.args.num_train_epochs\n",
        "\n",
        "        # Prepare optimizer and schedule (linear warmup and decay)\n",
        "        no_decay = ['bias', 'LayerNorm.weight']\n",
        "        optimizer_grouped_parameters = [\n",
        "            {'params': [p for n, p in self.model.named_parameters() if not any(nd in n for nd in no_decay)],\n",
        "             'weight_decay': self.args.weight_decay},\n",
        "            {'params': [p for n, p in self.model.named_parameters() if any(nd in n for nd in no_decay)], 'weight_decay': 0.0}\n",
        "        ]\n",
        "        optimizer = AdamW(optimizer_grouped_parameters, lr=self.args.learning_rate, eps=self.args.adam_epsilon)\n",
        "        scheduler = get_linear_schedule_with_warmup(optimizer, num_warmup_steps=self.args.warmup_steps, num_training_steps=t_total)\n",
        "\n",
        "        # Train!\n",
        "        logger.info(\"***** Running training *****\")\n",
        "        logger.info(\"  Num examples = %d\", len(self.train_dataset))\n",
        "        logger.info(\"  Num Epochs = %d\", self.args.num_train_epochs)\n",
        "        logger.info(\"  Total train batch size = %d\", self.args.train_batch_size)\n",
        "        logger.info(\"  Gradient Accumulation steps = %d\", self.args.gradient_accumulation_steps)\n",
        "        logger.info(\"  Total optimization steps = %d\", t_total)\n",
        "        logger.info(\"  Logging steps = %d\", self.args.logging_steps)\n",
        "        logger.info(\"  Save steps = %d\", self.args.save_steps)\n",
        "\n",
        "        global_step = 0\n",
        "        tr_loss = 0.0\n",
        "        self.model.zero_grad()\n",
        "        best_acc = -1\n",
        "       \n",
        "        train_iterator = trange(int(self.args.num_train_epochs), desc=\"Epoch\")\n",
        "        for _ in train_iterator:\n",
        "            label_preds = None\n",
        "            out_label_ids = None\n",
        "            # epoch_iterator = tqdm(train_dataloader, desc=\"Iteration\")\n",
        "            for step, batch in enumerate(train_dataloader):\n",
        "                self.model.train()\n",
        "                inputs = {'input_ids': batch[0],\n",
        "                          'attention_mask': batch[1],\n",
        "                          'token_type_ids': batch[2],\n",
        "                          'label_ids': batch[3]}\n",
        "                outputs = self.model(**inputs)\n",
        "                loss = outputs[0]\n",
        "                label_logits = outputs[1]\n",
        "\n",
        "                 # label prediction\n",
        "                if label_preds is None:\n",
        "                    label_preds = label_logits.detach().cpu().numpy()\n",
        "                    out_label_ids = inputs['label_ids'].detach().cpu().numpy()\n",
        "                else:\n",
        "                    label_preds = np.append(label_preds, label_logits.detach().cpu().numpy(), axis=0)\n",
        "                    out_label_ids = np.append(out_label_ids, inputs['label_ids'].detach().cpu().numpy(), axis=0)\n",
        "                \n",
        "                if self.args.gradient_accumulation_steps > 1:\n",
        "                    loss = loss / self.args.gradient_accumulation_steps\n",
        "\n",
        "                loss.backward()\n",
        "\n",
        "                tr_loss += loss.item()\n",
        "                if (step + 1) % self.args.gradient_accumulation_steps == 0:\n",
        "                    torch.nn.utils.clip_grad_norm_(self.model.parameters(), self.args.max_grad_norm)\n",
        "\n",
        "                    optimizer.step()\n",
        "                    scheduler.step()  # Update learning rate schedule\n",
        "                    self.model.zero_grad()\n",
        "                    global_step += 1\n",
        "\n",
        "                    if(global_step % 10 == 0): logger.info(\"Train loss = %.4f\", tr_loss / global_step)\n",
        "                    if (self.args.logging_steps > 0 and global_step % self.args.logging_steps == 0):\n",
        "                        results = self.evaluate(\"dev\")\n",
        "                        if (float(results['accuracy']) > best_acc):\n",
        "                        # if (float(results['slot_f1']) > best_f1):\n",
        "                        #   best_f1 = float(results['slot_f1'])\n",
        "                          best_acc = float(results['accuracy'])\n",
        "                          logger.info(\"dev best_acc = %.4f\", best_acc * 100.0)\n",
        "                          self.save_model()\n",
        "\n",
        "                   \n",
        "            if 0 < self.args.max_steps < global_step:\n",
        "                train_iterator.close()\n",
        "                break\n",
        "            \n",
        "            # label result\n",
        "            label_preds = np.argmax(label_preds, axis=1)\n",
        "            logger.info(\"train_acc = %.4f\", accuracy_score(out_label_ids, label_preds) * 100.0)\n",
        "\n",
        "\n",
        "        return global_step, tr_loss / global_step\n",
        "\n",
        "    def evaluate(self, mode):\n",
        "        if mode == 'test':\n",
        "            dataset = self.test_dataset\n",
        "        elif mode == 'dev':\n",
        "            dataset = self.dev_dataset\n",
        "        else:\n",
        "            raise Exception(\"Only dev and test dataset available\")\n",
        "\n",
        "        eval_sampler = SequentialSampler(dataset)\n",
        "        eval_dataloader = DataLoader(dataset, sampler=eval_sampler, batch_size=self.args.eval_batch_size)\n",
        "\n",
        "        # Eval!\n",
        "        logger.info(\"\\n***** Running evaluation on %s dataset *****\", mode)\n",
        "        logger.info(\"  Num examples = %d\", len(dataset))\n",
        "        logger.info(\"  Batch size = %d\", self.args.eval_batch_size)\n",
        "        eval_loss = 0.0\n",
        "        nb_eval_steps = 0\n",
        "        label_preds = None\n",
        "        out_label_ids = None\n",
        "\n",
        "        self.model.eval()\n",
        "\n",
        "        # for batch in tqdm(eval_dataloader, desc=\"Evaluating\"):\n",
        "        for batch in eval_dataloader:\n",
        "            batch = tuple(t.to(self.device) for t in batch)\n",
        "            with torch.no_grad():\n",
        "                inputs = {'input_ids': batch[0],\n",
        "                          'attention_mask': batch[1],\n",
        "                          'token_type_ids': batch[2],\n",
        "                          'label_ids': batch[3]}\n",
        "                outputs = self.model(**inputs)\n",
        "                tmp_eval_loss, label_logits = outputs[:2]\n",
        "                eval_loss += tmp_eval_loss.mean().item()\n",
        "            \n",
        "            nb_eval_steps += 1\n",
        "\n",
        "            # label prediction\n",
        "            if label_preds is None:\n",
        "                label_preds = label_logits.detach().cpu().numpy()\n",
        "                out_label_ids = inputs['label_ids'].detach().cpu().numpy()\n",
        "            else:\n",
        "                label_preds = np.append(label_preds, label_logits.detach().cpu().numpy(), axis=0)\n",
        "                out_label_ids = np.append(out_label_ids, inputs['label_ids'].detach().cpu().numpy(), axis=0)\n",
        "\n",
        "\n",
        "        eval_loss = eval_loss / nb_eval_steps\n",
        "        results = {\n",
        "            \"loss\": eval_loss\n",
        "        }\n",
        "\n",
        "        # label result\n",
        "        label_preds = np.argmax(label_preds, axis=1)\n",
        "        print(set(label_preds))\n",
        "        total_result = accuracy_score(out_label_ids, label_preds)\n",
        "        results.update({'accuracy' : total_result})\n",
        "        logger.info(\"***** Eval results *****\")\n",
        "        for key in sorted(results.keys()):\n",
        "            logger.info(\"  %s = %.4f\", key if key != 'loss' else 'loss', float(results[key]) * 100.0 if key != 'loss' else float(results[key]))\n",
        "\n",
        "        if (mode == 'test'): print(classification_report(out_label_ids, label_preds, target_names=['e', 'c', 'n'], digits = 4))\n",
        "        return results\n",
        "\n",
        "    def save_model(self):\n",
        "        # Save model checkpoint (Overwrite)\n",
        "        if not os.path.exists(self.args.model_dir):\n",
        "            os.makedirs(self.args.model_dir)\n",
        "        model_to_save = self.model.module if hasattr(self.model, 'module') else self.model\n",
        "        model_to_save.save_pretrained(self.args.model_dir)\n",
        "\n",
        "\n",
        "    def load_model(self):\n",
        "        # Check whether model exists\n",
        "        if not os.path.exists(self.args.model_dir):\n",
        "            raise Exception(\"Model doesn't exists! Train first!\")\n",
        "\n",
        "        try:\n",
        "            self.model = self.model_class.from_pretrained(self.args.model_dir,\n",
        "                                                          args=self.args,\n",
        "                                                          label_lst=self.label_lst)\n",
        "            self.model.to(self.device)\n",
        "            logger.info(\"***** Model Loaded *****\")\n",
        "        except:\n",
        "            raise Exception(\"Some model files might be missing...\")\n"
      ]
    },
    {
      "cell_type": "code",
      "execution_count": 17,
      "metadata": {
        "id": "ydHioDjUJMeA"
      },
      "outputs": [],
      "source": [
        "class dotdict(dict):\n",
        "    \"\"\"dot.notation access to dictionary attributes\"\"\"\n",
        "    __getattr__ = dict.get\n",
        "    __setattr__ = dict.__setitem__\n",
        "    __delattr__ = dict.__delitem__"
      ]
    },
    {
      "cell_type": "markdown",
      "metadata": {
        "id": "ErWVnaL9ahyP"
      },
      "source": [
        "Using XLMRoberta\n"
      ]
    },
    {
      "cell_type": "code",
      "execution_count": 18,
      "metadata": {
        "id": "YMs8BTqnJOEf"
      },
      "outputs": [],
      "source": [
        "args = dotdict(dict())\n",
        "args.seed = 810197502 # to make results reproducible\n",
        "args.model_type = 'XLMRoberta' \n",
        "args.model_name_or_path = MODEL_PATH_MAP[args.model_type]\n",
        "args.dropout_rate =  0.3\n",
        "args.do_train = True\n",
        "args.do_eval = True\n",
        "args.train_batch_size = 32 \n",
        "args.max_steps = -1\n",
        "args.task = 'Textual_Entailement' \n",
        "args.no_cuda = False\n",
        "args.weight_decay = 0\n",
        "args.num_train_epochs = 30\n",
        "args.gradient_accumulation_steps = 1\n",
        "args.learning_rate = 3e-5 \n",
        "args.adam_epsilon = 1e-8\n",
        "args.warmup_steps = 0 \n",
        "args.logging_steps = 50\n",
        "args.save_steps = 250\n",
        "args.max_grad_norm = 1\n",
        "args.eval_batch_size = 64\n",
        "args.model_dir = \"Textual_Entailement_model_\" + args.model_type\n",
        "args.max_seq_len = 128\n"
      ]
    },
    {
      "cell_type": "code",
      "execution_count": null,
      "metadata": {
        "id": "KeuvpC-ZNMRD"
      },
      "outputs": [],
      "source": [
        "init_logger()\n",
        "set_seed(args)\n",
        "tokenizer = load_tokenizer(args)"
      ]
    },
    {
      "cell_type": "code",
      "execution_count": null,
      "metadata": {
        "id": "RPUnSZlUq9kg"
      },
      "outputs": [],
      "source": [
        "train_dataset = prepare_dataset(dataset['train'], args, tokenizer)\n",
        "valid_dataset = prepare_dataset(dataset['validation'], args, tokenizer)\n",
        "test_dataset = prepare_dataset(dataset['test'], args, tokenizer)"
      ]
    },
    {
      "cell_type": "code",
      "execution_count": null,
      "metadata": {
        "colab": {
          "base_uri": "https://localhost:8080/"
        },
        "id": "AkmMPQ4ec7rw",
        "outputId": "efc574ce-5bf1-44d2-b319-f80452b08d67"
      },
      "outputs": [
        {
          "name": "stderr",
          "output_type": "stream",
          "text": [
            "Some weights of the model checkpoint at xlm-roberta-base were not used when initializing XLMRoBERTa_Textual_Entailement: ['lm_head.decoder.weight', 'lm_head.layer_norm.weight', 'lm_head.dense.weight', 'lm_head.dense.bias', 'lm_head.bias', 'lm_head.layer_norm.bias']\n",
            "- This IS expected if you are initializing XLMRoBERTa_Textual_Entailement from the checkpoint of a model trained on another task or with another architecture (e.g. initializing a BertForSequenceClassification model from a BertForPreTraining model).\n",
            "- This IS NOT expected if you are initializing XLMRoBERTa_Textual_Entailement from the checkpoint of a model that you expect to be exactly identical (initializing a BertForSequenceClassification model from a BertForSequenceClassification model).\n",
            "Some weights of XLMRoBERTa_Textual_Entailement were not initialized from the model checkpoint at xlm-roberta-base and are newly initialized: ['encoder.layer.2.output.dense.weight', 'encoder.layer.10.attention.self.value.bias', 'encoder.layer.1.attention.self.value.bias', 'embeddings.word_embeddings.weight', 'embeddings.LayerNorm.bias', 'encoder.layer.9.output.LayerNorm.bias', 'encoder.layer.11.attention.self.value.weight', 'encoder.layer.11.output.dense.weight', 'encoder.layer.5.attention.self.value.weight', 'encoder.layer.3.attention.self.query.bias', 'encoder.layer.10.intermediate.dense.weight', 'encoder.layer.11.output.LayerNorm.weight', 'encoder.layer.4.attention.self.value.bias', 'classifier.linear2.bias', 'encoder.layer.1.intermediate.dense.bias', 'encoder.layer.4.attention.output.dense.bias', 'encoder.layer.5.attention.self.query.bias', 'encoder.layer.6.output.LayerNorm.weight', 'encoder.layer.11.attention.output.LayerNorm.bias', 'encoder.layer.4.intermediate.dense.weight', 'encoder.layer.6.attention.self.key.bias', 'encoder.layer.2.attention.output.dense.bias', 'encoder.layer.11.attention.self.key.bias', 'encoder.layer.5.output.dense.bias', 'encoder.layer.8.intermediate.dense.bias', 'encoder.layer.0.intermediate.dense.weight', 'encoder.layer.1.output.LayerNorm.weight', 'encoder.layer.3.output.dense.weight', 'encoder.layer.5.output.dense.weight', 'encoder.layer.2.attention.output.dense.weight', 'encoder.layer.5.attention.output.dense.bias', 'encoder.layer.5.attention.self.key.weight', 'encoder.layer.10.attention.self.key.weight', 'encoder.layer.3.attention.output.dense.weight', 'encoder.layer.5.output.LayerNorm.weight', 'encoder.layer.3.intermediate.dense.weight', 'encoder.layer.10.attention.self.value.weight', 'encoder.layer.3.intermediate.dense.bias', 'classifier.linear1.weight', 'encoder.layer.5.output.LayerNorm.bias', 'encoder.layer.4.output.dense.weight', 'encoder.layer.11.attention.output.LayerNorm.weight', 'encoder.layer.0.attention.self.value.bias', 'encoder.layer.8.attention.self.value.bias', 'encoder.layer.5.attention.output.LayerNorm.bias', 'encoder.layer.8.output.LayerNorm.weight', 'encoder.layer.7.attention.output.dense.weight', 'encoder.layer.6.attention.self.query.bias', 'encoder.layer.7.attention.output.LayerNorm.bias', 'encoder.layer.9.output.LayerNorm.weight', 'encoder.layer.6.attention.self.value.weight', 'encoder.layer.6.attention.output.LayerNorm.bias', 'encoder.layer.6.intermediate.dense.bias', 'encoder.layer.7.output.dense.bias', 'encoder.layer.8.attention.output.LayerNorm.bias', 'encoder.layer.7.attention.output.dense.bias', 'encoder.layer.11.attention.self.query.weight', 'encoder.layer.9.attention.output.LayerNorm.weight', 'encoder.layer.0.intermediate.dense.bias', 'encoder.layer.0.output.dense.weight', 'encoder.layer.0.attention.self.query.weight', 'encoder.layer.4.output.dense.bias', 'encoder.layer.1.attention.self.query.bias', 'encoder.layer.6.attention.output.dense.bias', 'encoder.layer.2.attention.output.LayerNorm.bias', 'encoder.layer.1.attention.self.value.weight', 'encoder.layer.4.attention.self.query.bias', 'encoder.layer.4.output.LayerNorm.weight', 'encoder.layer.9.output.dense.bias', 'encoder.layer.7.attention.self.key.bias', 'encoder.layer.2.attention.output.LayerNorm.weight', 'encoder.layer.8.attention.output.dense.bias', 'encoder.layer.1.attention.output.dense.bias', 'encoder.layer.6.attention.self.key.weight', 'encoder.layer.9.intermediate.dense.weight', 'encoder.layer.4.attention.output.LayerNorm.weight', 'encoder.layer.6.attention.self.value.bias', 'encoder.layer.10.intermediate.dense.bias', 'encoder.layer.7.attention.output.LayerNorm.weight', 'encoder.layer.4.attention.self.key.bias', 'encoder.layer.10.output.dense.bias', 'encoder.layer.1.attention.self.key.bias', 'encoder.layer.9.attention.self.value.bias', 'encoder.layer.1.attention.self.key.weight', 'encoder.layer.8.attention.self.key.weight', 'encoder.layer.8.attention.self.query.weight', 'encoder.layer.0.attention.output.dense.weight', 'encoder.layer.8.attention.self.query.bias', 'encoder.layer.4.attention.output.dense.weight', 'encoder.layer.6.output.dense.bias', 'encoder.layer.6.attention.output.dense.weight', 'encoder.layer.5.attention.self.query.weight', 'encoder.layer.0.output.LayerNorm.bias', 'encoder.layer.0.attention.self.key.bias', 'encoder.layer.5.attention.self.value.bias', 'encoder.layer.7.attention.self.query.weight', 'encoder.layer.9.attention.self.query.bias', 'encoder.layer.3.attention.self.key.weight', 'encoder.layer.4.attention.output.LayerNorm.bias', 'encoder.layer.10.attention.self.query.bias', 'encoder.layer.9.attention.self.key.bias', 'encoder.layer.6.output.dense.weight', 'encoder.layer.11.attention.self.value.bias', 'encoder.layer.3.attention.self.key.bias', 'encoder.layer.6.attention.self.query.weight', 'encoder.layer.7.attention.self.value.weight', 'encoder.layer.5.attention.output.LayerNorm.weight', 'encoder.layer.0.attention.self.value.weight', 'encoder.layer.2.intermediate.dense.bias', 'encoder.layer.9.attention.self.key.weight', 'encoder.layer.10.output.dense.weight', 'encoder.layer.0.attention.output.dense.bias', 'encoder.layer.11.attention.output.dense.weight', 'pooler.dense.bias', 'encoder.layer.11.attention.self.key.weight', 'encoder.layer.3.attention.output.LayerNorm.weight', 'encoder.layer.4.attention.self.query.weight', 'encoder.layer.0.output.LayerNorm.weight', 'encoder.layer.5.intermediate.dense.weight', 'encoder.layer.7.intermediate.dense.weight', 'encoder.layer.2.attention.self.query.bias', 'encoder.layer.7.intermediate.dense.bias', 'encoder.layer.9.attention.self.value.weight', 'encoder.layer.5.intermediate.dense.bias', 'encoder.layer.4.attention.self.key.weight', 'encoder.layer.8.attention.output.dense.weight', 'encoder.layer.10.attention.output.dense.weight', 'encoder.layer.3.output.LayerNorm.weight', 'encoder.layer.11.intermediate.dense.bias', 'encoder.layer.11.output.dense.bias', 'encoder.layer.7.output.LayerNorm.weight', 'encoder.layer.0.attention.self.key.weight', 'encoder.layer.4.intermediate.dense.bias', 'embeddings.position_embeddings.weight', 'encoder.layer.7.output.dense.weight', 'encoder.layer.7.attention.self.value.bias', 'encoder.layer.2.output.LayerNorm.bias', 'encoder.layer.10.attention.output.LayerNorm.weight', 'encoder.layer.8.intermediate.dense.weight', 'encoder.layer.0.attention.output.LayerNorm.bias', 'encoder.layer.10.output.LayerNorm.weight', 'encoder.layer.3.attention.output.LayerNorm.bias', 'encoder.layer.1.output.dense.bias', 'encoder.layer.9.output.dense.weight', 'encoder.layer.8.output.dense.weight', 'encoder.layer.3.output.LayerNorm.bias', 'embeddings.token_type_embeddings.weight', 'encoder.layer.2.intermediate.dense.weight', 'encoder.layer.7.attention.self.query.bias', 'encoder.layer.1.output.dense.weight', 'encoder.layer.3.attention.self.value.weight', 'encoder.layer.2.attention.self.value.bias', 'encoder.layer.8.output.LayerNorm.bias', 'encoder.layer.11.output.LayerNorm.bias', 'encoder.layer.10.attention.self.key.bias', 'encoder.layer.2.attention.self.key.bias', 'encoder.layer.8.attention.output.LayerNorm.weight', 'encoder.layer.0.attention.output.LayerNorm.weight', 'encoder.layer.4.attention.self.value.weight', 'encoder.layer.1.attention.output.LayerNorm.bias', 'encoder.layer.9.intermediate.dense.bias', 'encoder.layer.2.output.dense.bias', 'encoder.layer.2.attention.self.query.weight', 'encoder.layer.1.attention.output.LayerNorm.weight', 'encoder.layer.1.intermediate.dense.weight', 'encoder.layer.8.output.dense.bias', 'encoder.layer.6.output.LayerNorm.bias', 'encoder.layer.0.output.dense.bias', 'encoder.layer.10.attention.self.query.weight', 'encoder.layer.3.output.dense.bias', 'pooler.dense.weight', 'encoder.layer.4.output.LayerNorm.bias', 'encoder.layer.6.attention.output.LayerNorm.weight', 'encoder.layer.7.output.LayerNorm.bias', 'encoder.layer.1.output.LayerNorm.bias', 'encoder.layer.8.attention.self.value.weight', 'encoder.layer.0.attention.self.query.bias', 'encoder.layer.10.attention.output.dense.bias', 'encoder.layer.5.attention.self.key.bias', 'encoder.layer.9.attention.output.dense.bias', 'encoder.layer.3.attention.output.dense.bias', 'encoder.layer.3.attention.self.value.bias', 'encoder.layer.8.attention.self.key.bias', 'encoder.layer.2.attention.self.value.weight', 'encoder.layer.3.attention.self.query.weight', 'encoder.layer.7.attention.self.key.weight', 'classifier.linear2.weight', 'encoder.layer.2.output.LayerNorm.weight', 'encoder.layer.2.attention.self.key.weight', 'encoder.layer.11.attention.self.query.bias', 'encoder.layer.5.attention.output.dense.weight', 'encoder.layer.9.attention.output.LayerNorm.bias', 'classifier.linear1.bias', 'encoder.layer.6.intermediate.dense.weight', 'embeddings.LayerNorm.weight', 'encoder.layer.9.attention.self.query.weight', 'encoder.layer.11.attention.output.dense.bias', 'encoder.layer.1.attention.output.dense.weight', 'encoder.layer.10.attention.output.LayerNorm.bias', 'encoder.layer.9.attention.output.dense.weight', 'encoder.layer.10.output.LayerNorm.bias', 'encoder.layer.11.intermediate.dense.weight', 'encoder.layer.1.attention.self.query.weight']\n",
            "You should probably TRAIN this model on a down-stream task to be able to use it for predictions and inference.\n"
          ]
        }
      ],
      "source": [
        "trainer = Trainer(args, train_dataset, valid_dataset, test_dataset)"
      ]
    },
    {
      "cell_type": "code",
      "execution_count": null,
      "metadata": {
        "id": "XoTrRNhZxRDU"
      },
      "outputs": [],
      "source": [
        "gc.collect()\n",
        "torch.cuda.empty_cache()"
      ]
    },
    {
      "cell_type": "code",
      "execution_count": null,
      "metadata": {
        "colab": {
          "base_uri": "https://localhost:8080/"
        },
        "id": "7xNxHo9NNbuK",
        "outputId": "8239ab8f-49d2-4da1-e32e-7e8e87b9df68"
      },
      "outputs": [
        {
          "name": "stderr",
          "output_type": "stream",
          "text": [
            "/usr/local/lib/python3.7/dist-packages/transformers/optimization.py:309: FutureWarning: This implementation of AdamW is deprecated and will be removed in a future version. Use the PyTorch implementation torch.optim.AdamW instead, or set `no_deprecation_warning=True` to disable this warning\n",
            "  FutureWarning,\n",
            "05/24/2022 19:14:55 - INFO - __main__ -   ***** Running training *****\n",
            "05/24/2022 19:14:55 - INFO - __main__ -     Num examples = 754\n",
            "05/24/2022 19:14:55 - INFO - __main__ -     Num Epochs = 30\n",
            "05/24/2022 19:14:55 - INFO - __main__ -     Total train batch size = 32\n",
            "05/24/2022 19:14:55 - INFO - __main__ -     Gradient Accumulation steps = 1\n",
            "05/24/2022 19:14:55 - INFO - __main__ -     Total optimization steps = 720\n",
            "05/24/2022 19:14:55 - INFO - __main__ -     Logging steps = 50\n",
            "05/24/2022 19:14:55 - INFO - __main__ -     Save steps = 250\n",
            "Epoch:   0%|          | 0/30 [00:00<?, ?it/s]05/24/2022 19:15:02 - INFO - __main__ -   Train loss = 1.0926\n",
            "05/24/2022 19:15:10 - INFO - __main__ -   Train loss = 1.0978\n",
            "05/24/2022 19:15:12 - INFO - __main__ -   train_acc = 38.1963\n",
            "Epoch:   3%|▎         | 1/30 [00:17<08:21, 17.30s/it]05/24/2022 19:15:17 - INFO - __main__ -   Train loss = 1.0926\n",
            "05/24/2022 19:15:24 - INFO - __main__ -   Train loss = 1.0925\n",
            "05/24/2022 19:15:30 - INFO - __main__ -   train_acc = 40.3183\n",
            "Epoch:   7%|▋         | 2/30 [00:35<08:14, 17.68s/it]05/24/2022 19:15:32 - INFO - __main__ -   Train loss = 1.0914\n",
            "05/24/2022 19:15:32 - INFO - __main__ -   \n",
            "***** Running evaluation on dev dataset *****\n",
            "05/24/2022 19:15:32 - INFO - __main__ -     Num examples = 270\n",
            "05/24/2022 19:15:32 - INFO - __main__ -     Batch size = 64\n",
            "05/24/2022 19:15:34 - INFO - __main__ -   ***** Eval results *****\n",
            "05/24/2022 19:15:34 - INFO - __main__ -     accuracy = 28.8889\n",
            "05/24/2022 19:15:34 - INFO - __main__ -     loss = 1.1316\n",
            "05/24/2022 19:15:34 - INFO - __main__ -   dev best_acc = 28.8889\n"
          ]
        },
        {
          "name": "stdout",
          "output_type": "stream",
          "text": [
            "{0}\n"
          ]
        },
        {
          "name": "stderr",
          "output_type": "stream",
          "text": [
            "05/24/2022 19:15:50 - INFO - __main__ -   Train loss = 1.0924\n",
            "05/24/2022 19:15:58 - INFO - __main__ -   Train loss = 1.0906\n",
            "05/24/2022 19:15:59 - INFO - __main__ -   train_acc = 40.0531\n",
            "Epoch:  10%|█         | 3/30 [01:03<10:12, 22.69s/it]05/24/2022 19:16:05 - INFO - __main__ -   Train loss = 1.0895\n",
            "05/24/2022 19:16:12 - INFO - __main__ -   Train loss = 1.0896\n",
            "05/24/2022 19:16:16 - INFO - __main__ -   train_acc = 40.3183\n",
            "Epoch:  13%|█▎        | 4/30 [01:21<08:56, 20.64s/it]05/24/2022 19:16:19 - INFO - __main__ -   Train loss = 1.0896\n",
            "05/24/2022 19:16:19 - INFO - __main__ -   \n",
            "***** Running evaluation on dev dataset *****\n",
            "05/24/2022 19:16:19 - INFO - __main__ -     Num examples = 270\n",
            "05/24/2022 19:16:19 - INFO - __main__ -     Batch size = 64\n",
            "05/24/2022 19:16:21 - INFO - __main__ -   ***** Eval results *****\n",
            "05/24/2022 19:16:21 - INFO - __main__ -     accuracy = 28.8889\n",
            "05/24/2022 19:16:21 - INFO - __main__ -     loss = 1.1287\n"
          ]
        },
        {
          "name": "stdout",
          "output_type": "stream",
          "text": [
            "{0}\n"
          ]
        },
        {
          "name": "stderr",
          "output_type": "stream",
          "text": [
            "05/24/2022 19:16:29 - INFO - __main__ -   Train loss = 1.0892\n",
            "05/24/2022 19:16:36 - INFO - __main__ -   Train loss = 1.0883\n",
            "05/24/2022 19:16:36 - INFO - __main__ -   train_acc = 40.4509\n",
            "Epoch:  17%|█▋        | 5/30 [01:40<08:25, 20.23s/it]05/24/2022 19:16:43 - INFO - __main__ -   Train loss = 1.0873\n",
            "05/24/2022 19:16:51 - INFO - __main__ -   Train loss = 1.0880\n",
            "05/24/2022 19:16:53 - INFO - __main__ -   train_acc = 40.3183\n",
            "Epoch:  20%|██        | 6/30 [01:58<07:42, 19.28s/it]05/24/2022 19:16:58 - INFO - __main__ -   Train loss = 1.0872\n",
            "05/24/2022 19:16:58 - INFO - __main__ -   \n",
            "***** Running evaluation on dev dataset *****\n",
            "05/24/2022 19:16:58 - INFO - __main__ -     Num examples = 270\n",
            "05/24/2022 19:16:58 - INFO - __main__ -     Batch size = 64\n",
            "05/24/2022 19:17:00 - INFO - __main__ -   ***** Eval results *****\n",
            "05/24/2022 19:17:00 - INFO - __main__ -     accuracy = 28.8889\n",
            "05/24/2022 19:17:00 - INFO - __main__ -     loss = 1.1375\n"
          ]
        },
        {
          "name": "stdout",
          "output_type": "stream",
          "text": [
            "{0}\n"
          ]
        },
        {
          "name": "stderr",
          "output_type": "stream",
          "text": [
            "05/24/2022 19:17:07 - INFO - __main__ -   Train loss = 1.0882\n",
            "05/24/2022 19:17:13 - INFO - __main__ -   train_acc = 40.3183\n",
            "Epoch:  23%|██▎       | 7/30 [02:17<07:23, 19.26s/it]05/24/2022 19:17:14 - INFO - __main__ -   Train loss = 1.0877\n",
            "05/24/2022 19:17:21 - INFO - __main__ -   Train loss = 1.0880\n",
            "05/24/2022 19:17:29 - INFO - __main__ -   Train loss = 1.0880\n",
            "05/24/2022 19:17:30 - INFO - __main__ -   train_acc = 40.3183\n",
            "Epoch:  27%|██▋       | 8/30 [02:34<06:50, 18.68s/it]05/24/2022 19:17:36 - INFO - __main__ -   Train loss = 1.0871\n",
            "05/24/2022 19:17:36 - INFO - __main__ -   \n",
            "***** Running evaluation on dev dataset *****\n",
            "05/24/2022 19:17:36 - INFO - __main__ -     Num examples = 270\n",
            "05/24/2022 19:17:36 - INFO - __main__ -     Batch size = 64\n",
            "05/24/2022 19:17:38 - INFO - __main__ -   ***** Eval results *****\n",
            "05/24/2022 19:17:38 - INFO - __main__ -     accuracy = 28.8889\n",
            "05/24/2022 19:17:38 - INFO - __main__ -     loss = 1.1328\n"
          ]
        },
        {
          "name": "stdout",
          "output_type": "stream",
          "text": [
            "{0}\n"
          ]
        },
        {
          "name": "stderr",
          "output_type": "stream",
          "text": [
            "05/24/2022 19:17:45 - INFO - __main__ -   Train loss = 1.0870\n",
            "05/24/2022 19:17:49 - INFO - __main__ -   train_acc = 40.3183\n",
            "Epoch:  30%|███       | 9/30 [02:54<06:36, 18.89s/it]05/24/2022 19:17:52 - INFO - __main__ -   Train loss = 1.0866\n",
            "05/24/2022 19:18:00 - INFO - __main__ -   Train loss = 1.0871\n",
            "05/24/2022 19:18:07 - INFO - __main__ -   Train loss = 1.0867\n",
            "05/24/2022 19:18:07 - INFO - __main__ -   train_acc = 40.7162\n",
            "Epoch:  33%|███▎      | 10/30 [03:11<06:09, 18.47s/it]05/24/2022 19:18:14 - INFO - __main__ -   Train loss = 1.0854\n",
            "05/24/2022 19:18:14 - INFO - __main__ -   \n",
            "***** Running evaluation on dev dataset *****\n",
            "05/24/2022 19:18:14 - INFO - __main__ -     Num examples = 270\n",
            "05/24/2022 19:18:14 - INFO - __main__ -     Batch size = 64\n",
            "05/24/2022 19:18:16 - INFO - __main__ -   ***** Eval results *****\n",
            "05/24/2022 19:18:16 - INFO - __main__ -     accuracy = 45.1852\n",
            "05/24/2022 19:18:16 - INFO - __main__ -     loss = 1.1041\n",
            "05/24/2022 19:18:16 - INFO - __main__ -   dev best_acc = 45.1852\n"
          ]
        },
        {
          "name": "stdout",
          "output_type": "stream",
          "text": [
            "{0, 1, 2}\n"
          ]
        },
        {
          "name": "stderr",
          "output_type": "stream",
          "text": [
            "05/24/2022 19:18:33 - INFO - __main__ -   Train loss = 1.0839\n",
            "05/24/2022 19:18:36 - INFO - __main__ -   train_acc = 44.2971\n",
            "Epoch:  37%|███▋      | 11/30 [03:40<06:50, 21.58s/it]05/24/2022 19:18:40 - INFO - __main__ -   Train loss = 1.0823\n",
            "05/24/2022 19:18:47 - INFO - __main__ -   Train loss = 1.0802\n",
            "05/24/2022 19:18:53 - INFO - __main__ -   train_acc = 48.5411\n",
            "Epoch:  40%|████      | 12/30 [03:58<06:06, 20.38s/it]05/24/2022 19:18:55 - INFO - __main__ -   Train loss = 1.0778\n",
            "05/24/2022 19:19:02 - INFO - __main__ -   Train loss = 1.0738\n",
            "05/24/2022 19:19:02 - INFO - __main__ -   \n",
            "***** Running evaluation on dev dataset *****\n",
            "05/24/2022 19:19:02 - INFO - __main__ -     Num examples = 270\n",
            "05/24/2022 19:19:02 - INFO - __main__ -     Batch size = 64\n",
            "05/24/2022 19:19:04 - INFO - __main__ -   ***** Eval results *****\n",
            "05/24/2022 19:19:04 - INFO - __main__ -     accuracy = 45.5556\n",
            "05/24/2022 19:19:04 - INFO - __main__ -     loss = 1.1035\n",
            "05/24/2022 19:19:04 - INFO - __main__ -   dev best_acc = 45.5556\n"
          ]
        },
        {
          "name": "stdout",
          "output_type": "stream",
          "text": [
            "{0, 1}\n"
          ]
        },
        {
          "name": "stderr",
          "output_type": "stream",
          "text": [
            "05/24/2022 19:19:21 - INFO - __main__ -   Train loss = 1.0700\n",
            "05/24/2022 19:19:22 - INFO - __main__ -   train_acc = 52.9178\n",
            "Epoch:  43%|████▎     | 13/30 [04:27<06:30, 22.95s/it]05/24/2022 19:19:28 - INFO - __main__ -   Train loss = 1.0666\n",
            "05/24/2022 19:19:35 - INFO - __main__ -   Train loss = 1.0607\n",
            "05/24/2022 19:19:40 - INFO - __main__ -   train_acc = 55.1724\n",
            "Epoch:  47%|████▋     | 14/30 [04:44<05:40, 21.30s/it]05/24/2022 19:19:43 - INFO - __main__ -   Train loss = 1.0573\n",
            "05/24/2022 19:19:50 - INFO - __main__ -   Train loss = 1.0529\n",
            "05/24/2022 19:19:50 - INFO - __main__ -   \n",
            "***** Running evaluation on dev dataset *****\n",
            "05/24/2022 19:19:50 - INFO - __main__ -     Num examples = 270\n",
            "05/24/2022 19:19:50 - INFO - __main__ -     Batch size = 64\n",
            "05/24/2022 19:19:52 - INFO - __main__ -   ***** Eval results *****\n",
            "05/24/2022 19:19:52 - INFO - __main__ -     accuracy = 39.6296\n",
            "05/24/2022 19:19:52 - INFO - __main__ -     loss = 1.2071\n"
          ]
        },
        {
          "name": "stdout",
          "output_type": "stream",
          "text": [
            "{0, 1, 2}\n"
          ]
        },
        {
          "name": "stderr",
          "output_type": "stream",
          "text": [
            "05/24/2022 19:19:59 - INFO - __main__ -   Train loss = 1.0485\n",
            "05/24/2022 19:19:59 - INFO - __main__ -   train_acc = 56.7639\n",
            "Epoch:  50%|█████     | 15/30 [05:04<05:11, 20.77s/it]05/24/2022 19:20:06 - INFO - __main__ -   Train loss = 1.0430\n",
            "05/24/2022 19:20:14 - INFO - __main__ -   Train loss = 1.0371\n",
            "05/24/2022 19:20:17 - INFO - __main__ -   train_acc = 60.7427\n",
            "Epoch:  53%|█████▎    | 16/30 [05:21<04:36, 19.77s/it]05/24/2022 19:20:21 - INFO - __main__ -   Train loss = 1.0303\n",
            "05/24/2022 19:20:28 - INFO - __main__ -   Train loss = 1.0242\n",
            "05/24/2022 19:20:28 - INFO - __main__ -   \n",
            "***** Running evaluation on dev dataset *****\n",
            "05/24/2022 19:20:28 - INFO - __main__ -     Num examples = 270\n",
            "05/24/2022 19:20:28 - INFO - __main__ -     Batch size = 64\n",
            "05/24/2022 19:20:30 - INFO - __main__ -   ***** Eval results *****\n",
            "05/24/2022 19:20:30 - INFO - __main__ -     accuracy = 44.8148\n",
            "05/24/2022 19:20:30 - INFO - __main__ -     loss = 1.1879\n"
          ]
        },
        {
          "name": "stdout",
          "output_type": "stream",
          "text": [
            "{0, 1}\n"
          ]
        },
        {
          "name": "stderr",
          "output_type": "stream",
          "text": [
            "05/24/2022 19:20:36 - INFO - __main__ -   train_acc = 61.5385\n",
            "Epoch:  57%|█████▋    | 17/30 [05:40<04:14, 19.61s/it]05/24/2022 19:20:37 - INFO - __main__ -   Train loss = 1.0186\n",
            "05/24/2022 19:20:45 - INFO - __main__ -   Train loss = 1.0120\n",
            "05/24/2022 19:20:52 - INFO - __main__ -   Train loss = 1.0059\n",
            "05/24/2022 19:20:53 - INFO - __main__ -   train_acc = 63.5279\n",
            "Epoch:  60%|██████    | 18/30 [05:58<03:47, 18.95s/it]05/24/2022 19:20:59 - INFO - __main__ -   Train loss = 0.9987\n",
            "05/24/2022 19:21:06 - INFO - __main__ -   Train loss = 0.9909\n",
            "05/24/2022 19:21:06 - INFO - __main__ -   \n",
            "***** Running evaluation on dev dataset *****\n",
            "05/24/2022 19:21:06 - INFO - __main__ -     Num examples = 270\n",
            "05/24/2022 19:21:06 - INFO - __main__ -     Batch size = 64\n",
            "05/24/2022 19:21:08 - INFO - __main__ -   ***** Eval results *****\n",
            "05/24/2022 19:21:08 - INFO - __main__ -     accuracy = 41.8519\n",
            "05/24/2022 19:21:08 - INFO - __main__ -     loss = 1.3490\n"
          ]
        },
        {
          "name": "stdout",
          "output_type": "stream",
          "text": [
            "{0, 1, 2}\n"
          ]
        },
        {
          "name": "stderr",
          "output_type": "stream",
          "text": [
            "05/24/2022 19:21:13 - INFO - __main__ -   train_acc = 64.0584\n",
            "Epoch:  63%|██████▎   | 19/30 [06:17<03:29, 19.08s/it]05/24/2022 19:21:15 - INFO - __main__ -   Train loss = 0.9845\n",
            "05/24/2022 19:21:23 - INFO - __main__ -   Train loss = 0.9770\n",
            "05/24/2022 19:21:30 - INFO - __main__ -   Train loss = 0.9693\n",
            "05/24/2022 19:21:30 - INFO - __main__ -   train_acc = 66.0477\n",
            "Epoch:  67%|██████▋   | 20/30 [06:34<03:06, 18.60s/it]05/24/2022 19:21:37 - INFO - __main__ -   Train loss = 0.9621\n",
            "05/24/2022 19:21:45 - INFO - __main__ -   Train loss = 0.9549\n",
            "05/24/2022 19:21:45 - INFO - __main__ -   \n",
            "***** Running evaluation on dev dataset *****\n",
            "05/24/2022 19:21:45 - INFO - __main__ -     Num examples = 270\n",
            "05/24/2022 19:21:45 - INFO - __main__ -     Batch size = 64\n",
            "05/24/2022 19:21:47 - INFO - __main__ -   ***** Eval results *****\n",
            "05/24/2022 19:21:47 - INFO - __main__ -     accuracy = 45.5556\n",
            "05/24/2022 19:21:47 - INFO - __main__ -     loss = 1.4077\n"
          ]
        },
        {
          "name": "stdout",
          "output_type": "stream",
          "text": [
            "{0, 1, 2}\n"
          ]
        },
        {
          "name": "stderr",
          "output_type": "stream",
          "text": [
            "05/24/2022 19:21:49 - INFO - __main__ -   train_acc = 67.1088\n",
            "Epoch:  70%|███████   | 21/30 [06:54<02:49, 18.83s/it]05/24/2022 19:21:54 - INFO - __main__ -   Train loss = 0.9468\n",
            "05/24/2022 19:22:01 - INFO - __main__ -   Train loss = 0.9402\n",
            "05/24/2022 19:22:07 - INFO - __main__ -   train_acc = 72.5464\n",
            "Epoch:  73%|███████▎  | 22/30 [07:11<02:27, 18.42s/it]05/24/2022 19:22:08 - INFO - __main__ -   Train loss = 0.9333\n",
            "05/24/2022 19:22:16 - INFO - __main__ -   Train loss = 0.9263\n",
            "05/24/2022 19:22:23 - INFO - __main__ -   Train loss = 0.9195\n",
            "05/24/2022 19:22:23 - INFO - __main__ -   \n",
            "***** Running evaluation on dev dataset *****\n",
            "05/24/2022 19:22:23 - INFO - __main__ -     Num examples = 270\n",
            "05/24/2022 19:22:23 - INFO - __main__ -     Batch size = 64\n",
            "05/24/2022 19:22:25 - INFO - __main__ -   ***** Eval results *****\n",
            "05/24/2022 19:22:25 - INFO - __main__ -     accuracy = 49.6296\n",
            "05/24/2022 19:22:25 - INFO - __main__ -     loss = 1.4641\n",
            "05/24/2022 19:22:25 - INFO - __main__ -   dev best_acc = 49.6296\n"
          ]
        },
        {
          "name": "stdout",
          "output_type": "stream",
          "text": [
            "{0, 1, 2}\n"
          ]
        },
        {
          "name": "stderr",
          "output_type": "stream",
          "text": [
            "05/24/2022 19:22:36 - INFO - __main__ -   train_acc = 77.1883\n",
            "Epoch:  77%|███████▋  | 23/30 [07:40<02:30, 21.54s/it]05/24/2022 19:22:41 - INFO - __main__ -   Train loss = 0.9128\n",
            "05/24/2022 19:22:49 - INFO - __main__ -   Train loss = 0.9058\n",
            "05/24/2022 19:22:53 - INFO - __main__ -   train_acc = 79.5756\n",
            "Epoch:  80%|████████  | 24/30 [07:57<02:01, 20.28s/it]05/24/2022 19:22:56 - INFO - __main__ -   Train loss = 0.8990\n",
            "05/24/2022 19:23:04 - INFO - __main__ -   Train loss = 0.8922\n",
            "05/24/2022 19:23:11 - INFO - __main__ -   Train loss = 0.8856\n",
            "05/24/2022 19:23:11 - INFO - __main__ -   \n",
            "***** Running evaluation on dev dataset *****\n",
            "05/24/2022 19:23:11 - INFO - __main__ -     Num examples = 270\n",
            "05/24/2022 19:23:11 - INFO - __main__ -     Batch size = 64\n",
            "05/24/2022 19:23:13 - INFO - __main__ -   ***** Eval results *****\n",
            "05/24/2022 19:23:13 - INFO - __main__ -     accuracy = 50.3704\n",
            "05/24/2022 19:23:13 - INFO - __main__ -     loss = 1.4335\n",
            "05/24/2022 19:23:13 - INFO - __main__ -   dev best_acc = 50.3704\n"
          ]
        },
        {
          "name": "stdout",
          "output_type": "stream",
          "text": [
            "{0, 1, 2}\n"
          ]
        },
        {
          "name": "stderr",
          "output_type": "stream",
          "text": [
            "05/24/2022 19:23:22 - INFO - __main__ -   train_acc = 83.6870\n",
            "Epoch:  83%|████████▎ | 25/30 [08:27<01:54, 22.98s/it]05/24/2022 19:23:30 - INFO - __main__ -   Train loss = 0.8783\n",
            "05/24/2022 19:23:37 - INFO - __main__ -   Train loss = 0.8724\n",
            "05/24/2022 19:23:40 - INFO - __main__ -   train_acc = 84.6154\n",
            "Epoch:  87%|████████▋ | 26/30 [08:44<01:25, 21.29s/it]05/24/2022 19:23:44 - INFO - __main__ -   Train loss = 0.8659\n",
            "05/24/2022 19:23:52 - INFO - __main__ -   Train loss = 0.8594\n",
            "05/24/2022 19:23:57 - INFO - __main__ -   train_acc = 87.1353\n",
            "Epoch:  90%|█████████ | 27/30 [09:02<01:00, 20.18s/it]05/24/2022 19:23:59 - INFO - __main__ -   Train loss = 0.8529\n",
            "05/24/2022 19:23:59 - INFO - __main__ -   \n",
            "***** Running evaluation on dev dataset *****\n",
            "05/24/2022 19:23:59 - INFO - __main__ -     Num examples = 270\n",
            "05/24/2022 19:23:59 - INFO - __main__ -     Batch size = 64\n",
            "05/24/2022 19:24:01 - INFO - __main__ -   ***** Eval results *****\n",
            "05/24/2022 19:24:01 - INFO - __main__ -     accuracy = 51.1111\n",
            "05/24/2022 19:24:01 - INFO - __main__ -     loss = 1.4645\n",
            "05/24/2022 19:24:01 - INFO - __main__ -   dev best_acc = 51.1111\n"
          ]
        },
        {
          "name": "stdout",
          "output_type": "stream",
          "text": [
            "{0, 1, 2}\n"
          ]
        },
        {
          "name": "stderr",
          "output_type": "stream",
          "text": [
            "05/24/2022 19:24:17 - INFO - __main__ -   Train loss = 0.8464\n",
            "05/24/2022 19:24:25 - INFO - __main__ -   Train loss = 0.8401\n",
            "05/24/2022 19:24:26 - INFO - __main__ -   train_acc = 90.1857\n",
            "Epoch:  93%|█████████▎| 28/30 [09:30<00:45, 22.72s/it]05/24/2022 19:24:32 - INFO - __main__ -   Train loss = 0.8341\n",
            "05/24/2022 19:24:39 - INFO - __main__ -   Train loss = 0.8281\n",
            "05/24/2022 19:24:44 - INFO - __main__ -   train_acc = 88.8594\n",
            "Epoch:  97%|█████████▋| 29/30 [09:48<00:21, 21.23s/it]05/24/2022 19:24:47 - INFO - __main__ -   Train loss = 0.8219\n",
            "05/24/2022 19:24:47 - INFO - __main__ -   \n",
            "***** Running evaluation on dev dataset *****\n",
            "05/24/2022 19:24:47 - INFO - __main__ -     Num examples = 270\n",
            "05/24/2022 19:24:47 - INFO - __main__ -     Batch size = 64\n",
            "05/24/2022 19:24:49 - INFO - __main__ -   ***** Eval results *****\n",
            "05/24/2022 19:24:49 - INFO - __main__ -     accuracy = 50.3704\n",
            "05/24/2022 19:24:49 - INFO - __main__ -     loss = 1.4542\n"
          ]
        },
        {
          "name": "stdout",
          "output_type": "stream",
          "text": [
            "{0, 1, 2}\n"
          ]
        },
        {
          "name": "stderr",
          "output_type": "stream",
          "text": [
            "05/24/2022 19:24:56 - INFO - __main__ -   Train loss = 0.8158\n",
            "05/24/2022 19:25:03 - INFO - __main__ -   Train loss = 0.8103\n",
            "05/24/2022 19:25:03 - INFO - __main__ -   train_acc = 90.7162\n",
            "Epoch: 100%|██████████| 30/30 [10:08<00:00, 20.27s/it]\n",
            "05/24/2022 19:25:03 - INFO - __main__ -   \n",
            "***** Running evaluation on test dataset *****\n",
            "05/24/2022 19:25:03 - INFO - __main__ -     Num examples = 1673\n",
            "05/24/2022 19:25:03 - INFO - __main__ -     Batch size = 64\n",
            "05/24/2022 19:25:15 - INFO - __main__ -   ***** Eval results *****\n",
            "05/24/2022 19:25:15 - INFO - __main__ -     accuracy = 52.3013\n",
            "05/24/2022 19:25:15 - INFO - __main__ -     loss = 1.3723\n"
          ]
        },
        {
          "name": "stdout",
          "output_type": "stream",
          "text": [
            "{0, 1, 2}\n",
            "              precision    recall  f1-score   support\n",
            "\n",
            "           e     0.5728    0.5033    0.5358       610\n",
            "           c     0.4948    0.5882    0.5375       561\n",
            "           n     0.5064    0.4741    0.4897       502\n",
            "\n",
            "    accuracy                         0.5230      1673\n",
            "   macro avg     0.5246    0.5219    0.5210      1673\n",
            "weighted avg     0.5267    0.5230    0.5225      1673\n",
            "\n"
          ]
        }
      ],
      "source": [
        "if args.do_train:\n",
        "    # trainer.load_model()\n",
        "    trainer.train()\n",
        "\n",
        "if args.do_eval:\n",
        "    # trainer.load_model()\n",
        "    trainer.evaluate(\"test\")"
      ]
    },
    {
      "cell_type": "markdown",
      "metadata": {
        "id": "qU03p6smadZ8"
      },
      "source": [
        "Using ParsBert"
      ]
    },
    {
      "cell_type": "code",
      "execution_count": 59,
      "metadata": {
        "id": "geVV6T2aaRaM"
      },
      "outputs": [],
      "source": [
        "# using parsbert\n",
        "args.dropout_rate =  0.2\n",
        "args.learning_rate = 2e-5 \n",
        "args.train_batch_size = 16\n",
        "args.num_train_epochs = 15\n",
        "args.max_seq_len = 64\n",
        "args.model_type = 'parsbert' \n",
        "args.model_name_or_path = MODEL_PATH_MAP[args.model_type]\n",
        "args.model_dir = \"Textual_Entailement_model_\" + args.model_type\n",
        "\n",
        "init_logger()\n",
        "set_seed(args)\n",
        "tokenizer = load_tokenizer(args)"
      ]
    },
    {
      "cell_type": "code",
      "execution_count": null,
      "metadata": {
        "id": "Sv7Z6f9taWAE"
      },
      "outputs": [],
      "source": [
        "train_dataset = prepare_dataset(dataset['train'], args, tokenizer)\n",
        "valid_dataset = prepare_dataset(dataset['validation'], args, tokenizer)\n",
        "test_dataset = prepare_dataset(dataset['test'], args, tokenizer)"
      ]
    },
    {
      "cell_type": "code",
      "execution_count": 77,
      "metadata": {
        "colab": {
          "base_uri": "https://localhost:8080/"
        },
        "id": "qHd-w6a-aXSP",
        "outputId": "c0a159f7-d3e5-46d5-cd70-54254d43aee7"
      },
      "outputs": [
        {
          "name": "stderr",
          "output_type": "stream",
          "text": [
            "Some weights of the model checkpoint at HooshvareLab/bert-fa-zwnj-base were not used when initializing ParsBERT_Textual_Entailement: ['cls.predictions.transform.dense.weight', 'cls.predictions.decoder.bias', 'cls.predictions.transform.LayerNorm.bias', 'cls.predictions.decoder.weight', 'cls.predictions.transform.dense.bias', 'cls.predictions.transform.LayerNorm.weight', 'cls.predictions.bias']\n",
            "- This IS expected if you are initializing ParsBERT_Textual_Entailement from the checkpoint of a model trained on another task or with another architecture (e.g. initializing a BertForSequenceClassification model from a BertForPreTraining model).\n",
            "- This IS NOT expected if you are initializing ParsBERT_Textual_Entailement from the checkpoint of a model that you expect to be exactly identical (initializing a BertForSequenceClassification model from a BertForSequenceClassification model).\n",
            "Some weights of ParsBERT_Textual_Entailement were not initialized from the model checkpoint at HooshvareLab/bert-fa-zwnj-base and are newly initialized: ['bert.parsbert.encoder.layer.10.attention.output.dense.bias', 'bert.parsbert.encoder.layer.10.attention.self.value.weight', 'bert.parsbert.embeddings.LayerNorm.bias', 'bert.parsbert.encoder.layer.5.attention.output.LayerNorm.bias', 'bert.parsbert.encoder.layer.10.attention.self.value.bias', 'bert.parsbert.encoder.layer.9.attention.output.dense.weight', 'bert.parsbert.encoder.layer.5.attention.self.query.bias', 'bert.parsbert.encoder.layer.11.attention.self.query.bias', 'bert.parsbert.encoder.layer.3.output.LayerNorm.bias', 'bert.parsbert.encoder.layer.5.attention.self.value.weight', 'bert.parsbert.encoder.layer.8.output.dense.weight', 'bert.parsbert.encoder.layer.1.output.LayerNorm.weight', 'bert.parsbert.encoder.layer.3.attention.self.value.bias', 'bert.parsbert.encoder.layer.2.attention.self.query.bias', 'bert.parsbert.encoder.layer.2.attention.self.value.bias', 'bert.classifier.linear2.bias', 'bert.classifier.linear1.weight', 'bert.parsbert.encoder.layer.9.attention.output.LayerNorm.weight', 'bert.parsbert.pooler.dense.bias', 'bert.parsbert.encoder.layer.2.attention.output.LayerNorm.bias', 'bert.parsbert.encoder.layer.9.attention.self.value.bias', 'bert.parsbert.encoder.layer.8.output.LayerNorm.weight', 'bert.parsbert.encoder.layer.11.attention.output.LayerNorm.weight', 'bert.parsbert.encoder.layer.2.attention.self.query.weight', 'bert.parsbert.encoder.layer.11.attention.self.key.weight', 'bert.parsbert.encoder.layer.0.attention.self.query.bias', 'bert.parsbert.encoder.layer.11.intermediate.dense.weight', 'bert.parsbert.encoder.layer.4.output.LayerNorm.weight', 'bert.parsbert.encoder.layer.5.attention.self.value.bias', 'bert.parsbert.encoder.layer.0.attention.self.value.weight', 'bert.parsbert.encoder.layer.9.attention.output.dense.bias', 'bert.parsbert.encoder.layer.11.output.LayerNorm.weight', 'bert.parsbert.encoder.layer.5.attention.self.query.weight', 'bert.parsbert.embeddings.token_type_embeddings.weight', 'bert.parsbert.encoder.layer.9.output.dense.bias', 'bert.parsbert.encoder.layer.3.attention.self.value.weight', 'bert.parsbert.encoder.layer.5.output.dense.bias', 'bert.parsbert.encoder.layer.7.attention.self.query.bias', 'bert.parsbert.encoder.layer.10.output.LayerNorm.weight', 'bert.parsbert.encoder.layer.10.attention.self.query.weight', 'bert.parsbert.encoder.layer.2.output.LayerNorm.bias', 'bert.parsbert.encoder.layer.0.attention.self.key.weight', 'bert.parsbert.encoder.layer.9.attention.self.query.bias', 'bert.parsbert.encoder.layer.6.attention.self.query.weight', 'bert.parsbert.encoder.layer.7.intermediate.dense.bias', 'bert.parsbert.encoder.layer.10.attention.output.LayerNorm.bias', 'bert.parsbert.encoder.layer.3.intermediate.dense.bias', 'bert.parsbert.encoder.layer.4.attention.self.query.weight', 'bert.parsbert.encoder.layer.4.output.dense.bias', 'bert.parsbert.encoder.layer.6.attention.self.key.weight', 'bert.parsbert.encoder.layer.1.attention.output.dense.weight', 'bert.parsbert.encoder.layer.5.attention.self.key.weight', 'bert.parsbert.encoder.layer.5.output.LayerNorm.weight', 'bert.parsbert.encoder.layer.6.output.dense.bias', 'bert.parsbert.encoder.layer.2.intermediate.dense.weight', 'bert.parsbert.encoder.layer.1.output.LayerNorm.bias', 'bert.parsbert.encoder.layer.8.attention.output.LayerNorm.weight', 'bert.parsbert.encoder.layer.2.attention.self.key.weight', 'bert.parsbert.encoder.layer.9.output.LayerNorm.weight', 'bert.parsbert.encoder.layer.6.attention.output.dense.bias', 'bert.parsbert.encoder.layer.0.attention.self.key.bias', 'bert.parsbert.encoder.layer.1.output.dense.bias', 'bert.parsbert.encoder.layer.1.attention.output.dense.bias', 'bert.parsbert.encoder.layer.2.output.dense.weight', 'bert.parsbert.encoder.layer.11.output.LayerNorm.bias', 'bert.parsbert.encoder.layer.11.attention.output.dense.bias', 'bert.parsbert.encoder.layer.2.attention.output.LayerNorm.weight', 'bert.parsbert.encoder.layer.6.intermediate.dense.bias', 'bert.parsbert.embeddings.position_embeddings.weight', 'bert.parsbert.encoder.layer.11.intermediate.dense.bias', 'bert.parsbert.encoder.layer.0.intermediate.dense.bias', 'bert.parsbert.encoder.layer.3.attention.output.LayerNorm.weight', 'bert.parsbert.encoder.layer.0.output.dense.weight', 'bert.parsbert.encoder.layer.3.attention.self.key.weight', 'bert.parsbert.encoder.layer.9.intermediate.dense.bias', 'bert.parsbert.encoder.layer.9.attention.self.query.weight', 'bert.parsbert.encoder.layer.4.attention.self.value.bias', 'bert.parsbert.encoder.layer.4.intermediate.dense.bias', 'bert.parsbert.encoder.layer.7.attention.self.query.weight', 'bert.parsbert.pooler.dense.weight', 'bert.parsbert.encoder.layer.8.attention.output.dense.weight', 'bert.parsbert.encoder.layer.4.intermediate.dense.weight', 'bert.parsbert.encoder.layer.10.attention.self.key.bias', 'bert.parsbert.encoder.layer.9.output.dense.weight', 'bert.parsbert.encoder.layer.9.attention.self.key.weight', 'bert.pooler.dense.weight', 'bert.parsbert.encoder.layer.1.attention.output.LayerNorm.weight', 'bert.parsbert.embeddings.LayerNorm.weight', 'bert.parsbert.encoder.layer.1.attention.self.value.weight', 'bert.parsbert.encoder.layer.0.intermediate.dense.weight', 'bert.parsbert.encoder.layer.8.attention.output.dense.bias', 'bert.parsbert.encoder.layer.5.attention.output.dense.weight', 'bert.parsbert.encoder.layer.0.attention.output.LayerNorm.bias', 'bert.parsbert.encoder.layer.11.attention.self.query.weight', 'bert.parsbert.encoder.layer.6.output.LayerNorm.weight', 'bert.parsbert.encoder.layer.9.output.LayerNorm.bias', 'bert.parsbert.encoder.layer.2.attention.output.dense.weight', 'bert.parsbert.encoder.layer.10.attention.self.query.bias', 'bert.parsbert.encoder.layer.3.output.LayerNorm.weight', 'bert.parsbert.encoder.layer.11.output.dense.weight', 'bert.parsbert.encoder.layer.1.attention.self.key.bias', 'bert.parsbert.encoder.layer.8.attention.self.key.weight', 'bert.parsbert.encoder.layer.8.attention.self.query.bias', 'bert.parsbert.encoder.layer.6.attention.output.LayerNorm.weight', 'bert.parsbert.encoder.layer.3.attention.output.dense.bias', 'bert.parsbert.encoder.layer.0.attention.output.dense.weight', 'bert.parsbert.encoder.layer.8.attention.self.query.weight', 'bert.parsbert.encoder.layer.10.attention.self.key.weight', 'bert.parsbert.encoder.layer.4.attention.self.query.bias', 'bert.parsbert.encoder.layer.7.attention.output.dense.bias', 'bert.parsbert.encoder.layer.11.attention.output.LayerNorm.bias', 'bert.parsbert.encoder.layer.3.attention.output.dense.weight', 'bert.parsbert.encoder.layer.6.attention.self.query.bias', 'bert.parsbert.encoder.layer.8.output.dense.bias', 'bert.parsbert.encoder.layer.3.intermediate.dense.weight', 'bert.parsbert.encoder.layer.9.attention.self.value.weight', 'bert.parsbert.encoder.layer.1.attention.self.value.bias', 'bert.parsbert.encoder.layer.3.output.dense.bias', 'bert.parsbert.encoder.layer.4.output.LayerNorm.bias', 'bert.parsbert.encoder.layer.3.attention.self.query.weight', 'bert.parsbert.encoder.layer.11.output.dense.bias', 'bert.parsbert.encoder.layer.7.attention.self.value.weight', 'bert.parsbert.encoder.layer.10.output.dense.weight', 'bert.parsbert.encoder.layer.11.attention.self.value.bias', 'bert.parsbert.encoder.layer.4.attention.self.key.weight', 'bert.parsbert.encoder.layer.0.output.dense.bias', 'bert.classifier.linear2.weight', 'bert.parsbert.encoder.layer.0.attention.self.value.bias', 'bert.parsbert.encoder.layer.8.attention.self.key.bias', 'bert.parsbert.encoder.layer.10.attention.output.LayerNorm.weight', 'bert.parsbert.encoder.layer.6.intermediate.dense.weight', 'bert.parsbert.encoder.layer.6.attention.self.value.weight', 'bert.parsbert.encoder.layer.7.output.dense.weight', 'bert.parsbert.encoder.layer.6.attention.output.dense.weight', 'bert.parsbert.encoder.layer.7.output.LayerNorm.weight', 'bert.parsbert.encoder.layer.9.attention.self.key.bias', 'bert.parsbert.encoder.layer.11.attention.self.value.weight', 'bert.parsbert.encoder.layer.0.output.LayerNorm.weight', 'bert.parsbert.encoder.layer.5.intermediate.dense.bias', 'bert.parsbert.encoder.layer.3.attention.self.query.bias', 'bert.parsbert.encoder.layer.2.intermediate.dense.bias', 'bert.parsbert.encoder.layer.1.intermediate.dense.weight', 'bert.parsbert.encoder.layer.7.attention.self.value.bias', 'bert.pooler.dense.bias', 'bert.parsbert.encoder.layer.4.attention.output.dense.bias', 'bert.parsbert.encoder.layer.9.attention.output.LayerNorm.bias', 'bert.parsbert.encoder.layer.1.attention.output.LayerNorm.bias', 'bert.parsbert.encoder.layer.6.output.LayerNorm.bias', 'bert.parsbert.encoder.layer.8.intermediate.dense.weight', 'bert.parsbert.encoder.layer.8.attention.self.value.bias', 'bert.parsbert.encoder.layer.8.intermediate.dense.bias', 'bert.parsbert.encoder.layer.7.attention.self.key.weight', 'bert.parsbert.encoder.layer.6.output.dense.weight', 'bert.parsbert.encoder.layer.10.output.dense.bias', 'bert.parsbert.encoder.layer.4.output.dense.weight', 'bert.parsbert.encoder.layer.5.attention.output.dense.bias', 'bert.parsbert.encoder.layer.8.attention.output.LayerNorm.bias', 'bert.parsbert.encoder.layer.3.output.dense.weight', 'bert.parsbert.encoder.layer.6.attention.output.LayerNorm.bias', 'bert.parsbert.encoder.layer.7.attention.self.key.bias', 'bert.parsbert.encoder.layer.4.attention.self.value.weight', 'bert.parsbert.encoder.layer.4.attention.self.key.bias', 'bert.parsbert.encoder.layer.5.attention.output.LayerNorm.weight', 'bert.parsbert.encoder.layer.7.attention.output.dense.weight', 'bert.parsbert.encoder.layer.7.output.dense.bias', 'bert.parsbert.encoder.layer.1.intermediate.dense.bias', 'bert.parsbert.encoder.layer.0.attention.self.query.weight', 'bert.parsbert.encoder.layer.0.attention.output.dense.bias', 'bert.parsbert.encoder.layer.5.output.LayerNorm.bias', 'bert.parsbert.encoder.layer.9.intermediate.dense.weight', 'bert.parsbert.encoder.layer.4.attention.output.LayerNorm.bias', 'bert.parsbert.encoder.layer.2.output.LayerNorm.weight', 'bert.parsbert.encoder.layer.5.attention.self.key.bias', 'bert.parsbert.encoder.layer.0.attention.output.LayerNorm.weight', 'bert.parsbert.encoder.layer.3.attention.output.LayerNorm.bias', 'bert.parsbert.encoder.layer.10.attention.output.dense.weight', 'bert.parsbert.encoder.layer.2.attention.self.key.bias', 'bert.parsbert.encoder.layer.10.intermediate.dense.bias', 'bert.parsbert.encoder.layer.2.output.dense.bias', 'bert.parsbert.encoder.layer.3.attention.self.key.bias', 'bert.parsbert.encoder.layer.2.attention.output.dense.bias', 'bert.parsbert.encoder.layer.10.output.LayerNorm.bias', 'bert.parsbert.encoder.layer.8.attention.self.value.weight', 'bert.parsbert.encoder.layer.2.attention.self.value.weight', 'bert.parsbert.embeddings.word_embeddings.weight', 'bert.parsbert.encoder.layer.1.attention.self.query.weight', 'bert.parsbert.encoder.layer.6.attention.self.key.bias', 'bert.parsbert.encoder.layer.1.attention.self.key.weight', 'bert.parsbert.encoder.layer.1.output.dense.weight', 'bert.parsbert.encoder.layer.1.attention.self.query.bias', 'bert.parsbert.encoder.layer.7.attention.output.LayerNorm.bias', 'bert.parsbert.encoder.layer.4.attention.output.dense.weight', 'bert.parsbert.encoder.layer.7.attention.output.LayerNorm.weight', 'bert.parsbert.encoder.layer.7.output.LayerNorm.bias', 'bert.parsbert.encoder.layer.11.attention.output.dense.weight', 'bert.classifier.linear1.bias', 'bert.parsbert.encoder.layer.7.intermediate.dense.weight', 'bert.parsbert.encoder.layer.10.intermediate.dense.weight', 'bert.parsbert.encoder.layer.11.attention.self.key.bias', 'bert.parsbert.encoder.layer.5.intermediate.dense.weight', 'bert.parsbert.encoder.layer.5.output.dense.weight', 'bert.parsbert.encoder.layer.0.output.LayerNorm.bias', 'bert.parsbert.encoder.layer.6.attention.self.value.bias', 'bert.parsbert.encoder.layer.8.output.LayerNorm.bias', 'bert.parsbert.encoder.layer.4.attention.output.LayerNorm.weight']\n",
            "You should probably TRAIN this model on a down-stream task to be able to use it for predictions and inference.\n"
          ]
        }
      ],
      "source": [
        "trainer = Trainer(args, train_dataset, valid_dataset, test_dataset)"
      ]
    },
    {
      "cell_type": "code",
      "execution_count": 78,
      "metadata": {
        "colab": {
          "base_uri": "https://localhost:8080/"
        },
        "id": "I__jE55zSBAa",
        "outputId": "79c43755-3edb-4805-d738-486876f7711b"
      },
      "outputs": [
        {
          "name": "stderr",
          "output_type": "stream",
          "text": [
            "/usr/local/lib/python3.7/dist-packages/transformers/optimization.py:309: FutureWarning: This implementation of AdamW is deprecated and will be removed in a future version. Use the PyTorch implementation torch.optim.AdamW instead, or set `no_deprecation_warning=True` to disable this warning\n",
            "  FutureWarning,\n",
            "05/25/2022 09:36:19 - INFO - __main__ -   ***** Running training *****\n",
            "05/25/2022 09:36:19 - INFO - __main__ -     Num examples = 754\n",
            "05/25/2022 09:36:19 - INFO - __main__ -     Num Epochs = 15\n",
            "05/25/2022 09:36:19 - INFO - __main__ -     Total train batch size = 16\n",
            "05/25/2022 09:36:19 - INFO - __main__ -     Gradient Accumulation steps = 1\n",
            "05/25/2022 09:36:19 - INFO - __main__ -     Total optimization steps = 720\n",
            "05/25/2022 09:36:19 - INFO - __main__ -     Logging steps = 50\n",
            "05/25/2022 09:36:19 - INFO - __main__ -     Save steps = 250\n",
            "Epoch:   0%|          | 0/15 [00:00<?, ?it/s]05/25/2022 09:36:21 - INFO - __main__ -   Train loss = 1.1036\n",
            "05/25/2022 09:36:24 - INFO - __main__ -   Train loss = 1.1105\n",
            "05/25/2022 09:36:26 - INFO - __main__ -   Train loss = 1.1007\n",
            "05/25/2022 09:36:28 - INFO - __main__ -   Train loss = 1.0936\n",
            "05/25/2022 09:36:30 - INFO - __main__ -   train_acc = 36.6048\n",
            "Epoch:   7%|▋         | 1/15 [00:10<02:27, 10.54s/it]05/25/2022 09:36:30 - INFO - __main__ -   Train loss = 1.0997\n",
            "05/25/2022 09:36:30 - INFO - __main__ -   \n",
            "***** Running evaluation on dev dataset *****\n",
            "05/25/2022 09:36:30 - INFO - __main__ -     Num examples = 270\n",
            "05/25/2022 09:36:30 - INFO - __main__ -     Batch size = 64\n",
            "05/25/2022 09:36:31 - INFO - __main__ -   ***** Eval results *****\n",
            "05/25/2022 09:36:31 - INFO - __main__ -     accuracy = 28.8889\n",
            "05/25/2022 09:36:31 - INFO - __main__ -     loss = 1.1185\n",
            "05/25/2022 09:36:31 - INFO - __main__ -   dev best_acc = 28.8889\n"
          ]
        },
        {
          "name": "stdout",
          "output_type": "stream",
          "text": [
            "{0}\n"
          ]
        },
        {
          "name": "stderr",
          "output_type": "stream",
          "text": [
            "05/25/2022 09:36:37 - INFO - __main__ -   Train loss = 1.0939\n",
            "05/25/2022 09:36:39 - INFO - __main__ -   Train loss = 1.0995\n",
            "05/25/2022 09:36:41 - INFO - __main__ -   Train loss = 1.0970\n",
            "05/25/2022 09:36:44 - INFO - __main__ -   Train loss = 1.0952\n",
            "05/25/2022 09:36:45 - INFO - __main__ -   train_acc = 40.1857\n",
            "Epoch:  13%|█▎        | 2/15 [00:25<02:53, 13.36s/it]05/25/2022 09:36:46 - INFO - __main__ -   Train loss = 1.0956\n",
            "05/25/2022 09:36:46 - INFO - __main__ -   \n",
            "***** Running evaluation on dev dataset *****\n",
            "05/25/2022 09:36:46 - INFO - __main__ -     Num examples = 270\n",
            "05/25/2022 09:36:46 - INFO - __main__ -     Batch size = 64\n",
            "05/25/2022 09:36:47 - INFO - __main__ -   ***** Eval results *****\n",
            "05/25/2022 09:36:47 - INFO - __main__ -     accuracy = 34.8148\n",
            "05/25/2022 09:36:47 - INFO - __main__ -     loss = 1.1313\n",
            "05/25/2022 09:36:47 - INFO - __main__ -   dev best_acc = 34.8148\n"
          ]
        },
        {
          "name": "stdout",
          "output_type": "stream",
          "text": [
            "{0, 2}\n"
          ]
        },
        {
          "name": "stderr",
          "output_type": "stream",
          "text": [
            "05/25/2022 09:36:53 - INFO - __main__ -   Train loss = 1.0953\n",
            "05/25/2022 09:36:55 - INFO - __main__ -   Train loss = 1.0950\n",
            "05/25/2022 09:36:57 - INFO - __main__ -   Train loss = 1.0938\n",
            "05/25/2022 09:37:00 - INFO - __main__ -   Train loss = 1.0940\n",
            "05/25/2022 09:37:00 - INFO - __main__ -   train_acc = 38.8594\n",
            "Epoch:  20%|██        | 3/15 [00:41<02:51, 14.32s/it]05/25/2022 09:37:02 - INFO - __main__ -   Train loss = 1.0925\n",
            "05/25/2022 09:37:02 - INFO - __main__ -   \n",
            "***** Running evaluation on dev dataset *****\n",
            "05/25/2022 09:37:02 - INFO - __main__ -     Num examples = 270\n",
            "05/25/2022 09:37:02 - INFO - __main__ -     Batch size = 64\n",
            "05/25/2022 09:37:03 - INFO - __main__ -   ***** Eval results *****\n",
            "05/25/2022 09:37:03 - INFO - __main__ -     accuracy = 32.9630\n",
            "05/25/2022 09:37:03 - INFO - __main__ -     loss = 1.1174\n"
          ]
        },
        {
          "name": "stdout",
          "output_type": "stream",
          "text": [
            "{0, 2}\n"
          ]
        },
        {
          "name": "stderr",
          "output_type": "stream",
          "text": [
            "05/25/2022 09:37:05 - INFO - __main__ -   Train loss = 1.0914\n",
            "05/25/2022 09:37:07 - INFO - __main__ -   Train loss = 1.0907\n",
            "05/25/2022 09:37:09 - INFO - __main__ -   Train loss = 1.0915\n",
            "05/25/2022 09:37:12 - INFO - __main__ -   Train loss = 1.0905\n",
            "05/25/2022 09:37:12 - INFO - __main__ -   train_acc = 40.3183\n",
            "Epoch:  27%|██▋       | 4/15 [00:52<02:25, 13.23s/it]05/25/2022 09:37:14 - INFO - __main__ -   Train loss = 1.0901\n",
            "05/25/2022 09:37:14 - INFO - __main__ -   \n",
            "***** Running evaluation on dev dataset *****\n",
            "05/25/2022 09:37:14 - INFO - __main__ -     Num examples = 270\n",
            "05/25/2022 09:37:14 - INFO - __main__ -     Batch size = 64\n",
            "05/25/2022 09:37:15 - INFO - __main__ -   ***** Eval results *****\n",
            "05/25/2022 09:37:15 - INFO - __main__ -     accuracy = 28.8889\n",
            "05/25/2022 09:37:15 - INFO - __main__ -     loss = 1.1197\n"
          ]
        },
        {
          "name": "stdout",
          "output_type": "stream",
          "text": [
            "{0, 2}\n"
          ]
        },
        {
          "name": "stderr",
          "output_type": "stream",
          "text": [
            "05/25/2022 09:37:17 - INFO - __main__ -   Train loss = 1.0896\n",
            "05/25/2022 09:37:19 - INFO - __main__ -   Train loss = 1.0887\n",
            "05/25/2022 09:37:21 - INFO - __main__ -   Train loss = 1.0862\n",
            "05/25/2022 09:37:23 - INFO - __main__ -   Train loss = 1.0849\n",
            "05/25/2022 09:37:23 - INFO - __main__ -   train_acc = 43.6340\n",
            "Epoch:  33%|███▎      | 5/15 [01:04<02:05, 12.57s/it]05/25/2022 09:37:26 - INFO - __main__ -   Train loss = 1.0836\n",
            "05/25/2022 09:37:26 - INFO - __main__ -   \n",
            "***** Running evaluation on dev dataset *****\n",
            "05/25/2022 09:37:26 - INFO - __main__ -     Num examples = 270\n",
            "05/25/2022 09:37:26 - INFO - __main__ -     Batch size = 64\n",
            "05/25/2022 09:37:27 - INFO - __main__ -   ***** Eval results *****\n",
            "05/25/2022 09:37:27 - INFO - __main__ -     accuracy = 32.9630\n",
            "05/25/2022 09:37:27 - INFO - __main__ -     loss = 1.1492\n"
          ]
        },
        {
          "name": "stdout",
          "output_type": "stream",
          "text": [
            "{0, 2}\n"
          ]
        },
        {
          "name": "stderr",
          "output_type": "stream",
          "text": [
            "05/25/2022 09:37:29 - INFO - __main__ -   Train loss = 1.0808\n",
            "05/25/2022 09:37:31 - INFO - __main__ -   Train loss = 1.0798\n",
            "05/25/2022 09:37:33 - INFO - __main__ -   Train loss = 1.0780\n",
            "05/25/2022 09:37:35 - INFO - __main__ -   train_acc = 46.9496\n",
            "Epoch:  40%|████      | 6/15 [01:15<01:49, 12.15s/it]05/25/2022 09:37:35 - INFO - __main__ -   Train loss = 1.0755\n",
            "05/25/2022 09:37:37 - INFO - __main__ -   Train loss = 1.0711\n",
            "05/25/2022 09:37:37 - INFO - __main__ -   \n",
            "***** Running evaluation on dev dataset *****\n",
            "05/25/2022 09:37:37 - INFO - __main__ -     Num examples = 270\n",
            "05/25/2022 09:37:37 - INFO - __main__ -     Batch size = 64\n",
            "05/25/2022 09:37:38 - INFO - __main__ -   ***** Eval results *****\n",
            "05/25/2022 09:37:38 - INFO - __main__ -     accuracy = 31.1111\n",
            "05/25/2022 09:37:38 - INFO - __main__ -     loss = 1.1381\n"
          ]
        },
        {
          "name": "stdout",
          "output_type": "stream",
          "text": [
            "{0, 2}\n"
          ]
        },
        {
          "name": "stderr",
          "output_type": "stream",
          "text": [
            "05/25/2022 09:37:41 - INFO - __main__ -   Train loss = 1.0677\n",
            "05/25/2022 09:37:43 - INFO - __main__ -   Train loss = 1.0657\n",
            "05/25/2022 09:37:45 - INFO - __main__ -   Train loss = 1.0629\n",
            "05/25/2022 09:37:46 - INFO - __main__ -   train_acc = 51.5915\n",
            "Epoch:  47%|████▋     | 7/15 [01:27<01:35, 11.89s/it]05/25/2022 09:37:47 - INFO - __main__ -   Train loss = 1.0589\n",
            "05/25/2022 09:37:49 - INFO - __main__ -   Train loss = 1.0534\n",
            "05/25/2022 09:37:49 - INFO - __main__ -   \n",
            "***** Running evaluation on dev dataset *****\n",
            "05/25/2022 09:37:49 - INFO - __main__ -     Num examples = 270\n",
            "05/25/2022 09:37:49 - INFO - __main__ -     Batch size = 64\n",
            "05/25/2022 09:37:50 - INFO - __main__ -   ***** Eval results *****\n",
            "05/25/2022 09:37:50 - INFO - __main__ -     accuracy = 36.6667\n",
            "05/25/2022 09:37:50 - INFO - __main__ -     loss = 1.1296\n",
            "05/25/2022 09:37:50 - INFO - __main__ -   dev best_acc = 36.6667\n"
          ]
        },
        {
          "name": "stdout",
          "output_type": "stream",
          "text": [
            "{0, 1, 2}\n"
          ]
        },
        {
          "name": "stderr",
          "output_type": "stream",
          "text": [
            "05/25/2022 09:37:56 - INFO - __main__ -   Train loss = 1.0489\n",
            "05/25/2022 09:37:58 - INFO - __main__ -   Train loss = 1.0475\n",
            "05/25/2022 09:38:00 - INFO - __main__ -   Train loss = 1.0443\n",
            "05/25/2022 09:38:01 - INFO - __main__ -   train_acc = 56.6313\n",
            "Epoch:  53%|█████▎    | 8/15 [01:41<01:30, 12.86s/it]05/25/2022 09:38:02 - INFO - __main__ -   Train loss = 1.0392\n",
            "05/25/2022 09:38:05 - INFO - __main__ -   Train loss = 1.0351\n",
            "05/25/2022 09:38:05 - INFO - __main__ -   \n",
            "***** Running evaluation on dev dataset *****\n",
            "05/25/2022 09:38:05 - INFO - __main__ -     Num examples = 270\n",
            "05/25/2022 09:38:05 - INFO - __main__ -     Batch size = 64\n",
            "05/25/2022 09:38:06 - INFO - __main__ -   ***** Eval results *****\n",
            "05/25/2022 09:38:06 - INFO - __main__ -     accuracy = 34.0741\n",
            "05/25/2022 09:38:06 - INFO - __main__ -     loss = 1.1552\n"
          ]
        },
        {
          "name": "stdout",
          "output_type": "stream",
          "text": [
            "{0, 1, 2}\n"
          ]
        },
        {
          "name": "stderr",
          "output_type": "stream",
          "text": [
            "05/25/2022 09:38:08 - INFO - __main__ -   Train loss = 1.0306\n",
            "05/25/2022 09:38:10 - INFO - __main__ -   Train loss = 1.0255\n",
            "05/25/2022 09:38:12 - INFO - __main__ -   Train loss = 1.0207\n",
            "05/25/2022 09:38:13 - INFO - __main__ -   train_acc = 61.8037\n",
            "Epoch:  60%|██████    | 9/15 [01:53<01:14, 12.47s/it]05/25/2022 09:38:14 - INFO - __main__ -   Train loss = 1.0154\n",
            "05/25/2022 09:38:17 - INFO - __main__ -   Train loss = 1.0107\n",
            "05/25/2022 09:38:17 - INFO - __main__ -   \n",
            "***** Running evaluation on dev dataset *****\n",
            "05/25/2022 09:38:17 - INFO - __main__ -     Num examples = 270\n",
            "05/25/2022 09:38:17 - INFO - __main__ -     Batch size = 64\n",
            "05/25/2022 09:38:18 - INFO - __main__ -   ***** Eval results *****\n",
            "05/25/2022 09:38:18 - INFO - __main__ -     accuracy = 36.6667\n",
            "05/25/2022 09:38:18 - INFO - __main__ -     loss = 1.2066\n"
          ]
        },
        {
          "name": "stdout",
          "output_type": "stream",
          "text": [
            "{0, 1, 2}\n"
          ]
        },
        {
          "name": "stderr",
          "output_type": "stream",
          "text": [
            "05/25/2022 09:38:20 - INFO - __main__ -   Train loss = 1.0042\n",
            "05/25/2022 09:38:22 - INFO - __main__ -   Train loss = 0.9983\n",
            "05/25/2022 09:38:24 - INFO - __main__ -   Train loss = 0.9962\n",
            "05/25/2022 09:38:24 - INFO - __main__ -   train_acc = 65.9151\n",
            "Epoch:  67%|██████▋   | 10/15 [02:05<01:01, 12.25s/it]05/25/2022 09:38:27 - INFO - __main__ -   Train loss = 0.9908\n",
            "05/25/2022 09:38:29 - INFO - __main__ -   Train loss = 0.9862\n",
            "05/25/2022 09:38:29 - INFO - __main__ -   \n",
            "***** Running evaluation on dev dataset *****\n",
            "05/25/2022 09:38:29 - INFO - __main__ -     Num examples = 270\n",
            "05/25/2022 09:38:29 - INFO - __main__ -     Batch size = 64\n",
            "05/25/2022 09:38:30 - INFO - __main__ -   ***** Eval results *****\n",
            "05/25/2022 09:38:30 - INFO - __main__ -     accuracy = 32.9630\n",
            "05/25/2022 09:38:30 - INFO - __main__ -     loss = 1.2907\n"
          ]
        },
        {
          "name": "stdout",
          "output_type": "stream",
          "text": [
            "{0, 1, 2}\n"
          ]
        },
        {
          "name": "stderr",
          "output_type": "stream",
          "text": [
            "05/25/2022 09:38:32 - INFO - __main__ -   Train loss = 0.9803\n",
            "05/25/2022 09:38:34 - INFO - __main__ -   Train loss = 0.9747\n",
            "05/25/2022 09:38:36 - INFO - __main__ -   train_acc = 70.0265\n",
            "Epoch:  73%|███████▎  | 11/15 [02:16<00:48, 12.06s/it]05/25/2022 09:38:36 - INFO - __main__ -   Train loss = 0.9697\n",
            "05/25/2022 09:38:39 - INFO - __main__ -   Train loss = 0.9659\n",
            "05/25/2022 09:38:41 - INFO - __main__ -   Train loss = 0.9603\n",
            "05/25/2022 09:38:41 - INFO - __main__ -   \n",
            "***** Running evaluation on dev dataset *****\n",
            "05/25/2022 09:38:41 - INFO - __main__ -     Num examples = 270\n",
            "05/25/2022 09:38:41 - INFO - __main__ -     Batch size = 64\n",
            "05/25/2022 09:38:42 - INFO - __main__ -   ***** Eval results *****\n",
            "05/25/2022 09:38:42 - INFO - __main__ -     accuracy = 35.1852\n",
            "05/25/2022 09:38:42 - INFO - __main__ -     loss = 1.2660\n"
          ]
        },
        {
          "name": "stdout",
          "output_type": "stream",
          "text": [
            "{0, 1, 2}\n"
          ]
        },
        {
          "name": "stderr",
          "output_type": "stream",
          "text": [
            "05/25/2022 09:38:44 - INFO - __main__ -   Train loss = 0.9563\n",
            "05/25/2022 09:38:46 - INFO - __main__ -   Train loss = 0.9518\n",
            "05/25/2022 09:38:47 - INFO - __main__ -   train_acc = 70.4244\n",
            "Epoch:  80%|████████  | 12/15 [02:28<00:35, 11.88s/it]05/25/2022 09:38:48 - INFO - __main__ -   Train loss = 0.9474\n",
            "05/25/2022 09:38:51 - INFO - __main__ -   Train loss = 0.9431\n",
            "05/25/2022 09:38:53 - INFO - __main__ -   Train loss = 0.9371\n",
            "05/25/2022 09:38:53 - INFO - __main__ -   \n",
            "***** Running evaluation on dev dataset *****\n",
            "05/25/2022 09:38:53 - INFO - __main__ -     Num examples = 270\n",
            "05/25/2022 09:38:53 - INFO - __main__ -     Batch size = 64\n",
            "05/25/2022 09:38:54 - INFO - __main__ -   ***** Eval results *****\n",
            "05/25/2022 09:38:54 - INFO - __main__ -     accuracy = 34.4444\n",
            "05/25/2022 09:38:54 - INFO - __main__ -     loss = 1.2773\n"
          ]
        },
        {
          "name": "stdout",
          "output_type": "stream",
          "text": [
            "{0, 1, 2}\n"
          ]
        },
        {
          "name": "stderr",
          "output_type": "stream",
          "text": [
            "05/25/2022 09:38:56 - INFO - __main__ -   Train loss = 0.9330\n",
            "05/25/2022 09:38:58 - INFO - __main__ -   Train loss = 0.9295\n",
            "05/25/2022 09:38:59 - INFO - __main__ -   train_acc = 75.8621\n",
            "Epoch:  87%|████████▋ | 13/15 [02:39<00:23, 11.73s/it]05/25/2022 09:39:00 - INFO - __main__ -   Train loss = 0.9248\n",
            "05/25/2022 09:39:02 - INFO - __main__ -   Train loss = 0.9204\n",
            "05/25/2022 09:39:05 - INFO - __main__ -   Train loss = 0.9166\n",
            "05/25/2022 09:39:05 - INFO - __main__ -   \n",
            "***** Running evaluation on dev dataset *****\n",
            "05/25/2022 09:39:05 - INFO - __main__ -     Num examples = 270\n",
            "05/25/2022 09:39:05 - INFO - __main__ -     Batch size = 64\n",
            "05/25/2022 09:39:06 - INFO - __main__ -   ***** Eval results *****\n",
            "05/25/2022 09:39:06 - INFO - __main__ -     accuracy = 34.8148\n",
            "05/25/2022 09:39:06 - INFO - __main__ -     loss = 1.2552\n"
          ]
        },
        {
          "name": "stdout",
          "output_type": "stream",
          "text": [
            "{0, 1, 2}\n"
          ]
        },
        {
          "name": "stderr",
          "output_type": "stream",
          "text": [
            "05/25/2022 09:39:08 - INFO - __main__ -   Train loss = 0.9128\n",
            "05/25/2022 09:39:10 - INFO - __main__ -   Train loss = 0.9078\n",
            "05/25/2022 09:39:10 - INFO - __main__ -   train_acc = 79.5756\n",
            "Epoch:  93%|█████████▎| 14/15 [02:51<00:11, 11.62s/it]05/25/2022 09:39:12 - INFO - __main__ -   Train loss = 0.9030\n",
            "05/25/2022 09:39:14 - INFO - __main__ -   Train loss = 0.8991\n",
            "05/25/2022 09:39:16 - INFO - __main__ -   Train loss = 0.8945\n",
            "05/25/2022 09:39:16 - INFO - __main__ -   \n",
            "***** Running evaluation on dev dataset *****\n",
            "05/25/2022 09:39:16 - INFO - __main__ -     Num examples = 270\n",
            "05/25/2022 09:39:16 - INFO - __main__ -     Batch size = 64\n",
            "05/25/2022 09:39:17 - INFO - __main__ -   ***** Eval results *****\n",
            "05/25/2022 09:39:17 - INFO - __main__ -     accuracy = 35.5556\n",
            "05/25/2022 09:39:17 - INFO - __main__ -     loss = 1.2850\n"
          ]
        },
        {
          "name": "stdout",
          "output_type": "stream",
          "text": [
            "{0, 1, 2}\n"
          ]
        },
        {
          "name": "stderr",
          "output_type": "stream",
          "text": [
            "05/25/2022 09:39:20 - INFO - __main__ -   Train loss = 0.8910\n",
            "05/25/2022 09:39:22 - INFO - __main__ -   Train loss = 0.8870\n",
            "05/25/2022 09:39:22 - INFO - __main__ -   train_acc = 80.2387\n",
            "Epoch: 100%|██████████| 15/15 [03:02<00:00, 12.17s/it]\n",
            "05/25/2022 09:39:22 - INFO - __main__ -   \n",
            "***** Running evaluation on test dataset *****\n",
            "05/25/2022 09:39:22 - INFO - __main__ -     Num examples = 1673\n",
            "05/25/2022 09:39:22 - INFO - __main__ -     Batch size = 64\n",
            "05/25/2022 09:39:28 - INFO - __main__ -   ***** Eval results *****\n",
            "05/25/2022 09:39:28 - INFO - __main__ -     accuracy = 34.9074\n",
            "05/25/2022 09:39:28 - INFO - __main__ -     loss = 1.3414\n"
          ]
        },
        {
          "name": "stdout",
          "output_type": "stream",
          "text": [
            "{0, 1, 2}\n",
            "              precision    recall  f1-score   support\n",
            "\n",
            "           e     0.3587    0.5262    0.4266       610\n",
            "           c     0.3304    0.1337    0.1904       561\n",
            "           n     0.3412    0.3745    0.3571       502\n",
            "\n",
            "    accuracy                         0.3491      1673\n",
            "   macro avg     0.3434    0.3448    0.3247      1673\n",
            "weighted avg     0.3439    0.3491    0.3265      1673\n",
            "\n"
          ]
        }
      ],
      "source": [
        "gc.collect()\n",
        "torch.cuda.empty_cache()\n",
        "\n",
        "if args.do_train:\n",
        "    # trainer.load_model()\n",
        "    trainer.train()\n",
        "\n",
        "if args.do_eval:\n",
        "    # trainer.load_model()\n",
        "    trainer.evaluate(\"test\")"
      ]
    },
    {
      "cell_type": "code",
      "execution_count": 49,
      "metadata": {
        "id": "ThKX2yHun6zr"
      },
      "outputs": [],
      "source": [
        "args.train_batch_size = 32\n",
        "args.num_train_epochs = 30"
      ]
    },
    {
      "cell_type": "code",
      "execution_count": null,
      "metadata": {
        "colab": {
          "base_uri": "https://localhost:8080/"
        },
        "id": "FxaN40mtu4IA",
        "outputId": "9d78d9b4-d0e6-4b9e-c6e7-dbd2d8890b29"
      },
      "outputs": [
        {
          "name": "stderr",
          "output_type": "stream",
          "text": [
            "/usr/local/lib/python3.7/dist-packages/transformers/optimization.py:309: FutureWarning: This implementation of AdamW is deprecated and will be removed in a future version. Use the PyTorch implementation torch.optim.AdamW instead, or set `no_deprecation_warning=True` to disable this warning\n",
            "  FutureWarning,\n",
            "05/24/2022 20:21:43 - INFO - __main__ -   ***** Running training *****\n",
            "05/24/2022 20:21:43 - INFO - __main__ -     Num examples = 754\n",
            "05/24/2022 20:21:43 - INFO - __main__ -     Num Epochs = 30\n",
            "05/24/2022 20:21:43 - INFO - __main__ -     Total train batch size = 32\n",
            "05/24/2022 20:21:43 - INFO - __main__ -     Gradient Accumulation steps = 1\n",
            "05/24/2022 20:21:43 - INFO - __main__ -     Total optimization steps = 720\n",
            "05/24/2022 20:21:43 - INFO - __main__ -     Logging steps = 50\n",
            "05/24/2022 20:21:43 - INFO - __main__ -     Save steps = 250\n",
            "Epoch:   0%|          | 0/30 [00:00<?, ?it/s]05/24/2022 20:21:50 - INFO - __main__ -   Train loss = 0.5970\n",
            "05/24/2022 20:21:57 - INFO - __main__ -   Train loss = 0.5788\n",
            "05/24/2022 20:21:59 - INFO - __main__ -   train_acc = 69.4960\n",
            "Epoch:   3%|▎         | 1/30 [00:15<07:31, 15.56s/it]05/24/2022 20:22:03 - INFO - __main__ -   Train loss = 0.5871\n",
            "05/24/2022 20:22:09 - INFO - __main__ -   Train loss = 0.5879\n",
            "05/24/2022 20:22:15 - INFO - __main__ -   train_acc = 69.7613\n",
            "Epoch:   7%|▋         | 2/30 [00:31<07:17, 15.61s/it]05/24/2022 20:22:16 - INFO - __main__ -   Train loss = 0.6076\n",
            "05/24/2022 20:22:16 - INFO - __main__ -   \n",
            "***** Running evaluation on dev dataset *****\n",
            "05/24/2022 20:22:16 - INFO - __main__ -     Num examples = 270\n",
            "05/24/2022 20:22:16 - INFO - __main__ -     Batch size = 64\n",
            "05/24/2022 20:22:18 - INFO - __main__ -   ***** Eval results *****\n",
            "05/24/2022 20:22:18 - INFO - __main__ -     accuracy = 30.3704\n",
            "05/24/2022 20:22:18 - INFO - __main__ -     loss = 1.8478\n",
            "05/24/2022 20:22:18 - INFO - __main__ -   dev best_acc = 30.3704\n"
          ]
        },
        {
          "name": "stdout",
          "output_type": "stream",
          "text": [
            "{0, 1, 2}\n"
          ]
        },
        {
          "name": "stderr",
          "output_type": "stream",
          "text": [
            "05/24/2022 20:22:28 - INFO - __main__ -   Train loss = 0.5903\n",
            "05/24/2022 20:22:35 - INFO - __main__ -   Train loss = 0.5727\n",
            "05/24/2022 20:22:36 - INFO - __main__ -   train_acc = 74.4032\n",
            "Epoch:  10%|█         | 3/30 [00:52<08:08, 18.11s/it]05/24/2022 20:22:41 - INFO - __main__ -   Train loss = 0.5631\n",
            "05/24/2022 20:22:47 - INFO - __main__ -   Train loss = 0.6473\n",
            "05/24/2022 20:22:51 - INFO - __main__ -   train_acc = 64.3236\n",
            "Epoch:  13%|█▎        | 4/30 [01:07<07:22, 17.04s/it]05/24/2022 20:22:54 - INFO - __main__ -   Train loss = 0.6702\n",
            "05/24/2022 20:22:54 - INFO - __main__ -   \n",
            "***** Running evaluation on dev dataset *****\n",
            "05/24/2022 20:22:54 - INFO - __main__ -     Num examples = 270\n",
            "05/24/2022 20:22:54 - INFO - __main__ -     Batch size = 64\n",
            "05/24/2022 20:22:56 - INFO - __main__ -   ***** Eval results *****\n",
            "05/24/2022 20:22:56 - INFO - __main__ -     accuracy = 30.3704\n",
            "05/24/2022 20:22:56 - INFO - __main__ -     loss = 1.8312\n"
          ]
        },
        {
          "name": "stdout",
          "output_type": "stream",
          "text": [
            "{0, 2}\n"
          ]
        },
        {
          "name": "stderr",
          "output_type": "stream",
          "text": [
            "05/24/2022 20:23:02 - INFO - __main__ -   Train loss = 0.6675\n",
            "05/24/2022 20:23:08 - INFO - __main__ -   Train loss = 0.6765\n",
            "05/24/2022 20:23:08 - INFO - __main__ -   train_acc = 67.5066\n",
            "Epoch:  17%|█▋        | 5/30 [01:24<07:08, 17.12s/it]05/24/2022 20:23:15 - INFO - __main__ -   Train loss = 0.6613\n",
            "05/24/2022 20:23:21 - INFO - __main__ -   Train loss = 0.6432\n",
            "05/24/2022 20:23:24 - INFO - __main__ -   train_acc = 82.2281\n",
            "Epoch:  20%|██        | 6/30 [01:40<06:36, 16.51s/it]05/24/2022 20:23:28 - INFO - __main__ -   Train loss = 0.6287\n",
            "05/24/2022 20:23:28 - INFO - __main__ -   \n",
            "***** Running evaluation on dev dataset *****\n",
            "05/24/2022 20:23:28 - INFO - __main__ -     Num examples = 270\n",
            "05/24/2022 20:23:28 - INFO - __main__ -     Batch size = 64\n",
            "05/24/2022 20:23:29 - INFO - __main__ -   ***** Eval results *****\n",
            "05/24/2022 20:23:29 - INFO - __main__ -     accuracy = 32.5926\n",
            "05/24/2022 20:23:29 - INFO - __main__ -     loss = 1.9019\n",
            "05/24/2022 20:23:29 - INFO - __main__ -   dev best_acc = 32.5926\n"
          ]
        },
        {
          "name": "stdout",
          "output_type": "stream",
          "text": [
            "{0, 1, 2}\n"
          ]
        },
        {
          "name": "stderr",
          "output_type": "stream",
          "text": [
            "05/24/2022 20:23:39 - INFO - __main__ -   Train loss = 0.6155\n",
            "05/24/2022 20:23:44 - INFO - __main__ -   train_acc = 84.3501\n",
            "Epoch:  23%|██▎       | 7/30 [02:01<06:51, 17.89s/it]05/24/2022 20:23:46 - INFO - __main__ -   Train loss = 0.6110\n",
            "05/24/2022 20:23:52 - INFO - __main__ -   Train loss = 0.5954\n",
            "05/24/2022 20:23:59 - INFO - __main__ -   Train loss = 0.5812\n",
            "05/24/2022 20:24:00 - INFO - __main__ -   train_acc = 88.8594\n",
            "Epoch:  27%|██▋       | 8/30 [02:16<06:16, 17.13s/it]05/24/2022 20:24:05 - INFO - __main__ -   Train loss = 0.5664\n",
            "05/24/2022 20:24:05 - INFO - __main__ -   \n",
            "***** Running evaluation on dev dataset *****\n",
            "05/24/2022 20:24:05 - INFO - __main__ -     Num examples = 270\n",
            "05/24/2022 20:24:05 - INFO - __main__ -     Batch size = 64\n",
            "05/24/2022 20:24:07 - INFO - __main__ -   ***** Eval results *****\n",
            "05/24/2022 20:24:07 - INFO - __main__ -     accuracy = 33.7037\n",
            "05/24/2022 20:24:07 - INFO - __main__ -     loss = 2.1860\n",
            "05/24/2022 20:24:07 - INFO - __main__ -   dev best_acc = 33.7037\n"
          ]
        },
        {
          "name": "stdout",
          "output_type": "stream",
          "text": [
            "{0, 1, 2}\n"
          ]
        },
        {
          "name": "stderr",
          "output_type": "stream",
          "text": [
            "05/24/2022 20:24:17 - INFO - __main__ -   Train loss = 0.5583\n",
            "05/24/2022 20:24:21 - INFO - __main__ -   train_acc = 88.1963\n",
            "Epoch:  30%|███       | 9/30 [02:37<06:24, 18.30s/it]05/24/2022 20:24:23 - INFO - __main__ -   Train loss = 0.5456\n",
            "05/24/2022 20:24:30 - INFO - __main__ -   Train loss = 0.5328\n",
            "05/24/2022 20:24:36 - INFO - __main__ -   Train loss = 0.5204\n",
            "05/24/2022 20:24:36 - INFO - __main__ -   train_acc = 92.4403\n",
            "Epoch:  33%|███▎      | 10/30 [02:52<05:47, 17.38s/it]05/24/2022 20:24:43 - INFO - __main__ -   Train loss = 0.5071\n",
            "05/24/2022 20:24:43 - INFO - __main__ -   \n",
            "***** Running evaluation on dev dataset *****\n",
            "05/24/2022 20:24:43 - INFO - __main__ -     Num examples = 270\n",
            "05/24/2022 20:24:43 - INFO - __main__ -     Batch size = 64\n",
            "05/24/2022 20:24:45 - INFO - __main__ -   ***** Eval results *****\n",
            "05/24/2022 20:24:45 - INFO - __main__ -     accuracy = 34.0741\n",
            "05/24/2022 20:24:45 - INFO - __main__ -     loss = 2.4835\n",
            "05/24/2022 20:24:45 - INFO - __main__ -   dev best_acc = 34.0741\n"
          ]
        },
        {
          "name": "stdout",
          "output_type": "stream",
          "text": [
            "{0, 1, 2}\n"
          ]
        },
        {
          "name": "stderr",
          "output_type": "stream",
          "text": [
            "05/24/2022 20:24:54 - INFO - __main__ -   Train loss = 0.4942\n",
            "05/24/2022 20:24:57 - INFO - __main__ -   train_acc = 95.0928\n",
            "Epoch:  37%|███▋      | 11/30 [03:13<05:49, 18.41s/it]05/24/2022 20:25:01 - INFO - __main__ -   Train loss = 0.4840\n",
            "05/24/2022 20:25:07 - INFO - __main__ -   Train loss = 0.4734\n",
            "05/24/2022 20:25:12 - INFO - __main__ -   train_acc = 95.7560\n",
            "Epoch:  40%|████      | 12/30 [03:28<05:14, 17.50s/it]05/24/2022 20:25:14 - INFO - __main__ -   Train loss = 0.4640\n",
            "05/24/2022 20:25:20 - INFO - __main__ -   Train loss = 0.4556\n",
            "05/24/2022 20:25:20 - INFO - __main__ -   \n",
            "***** Running evaluation on dev dataset *****\n",
            "05/24/2022 20:25:20 - INFO - __main__ -     Num examples = 270\n",
            "05/24/2022 20:25:20 - INFO - __main__ -     Batch size = 64\n",
            "05/24/2022 20:25:22 - INFO - __main__ -   ***** Eval results *****\n",
            "05/24/2022 20:25:22 - INFO - __main__ -     accuracy = 32.5926\n",
            "05/24/2022 20:25:22 - INFO - __main__ -     loss = 2.9538\n"
          ]
        },
        {
          "name": "stdout",
          "output_type": "stream",
          "text": [
            "{0, 1, 2}\n"
          ]
        },
        {
          "name": "stderr",
          "output_type": "stream",
          "text": [
            "05/24/2022 20:25:29 - INFO - __main__ -   Train loss = 0.4472\n",
            "05/24/2022 20:25:30 - INFO - __main__ -   train_acc = 94.6950\n",
            "Epoch:  43%|████▎     | 13/30 [03:46<04:56, 17.47s/it]05/24/2022 20:25:35 - INFO - __main__ -   Train loss = 0.4390\n",
            "05/24/2022 20:25:41 - INFO - __main__ -   Train loss = 0.4333\n",
            "05/24/2022 20:25:45 - INFO - __main__ -   train_acc = 95.4907\n",
            "Epoch:  47%|████▋     | 14/30 [04:01<04:29, 16.83s/it]05/24/2022 20:25:48 - INFO - __main__ -   Train loss = 0.4237\n",
            "05/24/2022 20:25:54 - INFO - __main__ -   Train loss = 0.4152\n",
            "05/24/2022 20:25:54 - INFO - __main__ -   \n",
            "***** Running evaluation on dev dataset *****\n",
            "05/24/2022 20:25:54 - INFO - __main__ -     Num examples = 270\n",
            "05/24/2022 20:25:54 - INFO - __main__ -     Batch size = 64\n",
            "05/24/2022 20:25:56 - INFO - __main__ -   ***** Eval results *****\n",
            "05/24/2022 20:25:56 - INFO - __main__ -     accuracy = 32.5926\n",
            "05/24/2022 20:25:56 - INFO - __main__ -     loss = 3.5297\n"
          ]
        },
        {
          "name": "stdout",
          "output_type": "stream",
          "text": [
            "{0, 1, 2}\n"
          ]
        },
        {
          "name": "stderr",
          "output_type": "stream",
          "text": [
            "05/24/2022 20:26:02 - INFO - __main__ -   Train loss = 0.4093\n",
            "05/24/2022 20:26:02 - INFO - __main__ -   train_acc = 96.2865\n",
            "Epoch:  50%|█████     | 15/30 [04:18<04:14, 16.96s/it]05/24/2022 20:26:09 - INFO - __main__ -   Train loss = 0.4012\n",
            "05/24/2022 20:26:15 - INFO - __main__ -   Train loss = 0.3927\n",
            "05/24/2022 20:26:18 - INFO - __main__ -   train_acc = 97.8780\n",
            "Epoch:  53%|█████▎    | 16/30 [04:34<03:50, 16.47s/it]05/24/2022 20:26:21 - INFO - __main__ -   Train loss = 0.3843\n",
            "05/24/2022 20:26:28 - INFO - __main__ -   Train loss = 0.3770\n",
            "05/24/2022 20:26:28 - INFO - __main__ -   \n",
            "***** Running evaluation on dev dataset *****\n",
            "05/24/2022 20:26:28 - INFO - __main__ -     Num examples = 270\n",
            "05/24/2022 20:26:28 - INFO - __main__ -     Batch size = 64\n",
            "05/24/2022 20:26:30 - INFO - __main__ -   ***** Eval results *****\n",
            "05/24/2022 20:26:30 - INFO - __main__ -     accuracy = 32.9630\n",
            "05/24/2022 20:26:30 - INFO - __main__ -     loss = 3.6919\n"
          ]
        },
        {
          "name": "stdout",
          "output_type": "stream",
          "text": [
            "{0, 1, 2}\n"
          ]
        },
        {
          "name": "stderr",
          "output_type": "stream",
          "text": [
            "05/24/2022 20:26:35 - INFO - __main__ -   train_acc = 98.1432\n",
            "Epoch:  57%|█████▋    | 17/30 [04:51<03:37, 16.72s/it]05/24/2022 20:26:36 - INFO - __main__ -   Train loss = 0.3705\n",
            "05/24/2022 20:26:43 - INFO - __main__ -   Train loss = 0.3633\n",
            "05/24/2022 20:26:49 - INFO - __main__ -   Train loss = 0.3584\n",
            "05/24/2022 20:26:50 - INFO - __main__ -   train_acc = 98.1432\n",
            "Epoch:  60%|██████    | 18/30 [05:06<03:15, 16.30s/it]05/24/2022 20:26:55 - INFO - __main__ -   Train loss = 0.3513\n",
            "05/24/2022 20:27:02 - INFO - __main__ -   Train loss = 0.3457\n",
            "05/24/2022 20:27:02 - INFO - __main__ -   \n",
            "***** Running evaluation on dev dataset *****\n",
            "05/24/2022 20:27:02 - INFO - __main__ -     Num examples = 270\n",
            "05/24/2022 20:27:02 - INFO - __main__ -     Batch size = 64\n",
            "05/24/2022 20:27:04 - INFO - __main__ -   ***** Eval results *****\n",
            "05/24/2022 20:27:04 - INFO - __main__ -     accuracy = 33.3333\n",
            "05/24/2022 20:27:04 - INFO - __main__ -     loss = 3.9260\n"
          ]
        },
        {
          "name": "stdout",
          "output_type": "stream",
          "text": [
            "{0, 1, 2}\n"
          ]
        },
        {
          "name": "stderr",
          "output_type": "stream",
          "text": [
            "05/24/2022 20:27:07 - INFO - __main__ -   train_acc = 98.6737\n",
            "Epoch:  63%|██████▎   | 19/30 [05:24<03:02, 16.61s/it]05/24/2022 20:27:10 - INFO - __main__ -   Train loss = 0.3393\n",
            "05/24/2022 20:27:17 - INFO - __main__ -   Train loss = 0.3336\n",
            "05/24/2022 20:27:23 - INFO - __main__ -   Train loss = 0.3282\n",
            "05/24/2022 20:27:23 - INFO - __main__ -   train_acc = 98.6737\n",
            "Epoch:  67%|██████▋   | 20/30 [05:39<02:42, 16.22s/it]05/24/2022 20:27:29 - INFO - __main__ -   Train loss = 0.3234\n",
            "05/24/2022 20:27:36 - INFO - __main__ -   Train loss = 0.3182\n",
            "05/24/2022 20:27:36 - INFO - __main__ -   \n",
            "***** Running evaluation on dev dataset *****\n",
            "05/24/2022 20:27:36 - INFO - __main__ -     Num examples = 270\n",
            "05/24/2022 20:27:36 - INFO - __main__ -     Batch size = 64\n",
            "05/24/2022 20:27:38 - INFO - __main__ -   ***** Eval results *****\n",
            "05/24/2022 20:27:38 - INFO - __main__ -     accuracy = 32.9630\n",
            "05/24/2022 20:27:38 - INFO - __main__ -     loss = 4.0178\n"
          ]
        },
        {
          "name": "stdout",
          "output_type": "stream",
          "text": [
            "{0, 1, 2}\n"
          ]
        },
        {
          "name": "stderr",
          "output_type": "stream",
          "text": [
            "05/24/2022 20:27:40 - INFO - __main__ -   train_acc = 98.5411\n",
            "Epoch:  70%|███████   | 21/30 [05:56<02:28, 16.55s/it]05/24/2022 20:27:44 - INFO - __main__ -   Train loss = 0.3134\n",
            "05/24/2022 20:27:51 - INFO - __main__ -   Train loss = 0.3085\n",
            "05/24/2022 20:27:55 - INFO - __main__ -   train_acc = 98.9390\n",
            "Epoch:  73%|███████▎  | 22/30 [06:12<02:09, 16.19s/it]05/24/2022 20:27:57 - INFO - __main__ -   Train loss = 0.3034\n",
            "05/24/2022 20:28:03 - INFO - __main__ -   Train loss = 0.2986\n",
            "05/24/2022 20:28:10 - INFO - __main__ -   Train loss = 0.2941\n",
            "05/24/2022 20:28:10 - INFO - __main__ -   \n",
            "***** Running evaluation on dev dataset *****\n",
            "05/24/2022 20:28:10 - INFO - __main__ -     Num examples = 270\n",
            "05/24/2022 20:28:10 - INFO - __main__ -     Batch size = 64\n",
            "05/24/2022 20:28:12 - INFO - __main__ -   ***** Eval results *****\n",
            "05/24/2022 20:28:12 - INFO - __main__ -     accuracy = 33.7037\n",
            "05/24/2022 20:28:12 - INFO - __main__ -     loss = 4.0606\n"
          ]
        },
        {
          "name": "stdout",
          "output_type": "stream",
          "text": [
            "{0, 1, 2}\n"
          ]
        },
        {
          "name": "stderr",
          "output_type": "stream",
          "text": [
            "05/24/2022 20:28:13 - INFO - __main__ -   train_acc = 99.2042\n",
            "Epoch:  77%|███████▋  | 23/30 [06:29<01:55, 16.53s/it]05/24/2022 20:28:18 - INFO - __main__ -   Train loss = 0.2895\n",
            "05/24/2022 20:28:25 - INFO - __main__ -   Train loss = 0.2859\n",
            "05/24/2022 20:28:28 - INFO - __main__ -   train_acc = 97.7454\n",
            "Epoch:  80%|████████  | 24/30 [06:44<01:37, 16.17s/it]05/24/2022 20:28:31 - INFO - __main__ -   Train loss = 0.2837\n",
            "05/24/2022 20:28:37 - INFO - __main__ -   Train loss = 0.2798\n",
            "05/24/2022 20:28:43 - INFO - __main__ -   Train loss = 0.2757\n",
            "05/24/2022 20:28:43 - INFO - __main__ -   \n",
            "***** Running evaluation on dev dataset *****\n",
            "05/24/2022 20:28:43 - INFO - __main__ -     Num examples = 270\n",
            "05/24/2022 20:28:43 - INFO - __main__ -     Batch size = 64\n",
            "05/24/2022 20:28:45 - INFO - __main__ -   ***** Eval results *****\n",
            "05/24/2022 20:28:45 - INFO - __main__ -     accuracy = 33.3333\n",
            "05/24/2022 20:28:45 - INFO - __main__ -     loss = 4.1957\n",
            "05/24/2022 20:28:45 - INFO - __main__ -   train_acc = 99.2042\n",
            "Epoch:  83%|████████▎ | 25/30 [07:02<01:22, 16.51s/it]"
          ]
        },
        {
          "name": "stdout",
          "output_type": "stream",
          "text": [
            "{0, 1, 2}\n"
          ]
        },
        {
          "name": "stderr",
          "output_type": "stream",
          "text": [
            "05/24/2022 20:28:52 - INFO - __main__ -   Train loss = 0.2724\n",
            "05/24/2022 20:28:58 - INFO - __main__ -   Train loss = 0.2684\n",
            "05/24/2022 20:29:01 - INFO - __main__ -   train_acc = 98.9390\n",
            "Epoch:  87%|████████▋ | 26/30 [07:17<01:04, 16.15s/it]05/24/2022 20:29:05 - INFO - __main__ -   Train loss = 0.2657\n",
            "05/24/2022 20:29:11 - INFO - __main__ -   Train loss = 0.2624\n",
            "05/24/2022 20:29:16 - INFO - __main__ -   train_acc = 98.8064\n",
            "Epoch:  90%|█████████ | 27/30 [07:32<00:47, 15.91s/it]05/24/2022 20:29:17 - INFO - __main__ -   Train loss = 0.2592\n",
            "05/24/2022 20:29:17 - INFO - __main__ -   \n",
            "***** Running evaluation on dev dataset *****\n",
            "05/24/2022 20:29:17 - INFO - __main__ -     Num examples = 270\n",
            "05/24/2022 20:29:17 - INFO - __main__ -     Batch size = 64\n",
            "05/24/2022 20:29:19 - INFO - __main__ -   ***** Eval results *****\n",
            "05/24/2022 20:29:19 - INFO - __main__ -     accuracy = 33.7037\n",
            "05/24/2022 20:29:19 - INFO - __main__ -     loss = 4.1540\n"
          ]
        },
        {
          "name": "stdout",
          "output_type": "stream",
          "text": [
            "{0, 1, 2}\n"
          ]
        },
        {
          "name": "stderr",
          "output_type": "stream",
          "text": [
            "05/24/2022 20:29:26 - INFO - __main__ -   Train loss = 0.2559\n",
            "05/24/2022 20:29:32 - INFO - __main__ -   Train loss = 0.2535\n",
            "05/24/2022 20:29:33 - INFO - __main__ -   train_acc = 98.6737\n",
            "Epoch:  93%|█████████▎| 28/30 [07:50<00:32, 16.32s/it]05/24/2022 20:29:39 - INFO - __main__ -   Train loss = 0.2501\n",
            "05/24/2022 20:29:45 - INFO - __main__ -   Train loss = 0.2471\n",
            "05/24/2022 20:29:49 - INFO - __main__ -   train_acc = 98.9390\n",
            "Epoch:  97%|█████████▋| 29/30 [08:05<00:16, 16.03s/it]05/24/2022 20:29:51 - INFO - __main__ -   Train loss = 0.2449\n",
            "05/24/2022 20:29:51 - INFO - __main__ -   \n",
            "***** Running evaluation on dev dataset *****\n",
            "05/24/2022 20:29:51 - INFO - __main__ -     Num examples = 270\n",
            "05/24/2022 20:29:51 - INFO - __main__ -     Batch size = 64\n",
            "05/24/2022 20:29:53 - INFO - __main__ -   ***** Eval results *****\n",
            "05/24/2022 20:29:53 - INFO - __main__ -     accuracy = 34.8148\n",
            "05/24/2022 20:29:53 - INFO - __main__ -     loss = 4.0394\n",
            "05/24/2022 20:29:53 - INFO - __main__ -   dev best_acc = 34.8148\n"
          ]
        },
        {
          "name": "stdout",
          "output_type": "stream",
          "text": [
            "{0, 1, 2}\n"
          ]
        },
        {
          "name": "stderr",
          "output_type": "stream",
          "text": [
            "05/24/2022 20:30:03 - INFO - __main__ -   Train loss = 0.2417\n",
            "05/24/2022 20:30:09 - INFO - __main__ -   Train loss = 0.2387\n",
            "05/24/2022 20:30:09 - INFO - __main__ -   train_acc = 99.4695\n",
            "Epoch: 100%|██████████| 30/30 [08:26<00:00, 16.87s/it]\n",
            "05/24/2022 20:30:09 - INFO - __main__ -   \n",
            "***** Running evaluation on test dataset *****\n",
            "05/24/2022 20:30:09 - INFO - __main__ -     Num examples = 1673\n",
            "05/24/2022 20:30:09 - INFO - __main__ -     Batch size = 64\n",
            "05/24/2022 20:30:21 - INFO - __main__ -   ***** Eval results *****\n",
            "05/24/2022 20:30:21 - INFO - __main__ -     accuracy = 35.3258\n",
            "05/24/2022 20:30:21 - INFO - __main__ -     loss = 4.0265\n"
          ]
        },
        {
          "name": "stdout",
          "output_type": "stream",
          "text": [
            "{0, 1, 2}\n",
            "              precision    recall  f1-score   support\n",
            "\n",
            "           e     0.3641    0.6852    0.4755       610\n",
            "           c     0.3455    0.1016    0.1570       561\n",
            "           n     0.3222    0.2311    0.2691       502\n",
            "\n",
            "    accuracy                         0.3533      1673\n",
            "   macro avg     0.3439    0.3393    0.3006      1673\n",
            "weighted avg     0.3453    0.3533    0.3068      1673\n",
            "\n"
          ]
        }
      ],
      "source": [
        "if args.do_train:\n",
        "    # trainer.load_model()\n",
        "    trainer.train()\n",
        "\n",
        "if args.do_eval:\n",
        "    # trainer.load_model()\n",
        "    trainer.evaluate(\"test\")"
      ]
    },
    {
      "cell_type": "code",
      "execution_count": 69,
      "metadata": {
        "id": "hIl9RQxZgCq2"
      },
      "outputs": [],
      "source": [
        "args.train_batch_size = 16\n",
        "args.num_train_epochs = 5\n",
        "args.dropout_rate =  0.0\n",
        "args.max_seq_len = 32"
      ]
    },
    {
      "cell_type": "code",
      "execution_count": 70,
      "metadata": {
        "colab": {
          "base_uri": "https://localhost:8080/"
        },
        "id": "W5A6Tq_LgGFk",
        "outputId": "b9c11b68-881f-45e7-e3df-6f15cb016d9f"
      },
      "outputs": [
        {
          "name": "stderr",
          "output_type": "stream",
          "text": [
            "Some weights of the model checkpoint at HooshvareLab/bert-fa-zwnj-base were not used when initializing ParsBERT_Textual_Entailement: ['cls.predictions.transform.dense.weight', 'cls.predictions.transform.LayerNorm.bias', 'cls.predictions.transform.LayerNorm.weight', 'cls.predictions.decoder.bias', 'cls.predictions.transform.dense.bias', 'cls.predictions.decoder.weight', 'cls.predictions.bias']\n",
            "- This IS expected if you are initializing ParsBERT_Textual_Entailement from the checkpoint of a model trained on another task or with another architecture (e.g. initializing a BertForSequenceClassification model from a BertForPreTraining model).\n",
            "- This IS NOT expected if you are initializing ParsBERT_Textual_Entailement from the checkpoint of a model that you expect to be exactly identical (initializing a BertForSequenceClassification model from a BertForSequenceClassification model).\n",
            "Some weights of ParsBERT_Textual_Entailement were not initialized from the model checkpoint at HooshvareLab/bert-fa-zwnj-base and are newly initialized: ['bert.parsbert.embeddings.LayerNorm.weight', 'bert.parsbert.encoder.layer.7.attention.output.dense.weight', 'bert.parsbert.encoder.layer.11.output.dense.weight', 'bert.parsbert.encoder.layer.1.attention.self.value.weight', 'bert.parsbert.encoder.layer.6.output.LayerNorm.bias', 'bert.parsbert.encoder.layer.11.intermediate.dense.bias', 'bert.parsbert.encoder.layer.10.intermediate.dense.bias', 'bert.classifier.linear1.bias', 'bert.parsbert.encoder.layer.10.output.LayerNorm.weight', 'bert.parsbert.encoder.layer.11.attention.self.query.weight', 'bert.parsbert.encoder.layer.7.attention.self.key.weight', 'bert.parsbert.pooler.dense.bias', 'bert.parsbert.encoder.layer.3.attention.output.dense.bias', 'bert.parsbert.encoder.layer.4.output.dense.weight', 'bert.parsbert.encoder.layer.9.attention.self.query.weight', 'bert.parsbert.encoder.layer.7.intermediate.dense.weight', 'bert.parsbert.encoder.layer.3.attention.self.query.bias', 'bert.parsbert.encoder.layer.8.attention.self.query.weight', 'bert.parsbert.encoder.layer.5.attention.self.query.weight', 'bert.parsbert.encoder.layer.1.output.dense.bias', 'bert.parsbert.encoder.layer.7.output.LayerNorm.weight', 'bert.parsbert.encoder.layer.8.attention.output.LayerNorm.bias', 'bert.parsbert.encoder.layer.8.intermediate.dense.weight', 'bert.parsbert.encoder.layer.4.attention.output.LayerNorm.bias', 'bert.parsbert.encoder.layer.2.attention.self.query.weight', 'bert.parsbert.encoder.layer.5.attention.self.value.bias', 'bert.parsbert.encoder.layer.5.attention.self.query.bias', 'bert.parsbert.encoder.layer.3.attention.output.LayerNorm.weight', 'bert.parsbert.encoder.layer.8.output.dense.weight', 'bert.parsbert.embeddings.position_embeddings.weight', 'bert.parsbert.encoder.layer.5.attention.output.dense.weight', 'bert.parsbert.encoder.layer.11.attention.self.value.bias', 'bert.parsbert.encoder.layer.11.attention.self.value.weight', 'bert.parsbert.encoder.layer.4.attention.self.value.bias', 'bert.parsbert.encoder.layer.0.output.dense.bias', 'bert.parsbert.encoder.layer.3.output.dense.bias', 'bert.parsbert.encoder.layer.1.attention.self.key.bias', 'bert.parsbert.encoder.layer.4.attention.self.key.weight', 'bert.parsbert.encoder.layer.0.attention.self.key.weight', 'bert.parsbert.encoder.layer.5.output.LayerNorm.weight', 'bert.parsbert.encoder.layer.2.attention.output.dense.bias', 'bert.parsbert.encoder.layer.3.output.LayerNorm.bias', 'bert.parsbert.encoder.layer.11.output.LayerNorm.bias', 'bert.parsbert.encoder.layer.11.output.LayerNorm.weight', 'bert.parsbert.encoder.layer.6.intermediate.dense.weight', 'bert.parsbert.embeddings.token_type_embeddings.weight', 'bert.parsbert.encoder.layer.11.attention.self.key.bias', 'bert.classifier.linear1.weight', 'bert.parsbert.encoder.layer.5.attention.output.LayerNorm.bias', 'bert.parsbert.encoder.layer.1.attention.self.query.weight', 'bert.parsbert.encoder.layer.10.output.dense.weight', 'bert.parsbert.encoder.layer.5.attention.output.LayerNorm.weight', 'bert.parsbert.embeddings.LayerNorm.bias', 'bert.parsbert.encoder.layer.4.attention.output.dense.bias', 'bert.parsbert.encoder.layer.2.attention.self.query.bias', 'bert.parsbert.encoder.layer.3.attention.output.LayerNorm.bias', 'bert.parsbert.encoder.layer.0.attention.output.LayerNorm.bias', 'bert.parsbert.encoder.layer.4.attention.output.dense.weight', 'bert.parsbert.encoder.layer.6.attention.output.LayerNorm.bias', 'bert.parsbert.encoder.layer.10.attention.output.dense.bias', 'bert.parsbert.encoder.layer.3.intermediate.dense.weight', 'bert.parsbert.encoder.layer.1.output.LayerNorm.bias', 'bert.parsbert.encoder.layer.11.attention.self.key.weight', 'bert.parsbert.encoder.layer.5.output.dense.bias', 'bert.parsbert.encoder.layer.3.attention.self.key.weight', 'bert.parsbert.encoder.layer.11.output.dense.bias', 'bert.parsbert.encoder.layer.1.attention.self.key.weight', 'bert.parsbert.encoder.layer.4.intermediate.dense.weight', 'bert.parsbert.encoder.layer.6.attention.output.LayerNorm.weight', 'bert.parsbert.encoder.layer.8.intermediate.dense.bias', 'bert.parsbert.encoder.layer.8.output.dense.bias', 'bert.parsbert.encoder.layer.8.attention.output.dense.bias', 'bert.parsbert.encoder.layer.0.attention.self.key.bias', 'bert.parsbert.encoder.layer.11.attention.output.LayerNorm.bias', 'bert.parsbert.encoder.layer.2.attention.output.LayerNorm.bias', 'bert.parsbert.encoder.layer.7.attention.output.LayerNorm.weight', 'bert.parsbert.encoder.layer.7.intermediate.dense.bias', 'bert.parsbert.encoder.layer.10.attention.output.LayerNorm.bias', 'bert.parsbert.encoder.layer.7.output.dense.weight', 'bert.parsbert.encoder.layer.8.output.LayerNorm.weight', 'bert.parsbert.encoder.layer.4.output.LayerNorm.bias', 'bert.parsbert.encoder.layer.9.attention.output.LayerNorm.bias', 'bert.parsbert.encoder.layer.6.attention.self.query.weight', 'bert.parsbert.encoder.layer.4.attention.self.query.weight', 'bert.parsbert.encoder.layer.0.attention.self.query.weight', 'bert.parsbert.embeddings.word_embeddings.weight', 'bert.parsbert.encoder.layer.1.attention.self.query.bias', 'bert.parsbert.encoder.layer.0.intermediate.dense.bias', 'bert.parsbert.encoder.layer.9.intermediate.dense.weight', 'bert.parsbert.encoder.layer.0.attention.output.dense.bias', 'bert.parsbert.encoder.layer.1.attention.self.value.bias', 'bert.parsbert.encoder.layer.8.attention.self.value.weight', 'bert.parsbert.encoder.layer.8.attention.self.value.bias', 'bert.parsbert.encoder.layer.7.attention.self.query.weight', 'bert.parsbert.encoder.layer.5.attention.output.dense.bias', 'bert.parsbert.encoder.layer.7.attention.output.LayerNorm.bias', 'bert.parsbert.encoder.layer.1.intermediate.dense.bias', 'bert.parsbert.encoder.layer.9.attention.output.dense.weight', 'bert.parsbert.encoder.layer.8.attention.self.query.bias', 'bert.parsbert.encoder.layer.6.attention.self.key.bias', 'bert.parsbert.encoder.layer.0.output.LayerNorm.weight', 'bert.parsbert.encoder.layer.4.attention.self.query.bias', 'bert.parsbert.encoder.layer.11.attention.output.dense.weight', 'bert.parsbert.encoder.layer.0.output.dense.weight', 'bert.parsbert.encoder.layer.1.attention.output.LayerNorm.bias', 'bert.parsbert.encoder.layer.7.attention.output.dense.bias', 'bert.parsbert.encoder.layer.2.attention.self.key.weight', 'bert.parsbert.encoder.layer.10.attention.self.value.bias', 'bert.classifier.linear2.bias', 'bert.parsbert.encoder.layer.5.intermediate.dense.bias', 'bert.parsbert.encoder.layer.2.attention.output.LayerNorm.weight', 'bert.parsbert.encoder.layer.9.attention.self.key.bias', 'bert.parsbert.encoder.layer.1.intermediate.dense.weight', 'bert.parsbert.encoder.layer.9.attention.self.query.bias', 'bert.parsbert.encoder.layer.11.attention.self.query.bias', 'bert.pooler.dense.bias', 'bert.parsbert.encoder.layer.8.attention.output.dense.weight', 'bert.parsbert.encoder.layer.2.intermediate.dense.weight', 'bert.parsbert.encoder.layer.5.attention.self.value.weight', 'bert.parsbert.encoder.layer.4.attention.self.key.bias', 'bert.parsbert.encoder.layer.2.attention.self.value.weight', 'bert.parsbert.encoder.layer.7.attention.self.query.bias', 'bert.parsbert.encoder.layer.10.output.LayerNorm.bias', 'bert.parsbert.encoder.layer.11.intermediate.dense.weight', 'bert.parsbert.encoder.layer.5.attention.self.key.weight', 'bert.parsbert.encoder.layer.9.output.LayerNorm.bias', 'bert.parsbert.encoder.layer.10.attention.output.LayerNorm.weight', 'bert.parsbert.encoder.layer.4.output.LayerNorm.weight', 'bert.parsbert.encoder.layer.1.output.dense.weight', 'bert.parsbert.encoder.layer.3.attention.self.value.weight', 'bert.parsbert.encoder.layer.5.attention.self.key.bias', 'bert.parsbert.encoder.layer.8.attention.self.key.bias', 'bert.parsbert.encoder.layer.8.attention.output.LayerNorm.weight', 'bert.parsbert.encoder.layer.7.attention.self.key.bias', 'bert.parsbert.encoder.layer.5.output.dense.weight', 'bert.parsbert.encoder.layer.2.attention.output.dense.weight', 'bert.parsbert.encoder.layer.4.output.dense.bias', 'bert.parsbert.encoder.layer.0.attention.output.dense.weight', 'bert.parsbert.encoder.layer.2.output.LayerNorm.bias', 'bert.parsbert.encoder.layer.8.attention.self.key.weight', 'bert.parsbert.encoder.layer.1.attention.output.dense.bias', 'bert.parsbert.encoder.layer.6.attention.self.value.weight', 'bert.parsbert.encoder.layer.3.output.LayerNorm.weight', 'bert.parsbert.encoder.layer.4.attention.self.value.weight', 'bert.parsbert.encoder.layer.3.intermediate.dense.bias', 'bert.parsbert.encoder.layer.9.output.LayerNorm.weight', 'bert.parsbert.encoder.layer.9.attention.self.key.weight', 'bert.parsbert.encoder.layer.0.attention.output.LayerNorm.weight', 'bert.parsbert.encoder.layer.5.intermediate.dense.weight', 'bert.parsbert.encoder.layer.3.attention.self.query.weight', 'bert.parsbert.encoder.layer.9.attention.self.value.weight', 'bert.parsbert.encoder.layer.6.attention.output.dense.weight', 'bert.parsbert.encoder.layer.10.attention.self.query.bias', 'bert.parsbert.encoder.layer.10.attention.self.value.weight', 'bert.classifier.linear2.weight', 'bert.parsbert.encoder.layer.3.output.dense.weight', 'bert.parsbert.encoder.layer.2.output.dense.weight', 'bert.parsbert.encoder.layer.0.attention.self.value.bias', 'bert.parsbert.encoder.layer.6.attention.self.query.bias', 'bert.parsbert.encoder.layer.9.attention.self.value.bias', 'bert.parsbert.encoder.layer.4.attention.output.LayerNorm.weight', 'bert.parsbert.encoder.layer.0.attention.self.query.bias', 'bert.parsbert.encoder.layer.0.attention.self.value.weight', 'bert.parsbert.encoder.layer.10.attention.self.query.weight', 'bert.parsbert.encoder.layer.6.output.dense.bias', 'bert.parsbert.encoder.layer.1.attention.output.dense.weight', 'bert.parsbert.encoder.layer.11.attention.output.LayerNorm.weight', 'bert.parsbert.encoder.layer.5.output.LayerNorm.bias', 'bert.parsbert.pooler.dense.weight', 'bert.parsbert.encoder.layer.10.attention.self.key.weight', 'bert.parsbert.encoder.layer.3.attention.output.dense.weight', 'bert.parsbert.encoder.layer.6.attention.self.key.weight', 'bert.parsbert.encoder.layer.10.attention.output.dense.weight', 'bert.parsbert.encoder.layer.6.output.dense.weight', 'bert.parsbert.encoder.layer.3.attention.self.value.bias', 'bert.parsbert.encoder.layer.10.output.dense.bias', 'bert.parsbert.encoder.layer.9.attention.output.LayerNorm.weight', 'bert.parsbert.encoder.layer.0.intermediate.dense.weight', 'bert.parsbert.encoder.layer.0.output.LayerNorm.bias', 'bert.parsbert.encoder.layer.7.attention.self.value.bias', 'bert.parsbert.encoder.layer.2.intermediate.dense.bias', 'bert.parsbert.encoder.layer.7.output.LayerNorm.bias', 'bert.parsbert.encoder.layer.6.attention.self.value.bias', 'bert.parsbert.encoder.layer.4.intermediate.dense.bias', 'bert.parsbert.encoder.layer.2.attention.self.key.bias', 'bert.parsbert.encoder.layer.1.output.LayerNorm.weight', 'bert.parsbert.encoder.layer.6.attention.output.dense.bias', 'bert.parsbert.encoder.layer.2.output.LayerNorm.weight', 'bert.parsbert.encoder.layer.6.output.LayerNorm.weight', 'bert.parsbert.encoder.layer.9.attention.output.dense.bias', 'bert.parsbert.encoder.layer.9.intermediate.dense.bias', 'bert.parsbert.encoder.layer.2.attention.self.value.bias', 'bert.parsbert.encoder.layer.1.attention.output.LayerNorm.weight', 'bert.parsbert.encoder.layer.8.output.LayerNorm.bias', 'bert.parsbert.encoder.layer.11.attention.output.dense.bias', 'bert.parsbert.encoder.layer.7.attention.self.value.weight', 'bert.parsbert.encoder.layer.7.output.dense.bias', 'bert.pooler.dense.weight', 'bert.parsbert.encoder.layer.6.intermediate.dense.bias', 'bert.parsbert.encoder.layer.9.output.dense.weight', 'bert.parsbert.encoder.layer.2.output.dense.bias', 'bert.parsbert.encoder.layer.10.attention.self.key.bias', 'bert.parsbert.encoder.layer.10.intermediate.dense.weight', 'bert.parsbert.encoder.layer.9.output.dense.bias', 'bert.parsbert.encoder.layer.3.attention.self.key.bias']\n",
            "You should probably TRAIN this model on a down-stream task to be able to use it for predictions and inference.\n"
          ]
        }
      ],
      "source": [
        "trainer = Trainer(args, train_dataset, valid_dataset, test_dataset)"
      ]
    },
    {
      "cell_type": "code",
      "execution_count": 71,
      "metadata": {
        "colab": {
          "base_uri": "https://localhost:8080/"
        },
        "id": "_uBVFNqugMZZ",
        "outputId": "b85671e1-2586-4759-b23e-c23723971f5e"
      },
      "outputs": [
        {
          "name": "stderr",
          "output_type": "stream",
          "text": [
            "/usr/local/lib/python3.7/dist-packages/transformers/optimization.py:309: FutureWarning: This implementation of AdamW is deprecated and will be removed in a future version. Use the PyTorch implementation torch.optim.AdamW instead, or set `no_deprecation_warning=True` to disable this warning\n",
            "  FutureWarning,\n",
            "05/25/2022 14:17:26 - INFO - __main__ -   ***** Running training *****\n",
            "05/25/2022 14:17:26 - INFO - __main__ -     Num examples = 754\n",
            "05/25/2022 14:17:26 - INFO - __main__ -     Num Epochs = 5\n",
            "05/25/2022 14:17:26 - INFO - __main__ -     Total train batch size = 16\n",
            "05/25/2022 14:17:26 - INFO - __main__ -     Gradient Accumulation steps = 1\n",
            "05/25/2022 14:17:26 - INFO - __main__ -     Total optimization steps = 240\n",
            "05/25/2022 14:17:26 - INFO - __main__ -     Logging steps = 50\n",
            "05/25/2022 14:17:26 - INFO - __main__ -     Save steps = 250\n",
            "Epoch:   0%|          | 0/5 [00:00<?, ?it/s]05/25/2022 14:17:28 - INFO - __main__ -   Train loss = 1.1083\n",
            "05/25/2022 14:17:29 - INFO - __main__ -   Train loss = 1.1037\n",
            "05/25/2022 14:17:30 - INFO - __main__ -   Train loss = 1.0978\n",
            "05/25/2022 14:17:32 - INFO - __main__ -   Train loss = 1.0929\n",
            "05/25/2022 14:17:32 - INFO - __main__ -   train_acc = 38.8594\n",
            "Epoch:  20%|██        | 1/5 [00:06<00:24,  6.14s/it]05/25/2022 14:17:33 - INFO - __main__ -   Train loss = 1.0898\n",
            "05/25/2022 14:17:33 - INFO - __main__ -   \n",
            "***** Running evaluation on dev dataset *****\n",
            "05/25/2022 14:17:33 - INFO - __main__ -     Num examples = 270\n",
            "05/25/2022 14:17:33 - INFO - __main__ -     Batch size = 64\n",
            "05/25/2022 14:17:33 - INFO - __main__ -   ***** Eval results *****\n",
            "05/25/2022 14:17:33 - INFO - __main__ -     accuracy = 28.8889\n",
            "05/25/2022 14:17:33 - INFO - __main__ -     loss = 1.1342\n",
            "05/25/2022 14:17:33 - INFO - __main__ -   dev best_acc = 28.8889\n"
          ]
        },
        {
          "name": "stdout",
          "output_type": "stream",
          "text": [
            "{0}\n"
          ]
        },
        {
          "name": "stderr",
          "output_type": "stream",
          "text": [
            "05/25/2022 14:17:38 - INFO - __main__ -   Train loss = 1.0905\n",
            "05/25/2022 14:17:40 - INFO - __main__ -   Train loss = 1.0898\n",
            "05/25/2022 14:17:41 - INFO - __main__ -   Train loss = 1.0912\n",
            "05/25/2022 14:17:42 - INFO - __main__ -   Train loss = 1.0908\n",
            "05/25/2022 14:17:43 - INFO - __main__ -   train_acc = 38.8594\n",
            "Epoch:  40%|████      | 2/5 [00:16<00:26,  8.68s/it]05/25/2022 14:17:43 - INFO - __main__ -   Train loss = 1.0935\n",
            "05/25/2022 14:17:43 - INFO - __main__ -   \n",
            "***** Running evaluation on dev dataset *****\n",
            "05/25/2022 14:17:43 - INFO - __main__ -     Num examples = 270\n",
            "05/25/2022 14:17:43 - INFO - __main__ -     Batch size = 64\n",
            "05/25/2022 14:17:44 - INFO - __main__ -   ***** Eval results *****\n",
            "05/25/2022 14:17:44 - INFO - __main__ -     accuracy = 28.8889\n",
            "05/25/2022 14:17:44 - INFO - __main__ -     loss = 1.1408\n"
          ]
        },
        {
          "name": "stdout",
          "output_type": "stream",
          "text": [
            "{0}\n"
          ]
        },
        {
          "name": "stderr",
          "output_type": "stream",
          "text": [
            "05/25/2022 14:17:45 - INFO - __main__ -   Train loss = 1.0936\n",
            "05/25/2022 14:17:47 - INFO - __main__ -   Train loss = 1.0946\n",
            "05/25/2022 14:17:48 - INFO - __main__ -   Train loss = 1.0943\n",
            "05/25/2022 14:17:49 - INFO - __main__ -   Train loss = 1.0930\n",
            "05/25/2022 14:17:50 - INFO - __main__ -   train_acc = 40.4509\n",
            "Epoch:  60%|██████    | 3/5 [00:23<00:15,  7.81s/it]05/25/2022 14:17:51 - INFO - __main__ -   Train loss = 1.0897\n",
            "05/25/2022 14:17:51 - INFO - __main__ -   \n",
            "***** Running evaluation on dev dataset *****\n",
            "05/25/2022 14:17:51 - INFO - __main__ -     Num examples = 270\n",
            "05/25/2022 14:17:51 - INFO - __main__ -     Batch size = 64\n",
            "05/25/2022 14:17:51 - INFO - __main__ -   ***** Eval results *****\n",
            "05/25/2022 14:17:51 - INFO - __main__ -     accuracy = 28.8889\n",
            "05/25/2022 14:17:51 - INFO - __main__ -     loss = 1.1649\n"
          ]
        },
        {
          "name": "stdout",
          "output_type": "stream",
          "text": [
            "{0}\n"
          ]
        },
        {
          "name": "stderr",
          "output_type": "stream",
          "text": [
            "05/25/2022 14:17:52 - INFO - __main__ -   Train loss = 1.0898\n",
            "05/25/2022 14:17:54 - INFO - __main__ -   Train loss = 1.0899\n",
            "05/25/2022 14:17:55 - INFO - __main__ -   Train loss = 1.0884\n",
            "05/25/2022 14:17:56 - INFO - __main__ -   Train loss = 1.0892\n",
            "05/25/2022 14:17:57 - INFO - __main__ -   train_acc = 40.3183\n",
            "Epoch:  80%|████████  | 4/5 [00:30<00:07,  7.44s/it]05/25/2022 14:17:58 - INFO - __main__ -   Train loss = 1.0887\n",
            "05/25/2022 14:17:58 - INFO - __main__ -   \n",
            "***** Running evaluation on dev dataset *****\n",
            "05/25/2022 14:17:58 - INFO - __main__ -     Num examples = 270\n",
            "05/25/2022 14:17:58 - INFO - __main__ -     Batch size = 64\n",
            "05/25/2022 14:17:58 - INFO - __main__ -   ***** Eval results *****\n",
            "05/25/2022 14:17:58 - INFO - __main__ -     accuracy = 28.8889\n",
            "05/25/2022 14:17:58 - INFO - __main__ -     loss = 1.1235\n"
          ]
        },
        {
          "name": "stdout",
          "output_type": "stream",
          "text": [
            "{0}\n"
          ]
        },
        {
          "name": "stderr",
          "output_type": "stream",
          "text": [
            "05/25/2022 14:18:00 - INFO - __main__ -   Train loss = 1.0882\n",
            "05/25/2022 14:18:01 - INFO - __main__ -   Train loss = 1.0869\n",
            "05/25/2022 14:18:02 - INFO - __main__ -   Train loss = 1.0879\n",
            "05/25/2022 14:18:04 - INFO - __main__ -   Train loss = 1.0867\n",
            "05/25/2022 14:18:04 - INFO - __main__ -   train_acc = 41.1141\n",
            "Epoch: 100%|██████████| 5/5 [00:37<00:00,  7.44s/it]\n",
            "05/25/2022 14:18:04 - INFO - __main__ -   \n",
            "***** Running evaluation on test dataset *****\n",
            "05/25/2022 14:18:04 - INFO - __main__ -     Num examples = 1673\n",
            "05/25/2022 14:18:04 - INFO - __main__ -     Batch size = 64\n",
            "05/25/2022 14:18:07 - INFO - __main__ -   ***** Eval results *****\n",
            "05/25/2022 14:18:07 - INFO - __main__ -     accuracy = 37.7167\n",
            "05/25/2022 14:18:07 - INFO - __main__ -     loss = 1.1029\n"
          ]
        },
        {
          "name": "stdout",
          "output_type": "stream",
          "text": [
            "{0, 2}\n",
            "              precision    recall  f1-score   support\n",
            "\n",
            "           e     0.3703    0.9590    0.5342       610\n",
            "           c     0.0000    0.0000    0.0000       561\n",
            "           n     0.4946    0.0916    0.1546       502\n",
            "\n",
            "    accuracy                         0.3772      1673\n",
            "   macro avg     0.2883    0.3502    0.2296      1673\n",
            "weighted avg     0.2834    0.3772    0.2412      1673\n",
            "\n"
          ]
        },
        {
          "name": "stderr",
          "output_type": "stream",
          "text": [
            "/usr/local/lib/python3.7/dist-packages/sklearn/metrics/_classification.py:1318: UndefinedMetricWarning: Precision and F-score are ill-defined and being set to 0.0 in labels with no predicted samples. Use `zero_division` parameter to control this behavior.\n",
            "  _warn_prf(average, modifier, msg_start, len(result))\n",
            "/usr/local/lib/python3.7/dist-packages/sklearn/metrics/_classification.py:1318: UndefinedMetricWarning: Precision and F-score are ill-defined and being set to 0.0 in labels with no predicted samples. Use `zero_division` parameter to control this behavior.\n",
            "  _warn_prf(average, modifier, msg_start, len(result))\n",
            "/usr/local/lib/python3.7/dist-packages/sklearn/metrics/_classification.py:1318: UndefinedMetricWarning: Precision and F-score are ill-defined and being set to 0.0 in labels with no predicted samples. Use `zero_division` parameter to control this behavior.\n",
            "  _warn_prf(average, modifier, msg_start, len(result))\n"
          ]
        }
      ],
      "source": [
        "gc.collect()\n",
        "torch.cuda.empty_cache()\n",
        "\n",
        "if args.do_train:\n",
        "    # trainer.load_model()\n",
        "    trainer.train()\n",
        "\n",
        "if args.do_eval:\n",
        "    # trainer.load_model()\n",
        "    trainer.evaluate(\"test\")"
      ]
    },
    {
      "cell_type": "code",
      "execution_count": null,
      "metadata": {
        "id": "JIOazWmCumuf"
      },
      "outputs": [],
      "source": [
        "# # Save the model to drive\n",
        "# !cp /content/Textual_Entailement_model/pytorch_model.bin /content/drive/MyDrive/Textual_Entailement_model\n",
        "# !cp /content/Textual_Entailement_model/config.json /content/drive/MyDrive/Textual_Entailement_model"
      ]
    }
  ],
  "metadata": {
    "colab": {
      "collapsed_sections": [],
      "name": "CA4_Part1.ipynb",
      "provenance": []
    },
    "kernelspec": {
      "display_name": "Python 3",
      "name": "python3"
    },
    "language_info": {
      "name": "python"
    },
    "widgets": {
      "application/vnd.jupyter.widget-state+json": {
        "00d35507988d41678404e0dd266efb0b": {
          "model_module": "@jupyter-widgets/base",
          "model_module_version": "1.2.0",
          "model_name": "LayoutModel",
          "state": {
            "_model_module": "@jupyter-widgets/base",
            "_model_module_version": "1.2.0",
            "_model_name": "LayoutModel",
            "_view_count": null,
            "_view_module": "@jupyter-widgets/base",
            "_view_module_version": "1.2.0",
            "_view_name": "LayoutView",
            "align_content": null,
            "align_items": null,
            "align_self": null,
            "border": null,
            "bottom": null,
            "display": null,
            "flex": null,
            "flex_flow": null,
            "grid_area": null,
            "grid_auto_columns": null,
            "grid_auto_flow": null,
            "grid_auto_rows": null,
            "grid_column": null,
            "grid_gap": null,
            "grid_row": null,
            "grid_template_areas": null,
            "grid_template_columns": null,
            "grid_template_rows": null,
            "height": null,
            "justify_content": null,
            "justify_items": null,
            "left": null,
            "margin": null,
            "max_height": null,
            "max_width": null,
            "min_height": null,
            "min_width": null,
            "object_fit": null,
            "object_position": null,
            "order": null,
            "overflow": null,
            "overflow_x": null,
            "overflow_y": null,
            "padding": null,
            "right": null,
            "top": null,
            "visibility": null,
            "width": null
          }
        },
        "02c2720954844cfdaa652aa3e2b162c2": {
          "model_module": "@jupyter-widgets/controls",
          "model_module_version": "1.5.0",
          "model_name": "DescriptionStyleModel",
          "state": {
            "_model_module": "@jupyter-widgets/controls",
            "_model_module_version": "1.5.0",
            "_model_name": "DescriptionStyleModel",
            "_view_count": null,
            "_view_module": "@jupyter-widgets/base",
            "_view_module_version": "1.2.0",
            "_view_name": "StyleView",
            "description_width": ""
          }
        },
        "035f1fc5e0974196809fe00fd754edb5": {
          "model_module": "@jupyter-widgets/controls",
          "model_module_version": "1.5.0",
          "model_name": "ProgressStyleModel",
          "state": {
            "_model_module": "@jupyter-widgets/controls",
            "_model_module_version": "1.5.0",
            "_model_name": "ProgressStyleModel",
            "_view_count": null,
            "_view_module": "@jupyter-widgets/base",
            "_view_module_version": "1.2.0",
            "_view_name": "StyleView",
            "bar_color": null,
            "description_width": ""
          }
        },
        "057cb837bdc040989fa70d9de60c60e3": {
          "model_module": "@jupyter-widgets/base",
          "model_module_version": "1.2.0",
          "model_name": "LayoutModel",
          "state": {
            "_model_module": "@jupyter-widgets/base",
            "_model_module_version": "1.2.0",
            "_model_name": "LayoutModel",
            "_view_count": null,
            "_view_module": "@jupyter-widgets/base",
            "_view_module_version": "1.2.0",
            "_view_name": "LayoutView",
            "align_content": null,
            "align_items": null,
            "align_self": null,
            "border": null,
            "bottom": null,
            "display": null,
            "flex": null,
            "flex_flow": null,
            "grid_area": null,
            "grid_auto_columns": null,
            "grid_auto_flow": null,
            "grid_auto_rows": null,
            "grid_column": null,
            "grid_gap": null,
            "grid_row": null,
            "grid_template_areas": null,
            "grid_template_columns": null,
            "grid_template_rows": null,
            "height": null,
            "justify_content": null,
            "justify_items": null,
            "left": null,
            "margin": null,
            "max_height": null,
            "max_width": null,
            "min_height": null,
            "min_width": null,
            "object_fit": null,
            "object_position": null,
            "order": null,
            "overflow": null,
            "overflow_x": null,
            "overflow_y": null,
            "padding": null,
            "right": null,
            "top": null,
            "visibility": null,
            "width": null
          }
        },
        "084a25447c064ea0bd2f40267a8415f0": {
          "model_module": "@jupyter-widgets/controls",
          "model_module_version": "1.5.0",
          "model_name": "HBoxModel",
          "state": {
            "_dom_classes": [],
            "_model_module": "@jupyter-widgets/controls",
            "_model_module_version": "1.5.0",
            "_model_name": "HBoxModel",
            "_view_count": null,
            "_view_module": "@jupyter-widgets/controls",
            "_view_module_version": "1.5.0",
            "_view_name": "HBoxView",
            "box_style": "",
            "children": [
              "IPY_MODEL_97365f974fcc473f8a3dc3c497ae293c",
              "IPY_MODEL_50cf49ac15a54bfd8d616e7345b84860",
              "IPY_MODEL_85189131e3814270b57ac60d9f6d2c92"
            ],
            "layout": "IPY_MODEL_285539ef2c31497a88d9b9a9bb048812"
          }
        },
        "0d456250900b44e08d38a1282f34e374": {
          "model_module": "@jupyter-widgets/controls",
          "model_module_version": "1.5.0",
          "model_name": "HTMLModel",
          "state": {
            "_dom_classes": [],
            "_model_module": "@jupyter-widgets/controls",
            "_model_module_version": "1.5.0",
            "_model_name": "HTMLModel",
            "_view_count": null,
            "_view_module": "@jupyter-widgets/controls",
            "_view_module_version": "1.5.0",
            "_view_name": "HTMLView",
            "description": "",
            "description_tooltip": null,
            "layout": "IPY_MODEL_0f0e28a9820d4ec49cfb4a13823929c4",
            "placeholder": "​",
            "style": "IPY_MODEL_ca6b30bec0a34e6c9e809e760d112396",
            "value": " 596/1675 [00:00&lt;00:00, 5957.55 examples/s]"
          }
        },
        "0ee111226ef04651849a89313d5b3dde": {
          "model_module": "@jupyter-widgets/controls",
          "model_module_version": "1.5.0",
          "model_name": "ProgressStyleModel",
          "state": {
            "_model_module": "@jupyter-widgets/controls",
            "_model_module_version": "1.5.0",
            "_model_name": "ProgressStyleModel",
            "_view_count": null,
            "_view_module": "@jupyter-widgets/base",
            "_view_module_version": "1.2.0",
            "_view_name": "StyleView",
            "bar_color": null,
            "description_width": ""
          }
        },
        "0f0e28a9820d4ec49cfb4a13823929c4": {
          "model_module": "@jupyter-widgets/base",
          "model_module_version": "1.2.0",
          "model_name": "LayoutModel",
          "state": {
            "_model_module": "@jupyter-widgets/base",
            "_model_module_version": "1.2.0",
            "_model_name": "LayoutModel",
            "_view_count": null,
            "_view_module": "@jupyter-widgets/base",
            "_view_module_version": "1.2.0",
            "_view_name": "LayoutView",
            "align_content": null,
            "align_items": null,
            "align_self": null,
            "border": null,
            "bottom": null,
            "display": null,
            "flex": null,
            "flex_flow": null,
            "grid_area": null,
            "grid_auto_columns": null,
            "grid_auto_flow": null,
            "grid_auto_rows": null,
            "grid_column": null,
            "grid_gap": null,
            "grid_row": null,
            "grid_template_areas": null,
            "grid_template_columns": null,
            "grid_template_rows": null,
            "height": null,
            "justify_content": null,
            "justify_items": null,
            "left": null,
            "margin": null,
            "max_height": null,
            "max_width": null,
            "min_height": null,
            "min_width": null,
            "object_fit": null,
            "object_position": null,
            "order": null,
            "overflow": null,
            "overflow_x": null,
            "overflow_y": null,
            "padding": null,
            "right": null,
            "top": null,
            "visibility": null,
            "width": null
          }
        },
        "104d8d2c999646189c4dc8f3868f88df": {
          "model_module": "@jupyter-widgets/controls",
          "model_module_version": "1.5.0",
          "model_name": "ProgressStyleModel",
          "state": {
            "_model_module": "@jupyter-widgets/controls",
            "_model_module_version": "1.5.0",
            "_model_name": "ProgressStyleModel",
            "_view_count": null,
            "_view_module": "@jupyter-widgets/base",
            "_view_module_version": "1.2.0",
            "_view_name": "StyleView",
            "bar_color": null,
            "description_width": ""
          }
        },
        "106dab31edd245dab9dd9818aba588a4": {
          "model_module": "@jupyter-widgets/controls",
          "model_module_version": "1.5.0",
          "model_name": "DescriptionStyleModel",
          "state": {
            "_model_module": "@jupyter-widgets/controls",
            "_model_module_version": "1.5.0",
            "_model_name": "DescriptionStyleModel",
            "_view_count": null,
            "_view_module": "@jupyter-widgets/base",
            "_view_module_version": "1.2.0",
            "_view_name": "StyleView",
            "description_width": ""
          }
        },
        "14819331d2284ef28635eef82f736b72": {
          "model_module": "@jupyter-widgets/controls",
          "model_module_version": "1.5.0",
          "model_name": "DescriptionStyleModel",
          "state": {
            "_model_module": "@jupyter-widgets/controls",
            "_model_module_version": "1.5.0",
            "_model_name": "DescriptionStyleModel",
            "_view_count": null,
            "_view_module": "@jupyter-widgets/base",
            "_view_module_version": "1.2.0",
            "_view_name": "StyleView",
            "description_width": ""
          }
        },
        "15c76a938fc7401ba822f37444657f15": {
          "model_module": "@jupyter-widgets/base",
          "model_module_version": "1.2.0",
          "model_name": "LayoutModel",
          "state": {
            "_model_module": "@jupyter-widgets/base",
            "_model_module_version": "1.2.0",
            "_model_name": "LayoutModel",
            "_view_count": null,
            "_view_module": "@jupyter-widgets/base",
            "_view_module_version": "1.2.0",
            "_view_name": "LayoutView",
            "align_content": null,
            "align_items": null,
            "align_self": null,
            "border": null,
            "bottom": null,
            "display": null,
            "flex": null,
            "flex_flow": null,
            "grid_area": null,
            "grid_auto_columns": null,
            "grid_auto_flow": null,
            "grid_auto_rows": null,
            "grid_column": null,
            "grid_gap": null,
            "grid_row": null,
            "grid_template_areas": null,
            "grid_template_columns": null,
            "grid_template_rows": null,
            "height": null,
            "justify_content": null,
            "justify_items": null,
            "left": null,
            "margin": null,
            "max_height": null,
            "max_width": null,
            "min_height": null,
            "min_width": null,
            "object_fit": null,
            "object_position": null,
            "order": null,
            "overflow": null,
            "overflow_x": null,
            "overflow_y": null,
            "padding": null,
            "right": null,
            "top": null,
            "visibility": null,
            "width": null
          }
        },
        "1685dba419b5404d9e66ba22d0d5f0b6": {
          "model_module": "@jupyter-widgets/controls",
          "model_module_version": "1.5.0",
          "model_name": "HBoxModel",
          "state": {
            "_dom_classes": [],
            "_model_module": "@jupyter-widgets/controls",
            "_model_module_version": "1.5.0",
            "_model_name": "HBoxModel",
            "_view_count": null,
            "_view_module": "@jupyter-widgets/controls",
            "_view_module_version": "1.5.0",
            "_view_name": "HBoxView",
            "box_style": "",
            "children": [
              "IPY_MODEL_850d692a24784f7aa8b29ccb55e97eb3",
              "IPY_MODEL_9551ee1647b141559a4e8c459203f53c",
              "IPY_MODEL_2d3e3792c309408eb209929913632031"
            ],
            "layout": "IPY_MODEL_ad9d9c0de83d4720964c59e7d455469f"
          }
        },
        "20662125897e42cf985ee1c7107d5197": {
          "model_module": "@jupyter-widgets/base",
          "model_module_version": "1.2.0",
          "model_name": "LayoutModel",
          "state": {
            "_model_module": "@jupyter-widgets/base",
            "_model_module_version": "1.2.0",
            "_model_name": "LayoutModel",
            "_view_count": null,
            "_view_module": "@jupyter-widgets/base",
            "_view_module_version": "1.2.0",
            "_view_name": "LayoutView",
            "align_content": null,
            "align_items": null,
            "align_self": null,
            "border": null,
            "bottom": null,
            "display": null,
            "flex": null,
            "flex_flow": null,
            "grid_area": null,
            "grid_auto_columns": null,
            "grid_auto_flow": null,
            "grid_auto_rows": null,
            "grid_column": null,
            "grid_gap": null,
            "grid_row": null,
            "grid_template_areas": null,
            "grid_template_columns": null,
            "grid_template_rows": null,
            "height": null,
            "justify_content": null,
            "justify_items": null,
            "left": null,
            "margin": null,
            "max_height": null,
            "max_width": null,
            "min_height": null,
            "min_width": null,
            "object_fit": null,
            "object_position": null,
            "order": null,
            "overflow": null,
            "overflow_x": null,
            "overflow_y": null,
            "padding": null,
            "right": null,
            "top": null,
            "visibility": null,
            "width": null
          }
        },
        "22a63be846aa4ce1a3f110cec8b8d3a2": {
          "model_module": "@jupyter-widgets/base",
          "model_module_version": "1.2.0",
          "model_name": "LayoutModel",
          "state": {
            "_model_module": "@jupyter-widgets/base",
            "_model_module_version": "1.2.0",
            "_model_name": "LayoutModel",
            "_view_count": null,
            "_view_module": "@jupyter-widgets/base",
            "_view_module_version": "1.2.0",
            "_view_name": "LayoutView",
            "align_content": null,
            "align_items": null,
            "align_self": null,
            "border": null,
            "bottom": null,
            "display": null,
            "flex": null,
            "flex_flow": null,
            "grid_area": null,
            "grid_auto_columns": null,
            "grid_auto_flow": null,
            "grid_auto_rows": null,
            "grid_column": null,
            "grid_gap": null,
            "grid_row": null,
            "grid_template_areas": null,
            "grid_template_columns": null,
            "grid_template_rows": null,
            "height": null,
            "justify_content": null,
            "justify_items": null,
            "left": null,
            "margin": null,
            "max_height": null,
            "max_width": null,
            "min_height": null,
            "min_width": null,
            "object_fit": null,
            "object_position": null,
            "order": null,
            "overflow": null,
            "overflow_x": null,
            "overflow_y": null,
            "padding": null,
            "right": null,
            "top": null,
            "visibility": null,
            "width": null
          }
        },
        "22b30402294c4925bb44925220bfdcea": {
          "model_module": "@jupyter-widgets/base",
          "model_module_version": "1.2.0",
          "model_name": "LayoutModel",
          "state": {
            "_model_module": "@jupyter-widgets/base",
            "_model_module_version": "1.2.0",
            "_model_name": "LayoutModel",
            "_view_count": null,
            "_view_module": "@jupyter-widgets/base",
            "_view_module_version": "1.2.0",
            "_view_name": "LayoutView",
            "align_content": null,
            "align_items": null,
            "align_self": null,
            "border": null,
            "bottom": null,
            "display": null,
            "flex": null,
            "flex_flow": null,
            "grid_area": null,
            "grid_auto_columns": null,
            "grid_auto_flow": null,
            "grid_auto_rows": null,
            "grid_column": null,
            "grid_gap": null,
            "grid_row": null,
            "grid_template_areas": null,
            "grid_template_columns": null,
            "grid_template_rows": null,
            "height": null,
            "justify_content": null,
            "justify_items": null,
            "left": null,
            "margin": null,
            "max_height": null,
            "max_width": null,
            "min_height": null,
            "min_width": null,
            "object_fit": null,
            "object_position": null,
            "order": null,
            "overflow": null,
            "overflow_x": null,
            "overflow_y": null,
            "padding": null,
            "right": null,
            "top": null,
            "visibility": null,
            "width": null
          }
        },
        "26167513cfcb4ebdad2fba5539c301d4": {
          "model_module": "@jupyter-widgets/base",
          "model_module_version": "1.2.0",
          "model_name": "LayoutModel",
          "state": {
            "_model_module": "@jupyter-widgets/base",
            "_model_module_version": "1.2.0",
            "_model_name": "LayoutModel",
            "_view_count": null,
            "_view_module": "@jupyter-widgets/base",
            "_view_module_version": "1.2.0",
            "_view_name": "LayoutView",
            "align_content": null,
            "align_items": null,
            "align_self": null,
            "border": null,
            "bottom": null,
            "display": null,
            "flex": null,
            "flex_flow": null,
            "grid_area": null,
            "grid_auto_columns": null,
            "grid_auto_flow": null,
            "grid_auto_rows": null,
            "grid_column": null,
            "grid_gap": null,
            "grid_row": null,
            "grid_template_areas": null,
            "grid_template_columns": null,
            "grid_template_rows": null,
            "height": null,
            "justify_content": null,
            "justify_items": null,
            "left": null,
            "margin": null,
            "max_height": null,
            "max_width": null,
            "min_height": null,
            "min_width": null,
            "object_fit": null,
            "object_position": null,
            "order": null,
            "overflow": null,
            "overflow_x": null,
            "overflow_y": null,
            "padding": null,
            "right": null,
            "top": null,
            "visibility": null,
            "width": null
          }
        },
        "2768d9ae1df34a20be0807c84d9275f1": {
          "model_module": "@jupyter-widgets/controls",
          "model_module_version": "1.5.0",
          "model_name": "HTMLModel",
          "state": {
            "_dom_classes": [],
            "_model_module": "@jupyter-widgets/controls",
            "_model_module_version": "1.5.0",
            "_model_name": "HTMLModel",
            "_view_count": null,
            "_view_module": "@jupyter-widgets/controls",
            "_view_module_version": "1.5.0",
            "_view_name": "HTMLView",
            "description": "",
            "description_tooltip": null,
            "layout": "IPY_MODEL_20662125897e42cf985ee1c7107d5197",
            "placeholder": "​",
            "style": "IPY_MODEL_ed3ac27cb2a04c3986a93b8b7f8b8662",
            "value": "Downloading metadata: 100%"
          }
        },
        "285539ef2c31497a88d9b9a9bb048812": {
          "model_module": "@jupyter-widgets/base",
          "model_module_version": "1.2.0",
          "model_name": "LayoutModel",
          "state": {
            "_model_module": "@jupyter-widgets/base",
            "_model_module_version": "1.2.0",
            "_model_name": "LayoutModel",
            "_view_count": null,
            "_view_module": "@jupyter-widgets/base",
            "_view_module_version": "1.2.0",
            "_view_name": "LayoutView",
            "align_content": null,
            "align_items": null,
            "align_self": null,
            "border": null,
            "bottom": null,
            "display": null,
            "flex": null,
            "flex_flow": null,
            "grid_area": null,
            "grid_auto_columns": null,
            "grid_auto_flow": null,
            "grid_auto_rows": null,
            "grid_column": null,
            "grid_gap": null,
            "grid_row": null,
            "grid_template_areas": null,
            "grid_template_columns": null,
            "grid_template_rows": null,
            "height": null,
            "justify_content": null,
            "justify_items": null,
            "left": null,
            "margin": null,
            "max_height": null,
            "max_width": null,
            "min_height": null,
            "min_width": null,
            "object_fit": null,
            "object_position": null,
            "order": null,
            "overflow": null,
            "overflow_x": null,
            "overflow_y": null,
            "padding": null,
            "right": null,
            "top": null,
            "visibility": null,
            "width": null
          }
        },
        "2a6f459e36db45e4916d71530d239392": {
          "model_module": "@jupyter-widgets/base",
          "model_module_version": "1.2.0",
          "model_name": "LayoutModel",
          "state": {
            "_model_module": "@jupyter-widgets/base",
            "_model_module_version": "1.2.0",
            "_model_name": "LayoutModel",
            "_view_count": null,
            "_view_module": "@jupyter-widgets/base",
            "_view_module_version": "1.2.0",
            "_view_name": "LayoutView",
            "align_content": null,
            "align_items": null,
            "align_self": null,
            "border": null,
            "bottom": null,
            "display": null,
            "flex": null,
            "flex_flow": null,
            "grid_area": null,
            "grid_auto_columns": null,
            "grid_auto_flow": null,
            "grid_auto_rows": null,
            "grid_column": null,
            "grid_gap": null,
            "grid_row": null,
            "grid_template_areas": null,
            "grid_template_columns": null,
            "grid_template_rows": null,
            "height": null,
            "justify_content": null,
            "justify_items": null,
            "left": null,
            "margin": null,
            "max_height": null,
            "max_width": null,
            "min_height": null,
            "min_width": null,
            "object_fit": null,
            "object_position": null,
            "order": null,
            "overflow": null,
            "overflow_x": null,
            "overflow_y": null,
            "padding": null,
            "right": null,
            "top": null,
            "visibility": null,
            "width": null
          }
        },
        "2d3e3792c309408eb209929913632031": {
          "model_module": "@jupyter-widgets/controls",
          "model_module_version": "1.5.0",
          "model_name": "HTMLModel",
          "state": {
            "_dom_classes": [],
            "_model_module": "@jupyter-widgets/controls",
            "_model_module_version": "1.5.0",
            "_model_name": "HTMLModel",
            "_view_count": null,
            "_view_module": "@jupyter-widgets/controls",
            "_view_module_version": "1.5.0",
            "_view_name": "HTMLView",
            "description": "",
            "description_tooltip": null,
            "layout": "IPY_MODEL_b4e92b26f2aa484584857a08963adcdc",
            "placeholder": "​",
            "style": "IPY_MODEL_c8890b859a8c486abded3cb219cb3e50",
            "value": " 3/3 [00:00&lt;00:00, 58.73it/s]"
          }
        },
        "2eddc027cbf4444ab64c1a776733f38c": {
          "model_module": "@jupyter-widgets/controls",
          "model_module_version": "1.5.0",
          "model_name": "HTMLModel",
          "state": {
            "_dom_classes": [],
            "_model_module": "@jupyter-widgets/controls",
            "_model_module_version": "1.5.0",
            "_model_name": "HTMLModel",
            "_view_count": null,
            "_view_module": "@jupyter-widgets/controls",
            "_view_module_version": "1.5.0",
            "_view_name": "HTMLView",
            "description": "",
            "description_tooltip": null,
            "layout": "IPY_MODEL_47a90145d7a34ff79faa6359dc2dddc6",
            "placeholder": "​",
            "style": "IPY_MODEL_acab06e81d8347c3a1a8cadb4b4e1523",
            "value": "Downloading data: "
          }
        },
        "2efbc10be796441bb5d27029fd05e5ea": {
          "model_module": "@jupyter-widgets/controls",
          "model_module_version": "1.5.0",
          "model_name": "HBoxModel",
          "state": {
            "_dom_classes": [],
            "_model_module": "@jupyter-widgets/controls",
            "_model_module_version": "1.5.0",
            "_model_name": "HBoxModel",
            "_view_count": null,
            "_view_module": "@jupyter-widgets/controls",
            "_view_module_version": "1.5.0",
            "_view_name": "HBoxView",
            "box_style": "",
            "children": [
              "IPY_MODEL_2eddc027cbf4444ab64c1a776733f38c",
              "IPY_MODEL_fa01257170454d1ba2944b8124ae8bb7",
              "IPY_MODEL_bc21d87ec919499490ad1f7cf998879f"
            ],
            "layout": "IPY_MODEL_d87f3fc7c8cc42c68f7c507a2ac74143"
          }
        },
        "31ab20256520406f91bb9a7b0871cd16": {
          "model_module": "@jupyter-widgets/base",
          "model_module_version": "1.2.0",
          "model_name": "LayoutModel",
          "state": {
            "_model_module": "@jupyter-widgets/base",
            "_model_module_version": "1.2.0",
            "_model_name": "LayoutModel",
            "_view_count": null,
            "_view_module": "@jupyter-widgets/base",
            "_view_module_version": "1.2.0",
            "_view_name": "LayoutView",
            "align_content": null,
            "align_items": null,
            "align_self": null,
            "border": null,
            "bottom": null,
            "display": null,
            "flex": null,
            "flex_flow": null,
            "grid_area": null,
            "grid_auto_columns": null,
            "grid_auto_flow": null,
            "grid_auto_rows": null,
            "grid_column": null,
            "grid_gap": null,
            "grid_row": null,
            "grid_template_areas": null,
            "grid_template_columns": null,
            "grid_template_rows": null,
            "height": null,
            "justify_content": null,
            "justify_items": null,
            "left": null,
            "margin": null,
            "max_height": null,
            "max_width": null,
            "min_height": null,
            "min_width": null,
            "object_fit": null,
            "object_position": null,
            "order": null,
            "overflow": null,
            "overflow_x": null,
            "overflow_y": null,
            "padding": null,
            "right": null,
            "top": null,
            "visibility": null,
            "width": null
          }
        },
        "31f423ba0971448da4bb498b4ba9afb2": {
          "model_module": "@jupyter-widgets/controls",
          "model_module_version": "1.5.0",
          "model_name": "DescriptionStyleModel",
          "state": {
            "_model_module": "@jupyter-widgets/controls",
            "_model_module_version": "1.5.0",
            "_model_name": "DescriptionStyleModel",
            "_view_count": null,
            "_view_module": "@jupyter-widgets/base",
            "_view_module_version": "1.2.0",
            "_view_name": "StyleView",
            "description_width": ""
          }
        },
        "32e2374c06e74d4dad9fc64ac663dd2f": {
          "model_module": "@jupyter-widgets/controls",
          "model_module_version": "1.5.0",
          "model_name": "DescriptionStyleModel",
          "state": {
            "_model_module": "@jupyter-widgets/controls",
            "_model_module_version": "1.5.0",
            "_model_name": "DescriptionStyleModel",
            "_view_count": null,
            "_view_module": "@jupyter-widgets/base",
            "_view_module_version": "1.2.0",
            "_view_name": "StyleView",
            "description_width": ""
          }
        },
        "33d52b8ac35f43c6a5aa6215d2c3e9dd": {
          "model_module": "@jupyter-widgets/controls",
          "model_module_version": "1.5.0",
          "model_name": "HBoxModel",
          "state": {
            "_dom_classes": [],
            "_model_module": "@jupyter-widgets/controls",
            "_model_module_version": "1.5.0",
            "_model_name": "HBoxModel",
            "_view_count": null,
            "_view_module": "@jupyter-widgets/controls",
            "_view_module_version": "1.5.0",
            "_view_name": "HBoxView",
            "box_style": "",
            "children": [
              "IPY_MODEL_58ef5c1e4086408f840adf61096ef1a3",
              "IPY_MODEL_36f1ca6c2751461a95554f4eaa11839e",
              "IPY_MODEL_da515f30712840ae83497bca39fd99fc"
            ],
            "layout": "IPY_MODEL_26167513cfcb4ebdad2fba5539c301d4"
          }
        },
        "343702fc28f0420d84a91fff2168adff": {
          "model_module": "@jupyter-widgets/base",
          "model_module_version": "1.2.0",
          "model_name": "LayoutModel",
          "state": {
            "_model_module": "@jupyter-widgets/base",
            "_model_module_version": "1.2.0",
            "_model_name": "LayoutModel",
            "_view_count": null,
            "_view_module": "@jupyter-widgets/base",
            "_view_module_version": "1.2.0",
            "_view_name": "LayoutView",
            "align_content": null,
            "align_items": null,
            "align_self": null,
            "border": null,
            "bottom": null,
            "display": null,
            "flex": null,
            "flex_flow": null,
            "grid_area": null,
            "grid_auto_columns": null,
            "grid_auto_flow": null,
            "grid_auto_rows": null,
            "grid_column": null,
            "grid_gap": null,
            "grid_row": null,
            "grid_template_areas": null,
            "grid_template_columns": null,
            "grid_template_rows": null,
            "height": null,
            "justify_content": null,
            "justify_items": null,
            "left": null,
            "margin": null,
            "max_height": null,
            "max_width": null,
            "min_height": null,
            "min_width": null,
            "object_fit": null,
            "object_position": null,
            "order": null,
            "overflow": null,
            "overflow_x": null,
            "overflow_y": null,
            "padding": null,
            "right": null,
            "top": null,
            "visibility": null,
            "width": null
          }
        },
        "34e9e1692dc642a29459551f5234c024": {
          "model_module": "@jupyter-widgets/controls",
          "model_module_version": "1.5.0",
          "model_name": "DescriptionStyleModel",
          "state": {
            "_model_module": "@jupyter-widgets/controls",
            "_model_module_version": "1.5.0",
            "_model_name": "DescriptionStyleModel",
            "_view_count": null,
            "_view_module": "@jupyter-widgets/base",
            "_view_module_version": "1.2.0",
            "_view_name": "StyleView",
            "description_width": ""
          }
        },
        "3650003979bf453aa9a848324b58e645": {
          "model_module": "@jupyter-widgets/controls",
          "model_module_version": "1.5.0",
          "model_name": "HTMLModel",
          "state": {
            "_dom_classes": [],
            "_model_module": "@jupyter-widgets/controls",
            "_model_module_version": "1.5.0",
            "_model_name": "HTMLModel",
            "_view_count": null,
            "_view_module": "@jupyter-widgets/controls",
            "_view_module_version": "1.5.0",
            "_view_name": "HTMLView",
            "description": "",
            "description_tooltip": null,
            "layout": "IPY_MODEL_c1f11f6ed4ee4a48991204292aadaf15",
            "placeholder": "​",
            "style": "IPY_MODEL_7f9e79c3b1f84d71889f625ce3fa96cf",
            "value": "Downloading data files: 100%"
          }
        },
        "3663a0b44f4e411eaec5f3f07187cb85": {
          "model_module": "@jupyter-widgets/controls",
          "model_module_version": "1.5.0",
          "model_name": "HTMLModel",
          "state": {
            "_dom_classes": [],
            "_model_module": "@jupyter-widgets/controls",
            "_model_module_version": "1.5.0",
            "_model_name": "HTMLModel",
            "_view_count": null,
            "_view_module": "@jupyter-widgets/controls",
            "_view_module_version": "1.5.0",
            "_view_name": "HTMLView",
            "description": "",
            "description_tooltip": null,
            "layout": "IPY_MODEL_15c76a938fc7401ba822f37444657f15",
            "placeholder": "​",
            "style": "IPY_MODEL_34e9e1692dc642a29459551f5234c024",
            "value": " 577k/? [00:00&lt;00:00, 10.4MB/s]"
          }
        },
        "36f1ca6c2751461a95554f4eaa11839e": {
          "model_module": "@jupyter-widgets/controls",
          "model_module_version": "1.5.0",
          "model_name": "FloatProgressModel",
          "state": {
            "_dom_classes": [],
            "_model_module": "@jupyter-widgets/controls",
            "_model_module_version": "1.5.0",
            "_model_name": "FloatProgressModel",
            "_view_count": null,
            "_view_module": "@jupyter-widgets/controls",
            "_view_module_version": "1.5.0",
            "_view_name": "ProgressView",
            "bar_style": "",
            "description": "",
            "description_tooltip": null,
            "layout": "IPY_MODEL_39b86b273a5244b39dafd3b19d761439",
            "max": 270,
            "min": 0,
            "orientation": "horizontal",
            "style": "IPY_MODEL_0ee111226ef04651849a89313d5b3dde",
            "value": 270
          }
        },
        "39b86b273a5244b39dafd3b19d761439": {
          "model_module": "@jupyter-widgets/base",
          "model_module_version": "1.2.0",
          "model_name": "LayoutModel",
          "state": {
            "_model_module": "@jupyter-widgets/base",
            "_model_module_version": "1.2.0",
            "_model_name": "LayoutModel",
            "_view_count": null,
            "_view_module": "@jupyter-widgets/base",
            "_view_module_version": "1.2.0",
            "_view_name": "LayoutView",
            "align_content": null,
            "align_items": null,
            "align_self": null,
            "border": null,
            "bottom": null,
            "display": null,
            "flex": null,
            "flex_flow": null,
            "grid_area": null,
            "grid_auto_columns": null,
            "grid_auto_flow": null,
            "grid_auto_rows": null,
            "grid_column": null,
            "grid_gap": null,
            "grid_row": null,
            "grid_template_areas": null,
            "grid_template_columns": null,
            "grid_template_rows": null,
            "height": null,
            "justify_content": null,
            "justify_items": null,
            "left": null,
            "margin": null,
            "max_height": null,
            "max_width": null,
            "min_height": null,
            "min_width": null,
            "object_fit": null,
            "object_position": null,
            "order": null,
            "overflow": null,
            "overflow_x": null,
            "overflow_y": null,
            "padding": null,
            "right": null,
            "top": null,
            "visibility": null,
            "width": null
          }
        },
        "3b115bfe3e534bbb97b8e8bbddb0a037": {
          "model_module": "@jupyter-widgets/base",
          "model_module_version": "1.2.0",
          "model_name": "LayoutModel",
          "state": {
            "_model_module": "@jupyter-widgets/base",
            "_model_module_version": "1.2.0",
            "_model_name": "LayoutModel",
            "_view_count": null,
            "_view_module": "@jupyter-widgets/base",
            "_view_module_version": "1.2.0",
            "_view_name": "LayoutView",
            "align_content": null,
            "align_items": null,
            "align_self": null,
            "border": null,
            "bottom": null,
            "display": null,
            "flex": null,
            "flex_flow": null,
            "grid_area": null,
            "grid_auto_columns": null,
            "grid_auto_flow": null,
            "grid_auto_rows": null,
            "grid_column": null,
            "grid_gap": null,
            "grid_row": null,
            "grid_template_areas": null,
            "grid_template_columns": null,
            "grid_template_rows": null,
            "height": null,
            "justify_content": null,
            "justify_items": null,
            "left": null,
            "margin": null,
            "max_height": null,
            "max_width": null,
            "min_height": null,
            "min_width": null,
            "object_fit": null,
            "object_position": null,
            "order": null,
            "overflow": null,
            "overflow_x": null,
            "overflow_y": null,
            "padding": null,
            "right": null,
            "top": null,
            "visibility": null,
            "width": null
          }
        },
        "3b4a3f934dfd49949256619434abeddb": {
          "model_module": "@jupyter-widgets/controls",
          "model_module_version": "1.5.0",
          "model_name": "DescriptionStyleModel",
          "state": {
            "_model_module": "@jupyter-widgets/controls",
            "_model_module_version": "1.5.0",
            "_model_name": "DescriptionStyleModel",
            "_view_count": null,
            "_view_module": "@jupyter-widgets/base",
            "_view_module_version": "1.2.0",
            "_view_name": "StyleView",
            "description_width": ""
          }
        },
        "3f92214be01c46d8a4437f251e64165f": {
          "model_module": "@jupyter-widgets/base",
          "model_module_version": "1.2.0",
          "model_name": "LayoutModel",
          "state": {
            "_model_module": "@jupyter-widgets/base",
            "_model_module_version": "1.2.0",
            "_model_name": "LayoutModel",
            "_view_count": null,
            "_view_module": "@jupyter-widgets/base",
            "_view_module_version": "1.2.0",
            "_view_name": "LayoutView",
            "align_content": null,
            "align_items": null,
            "align_self": null,
            "border": null,
            "bottom": null,
            "display": null,
            "flex": null,
            "flex_flow": null,
            "grid_area": null,
            "grid_auto_columns": null,
            "grid_auto_flow": null,
            "grid_auto_rows": null,
            "grid_column": null,
            "grid_gap": null,
            "grid_row": null,
            "grid_template_areas": null,
            "grid_template_columns": null,
            "grid_template_rows": null,
            "height": null,
            "justify_content": null,
            "justify_items": null,
            "left": null,
            "margin": null,
            "max_height": null,
            "max_width": null,
            "min_height": null,
            "min_width": null,
            "object_fit": null,
            "object_position": null,
            "order": null,
            "overflow": null,
            "overflow_x": null,
            "overflow_y": null,
            "padding": null,
            "right": null,
            "top": null,
            "visibility": null,
            "width": null
          }
        },
        "435878519f6446f5b0e7463ff8744365": {
          "model_module": "@jupyter-widgets/controls",
          "model_module_version": "1.5.0",
          "model_name": "ProgressStyleModel",
          "state": {
            "_model_module": "@jupyter-widgets/controls",
            "_model_module_version": "1.5.0",
            "_model_name": "ProgressStyleModel",
            "_view_count": null,
            "_view_module": "@jupyter-widgets/base",
            "_view_module_version": "1.2.0",
            "_view_name": "StyleView",
            "bar_color": null,
            "description_width": ""
          }
        },
        "43d36198bfa344d598a4f4c89ab64856": {
          "model_module": "@jupyter-widgets/controls",
          "model_module_version": "1.5.0",
          "model_name": "HBoxModel",
          "state": {
            "_dom_classes": [],
            "_model_module": "@jupyter-widgets/controls",
            "_model_module_version": "1.5.0",
            "_model_name": "HBoxModel",
            "_view_count": null,
            "_view_module": "@jupyter-widgets/controls",
            "_view_module_version": "1.5.0",
            "_view_name": "HBoxView",
            "box_style": "",
            "children": [
              "IPY_MODEL_3650003979bf453aa9a848324b58e645",
              "IPY_MODEL_461644ebafee4683ae6c476b9d8790a3",
              "IPY_MODEL_4babc0d827714ce28220da614a2d060c"
            ],
            "layout": "IPY_MODEL_057cb837bdc040989fa70d9de60c60e3"
          }
        },
        "458c830b6c3c43bfb243df6e83cf79c7": {
          "model_module": "@jupyter-widgets/controls",
          "model_module_version": "1.5.0",
          "model_name": "HTMLModel",
          "state": {
            "_dom_classes": [],
            "_model_module": "@jupyter-widgets/controls",
            "_model_module_version": "1.5.0",
            "_model_name": "HTMLModel",
            "_view_count": null,
            "_view_module": "@jupyter-widgets/controls",
            "_view_module_version": "1.5.0",
            "_view_name": "HTMLView",
            "description": "",
            "description_tooltip": null,
            "layout": "IPY_MODEL_480f686e52f448329df23883a21eecde",
            "placeholder": "​",
            "style": "IPY_MODEL_ea918b4a7fee453482e676cb2849767d",
            "value": " 3/3 [00:00&lt;00:00, 51.75it/s]"
          }
        },
        "461644ebafee4683ae6c476b9d8790a3": {
          "model_module": "@jupyter-widgets/controls",
          "model_module_version": "1.5.0",
          "model_name": "FloatProgressModel",
          "state": {
            "_dom_classes": [],
            "_model_module": "@jupyter-widgets/controls",
            "_model_module_version": "1.5.0",
            "_model_name": "FloatProgressModel",
            "_view_count": null,
            "_view_module": "@jupyter-widgets/controls",
            "_view_module_version": "1.5.0",
            "_view_name": "ProgressView",
            "bar_style": "success",
            "description": "",
            "description_tooltip": null,
            "layout": "IPY_MODEL_f6d8b738fe5a4a73b29859f105786645",
            "max": 3,
            "min": 0,
            "orientation": "horizontal",
            "style": "IPY_MODEL_435878519f6446f5b0e7463ff8744365",
            "value": 3
          }
        },
        "47a90145d7a34ff79faa6359dc2dddc6": {
          "model_module": "@jupyter-widgets/base",
          "model_module_version": "1.2.0",
          "model_name": "LayoutModel",
          "state": {
            "_model_module": "@jupyter-widgets/base",
            "_model_module_version": "1.2.0",
            "_model_name": "LayoutModel",
            "_view_count": null,
            "_view_module": "@jupyter-widgets/base",
            "_view_module_version": "1.2.0",
            "_view_name": "LayoutView",
            "align_content": null,
            "align_items": null,
            "align_self": null,
            "border": null,
            "bottom": null,
            "display": null,
            "flex": null,
            "flex_flow": null,
            "grid_area": null,
            "grid_auto_columns": null,
            "grid_auto_flow": null,
            "grid_auto_rows": null,
            "grid_column": null,
            "grid_gap": null,
            "grid_row": null,
            "grid_template_areas": null,
            "grid_template_columns": null,
            "grid_template_rows": null,
            "height": null,
            "justify_content": null,
            "justify_items": null,
            "left": null,
            "margin": null,
            "max_height": null,
            "max_width": null,
            "min_height": null,
            "min_width": null,
            "object_fit": null,
            "object_position": null,
            "order": null,
            "overflow": null,
            "overflow_x": null,
            "overflow_y": null,
            "padding": null,
            "right": null,
            "top": null,
            "visibility": null,
            "width": null
          }
        },
        "480f686e52f448329df23883a21eecde": {
          "model_module": "@jupyter-widgets/base",
          "model_module_version": "1.2.0",
          "model_name": "LayoutModel",
          "state": {
            "_model_module": "@jupyter-widgets/base",
            "_model_module_version": "1.2.0",
            "_model_name": "LayoutModel",
            "_view_count": null,
            "_view_module": "@jupyter-widgets/base",
            "_view_module_version": "1.2.0",
            "_view_name": "LayoutView",
            "align_content": null,
            "align_items": null,
            "align_self": null,
            "border": null,
            "bottom": null,
            "display": null,
            "flex": null,
            "flex_flow": null,
            "grid_area": null,
            "grid_auto_columns": null,
            "grid_auto_flow": null,
            "grid_auto_rows": null,
            "grid_column": null,
            "grid_gap": null,
            "grid_row": null,
            "grid_template_areas": null,
            "grid_template_columns": null,
            "grid_template_rows": null,
            "height": null,
            "justify_content": null,
            "justify_items": null,
            "left": null,
            "margin": null,
            "max_height": null,
            "max_width": null,
            "min_height": null,
            "min_width": null,
            "object_fit": null,
            "object_position": null,
            "order": null,
            "overflow": null,
            "overflow_x": null,
            "overflow_y": null,
            "padding": null,
            "right": null,
            "top": null,
            "visibility": null,
            "width": null
          }
        },
        "4872da320e394b5f8969471f396c4bd4": {
          "model_module": "@jupyter-widgets/controls",
          "model_module_version": "1.5.0",
          "model_name": "ProgressStyleModel",
          "state": {
            "_model_module": "@jupyter-widgets/controls",
            "_model_module_version": "1.5.0",
            "_model_name": "ProgressStyleModel",
            "_view_count": null,
            "_view_module": "@jupyter-widgets/base",
            "_view_module_version": "1.2.0",
            "_view_name": "StyleView",
            "bar_color": null,
            "description_width": ""
          }
        },
        "4a705094d1ad49e6aaf4d143a64b4836": {
          "model_module": "@jupyter-widgets/controls",
          "model_module_version": "1.5.0",
          "model_name": "DescriptionStyleModel",
          "state": {
            "_model_module": "@jupyter-widgets/controls",
            "_model_module_version": "1.5.0",
            "_model_name": "DescriptionStyleModel",
            "_view_count": null,
            "_view_module": "@jupyter-widgets/base",
            "_view_module_version": "1.2.0",
            "_view_name": "StyleView",
            "description_width": ""
          }
        },
        "4babc0d827714ce28220da614a2d060c": {
          "model_module": "@jupyter-widgets/controls",
          "model_module_version": "1.5.0",
          "model_name": "HTMLModel",
          "state": {
            "_dom_classes": [],
            "_model_module": "@jupyter-widgets/controls",
            "_model_module_version": "1.5.0",
            "_model_name": "HTMLModel",
            "_view_count": null,
            "_view_module": "@jupyter-widgets/controls",
            "_view_module_version": "1.5.0",
            "_view_name": "HTMLView",
            "description": "",
            "description_tooltip": null,
            "layout": "IPY_MODEL_544ded41a09a4eca82d8b8c9a97eca3d",
            "placeholder": "​",
            "style": "IPY_MODEL_f2a33f06e3694a8ca4111ae008795877",
            "value": " 3/3 [00:01&lt;00:00,  2.65it/s]"
          }
        },
        "4c5a33471ffc46b7a8f1b61579f40124": {
          "model_module": "@jupyter-widgets/base",
          "model_module_version": "1.2.0",
          "model_name": "LayoutModel",
          "state": {
            "_model_module": "@jupyter-widgets/base",
            "_model_module_version": "1.2.0",
            "_model_name": "LayoutModel",
            "_view_count": null,
            "_view_module": "@jupyter-widgets/base",
            "_view_module_version": "1.2.0",
            "_view_name": "LayoutView",
            "align_content": null,
            "align_items": null,
            "align_self": null,
            "border": null,
            "bottom": null,
            "display": null,
            "flex": null,
            "flex_flow": null,
            "grid_area": null,
            "grid_auto_columns": null,
            "grid_auto_flow": null,
            "grid_auto_rows": null,
            "grid_column": null,
            "grid_gap": null,
            "grid_row": null,
            "grid_template_areas": null,
            "grid_template_columns": null,
            "grid_template_rows": null,
            "height": null,
            "justify_content": null,
            "justify_items": null,
            "left": null,
            "margin": null,
            "max_height": null,
            "max_width": null,
            "min_height": null,
            "min_width": null,
            "object_fit": null,
            "object_position": null,
            "order": null,
            "overflow": null,
            "overflow_x": null,
            "overflow_y": null,
            "padding": null,
            "right": null,
            "top": null,
            "visibility": null,
            "width": null
          }
        },
        "50cf49ac15a54bfd8d616e7345b84860": {
          "model_module": "@jupyter-widgets/controls",
          "model_module_version": "1.5.0",
          "model_name": "FloatProgressModel",
          "state": {
            "_dom_classes": [],
            "_model_module": "@jupyter-widgets/controls",
            "_model_module_version": "1.5.0",
            "_model_name": "FloatProgressModel",
            "_view_count": null,
            "_view_module": "@jupyter-widgets/controls",
            "_view_module_version": "1.5.0",
            "_view_name": "ProgressView",
            "bar_style": "success",
            "description": "",
            "description_tooltip": null,
            "layout": "IPY_MODEL_8590658b1ece4ee4a44b305c33376b6d",
            "max": 28227,
            "min": 0,
            "orientation": "horizontal",
            "style": "IPY_MODEL_035f1fc5e0974196809fe00fd754edb5",
            "value": 28227
          }
        },
        "52f54ab2d06740d7b6d7b6b670572f33": {
          "model_module": "@jupyter-widgets/controls",
          "model_module_version": "1.5.0",
          "model_name": "DescriptionStyleModel",
          "state": {
            "_model_module": "@jupyter-widgets/controls",
            "_model_module_version": "1.5.0",
            "_model_name": "DescriptionStyleModel",
            "_view_count": null,
            "_view_module": "@jupyter-widgets/base",
            "_view_module_version": "1.2.0",
            "_view_name": "StyleView",
            "description_width": ""
          }
        },
        "544ded41a09a4eca82d8b8c9a97eca3d": {
          "model_module": "@jupyter-widgets/base",
          "model_module_version": "1.2.0",
          "model_name": "LayoutModel",
          "state": {
            "_model_module": "@jupyter-widgets/base",
            "_model_module_version": "1.2.0",
            "_model_name": "LayoutModel",
            "_view_count": null,
            "_view_module": "@jupyter-widgets/base",
            "_view_module_version": "1.2.0",
            "_view_name": "LayoutView",
            "align_content": null,
            "align_items": null,
            "align_self": null,
            "border": null,
            "bottom": null,
            "display": null,
            "flex": null,
            "flex_flow": null,
            "grid_area": null,
            "grid_auto_columns": null,
            "grid_auto_flow": null,
            "grid_auto_rows": null,
            "grid_column": null,
            "grid_gap": null,
            "grid_row": null,
            "grid_template_areas": null,
            "grid_template_columns": null,
            "grid_template_rows": null,
            "height": null,
            "justify_content": null,
            "justify_items": null,
            "left": null,
            "margin": null,
            "max_height": null,
            "max_width": null,
            "min_height": null,
            "min_width": null,
            "object_fit": null,
            "object_position": null,
            "order": null,
            "overflow": null,
            "overflow_x": null,
            "overflow_y": null,
            "padding": null,
            "right": null,
            "top": null,
            "visibility": null,
            "width": null
          }
        },
        "5784ee2ba923423684959cea80a00798": {
          "model_module": "@jupyter-widgets/controls",
          "model_module_version": "1.5.0",
          "model_name": "DescriptionStyleModel",
          "state": {
            "_model_module": "@jupyter-widgets/controls",
            "_model_module_version": "1.5.0",
            "_model_name": "DescriptionStyleModel",
            "_view_count": null,
            "_view_module": "@jupyter-widgets/base",
            "_view_module_version": "1.2.0",
            "_view_name": "StyleView",
            "description_width": ""
          }
        },
        "58ef5c1e4086408f840adf61096ef1a3": {
          "model_module": "@jupyter-widgets/controls",
          "model_module_version": "1.5.0",
          "model_name": "HTMLModel",
          "state": {
            "_dom_classes": [],
            "_model_module": "@jupyter-widgets/controls",
            "_model_module_version": "1.5.0",
            "_model_name": "HTMLModel",
            "_view_count": null,
            "_view_module": "@jupyter-widgets/controls",
            "_view_module_version": "1.5.0",
            "_view_name": "HTMLView",
            "description": "",
            "description_tooltip": null,
            "layout": "IPY_MODEL_6019dab6bbbb4fdca00044f195c0c8bc",
            "placeholder": "​",
            "style": "IPY_MODEL_52f54ab2d06740d7b6d7b6b670572f33",
            "value": "Generating validation split:   0%"
          }
        },
        "5b5fc6c4c5ad459690e3b88a26fb393c": {
          "model_module": "@jupyter-widgets/base",
          "model_module_version": "1.2.0",
          "model_name": "LayoutModel",
          "state": {
            "_model_module": "@jupyter-widgets/base",
            "_model_module_version": "1.2.0",
            "_model_name": "LayoutModel",
            "_view_count": null,
            "_view_module": "@jupyter-widgets/base",
            "_view_module_version": "1.2.0",
            "_view_name": "LayoutView",
            "align_content": null,
            "align_items": null,
            "align_self": null,
            "border": null,
            "bottom": null,
            "display": null,
            "flex": null,
            "flex_flow": null,
            "grid_area": null,
            "grid_auto_columns": null,
            "grid_auto_flow": null,
            "grid_auto_rows": null,
            "grid_column": null,
            "grid_gap": null,
            "grid_row": null,
            "grid_template_areas": null,
            "grid_template_columns": null,
            "grid_template_rows": null,
            "height": null,
            "justify_content": null,
            "justify_items": null,
            "left": null,
            "margin": null,
            "max_height": null,
            "max_width": null,
            "min_height": null,
            "min_width": null,
            "object_fit": null,
            "object_position": null,
            "order": null,
            "overflow": null,
            "overflow_x": null,
            "overflow_y": null,
            "padding": null,
            "right": null,
            "top": null,
            "visibility": null,
            "width": null
          }
        },
        "5f97976fb67948ac950484081a2cd74b": {
          "model_module": "@jupyter-widgets/controls",
          "model_module_version": "1.5.0",
          "model_name": "ProgressStyleModel",
          "state": {
            "_model_module": "@jupyter-widgets/controls",
            "_model_module_version": "1.5.0",
            "_model_name": "ProgressStyleModel",
            "_view_count": null,
            "_view_module": "@jupyter-widgets/base",
            "_view_module_version": "1.2.0",
            "_view_name": "StyleView",
            "bar_color": null,
            "description_width": ""
          }
        },
        "6019dab6bbbb4fdca00044f195c0c8bc": {
          "model_module": "@jupyter-widgets/base",
          "model_module_version": "1.2.0",
          "model_name": "LayoutModel",
          "state": {
            "_model_module": "@jupyter-widgets/base",
            "_model_module_version": "1.2.0",
            "_model_name": "LayoutModel",
            "_view_count": null,
            "_view_module": "@jupyter-widgets/base",
            "_view_module_version": "1.2.0",
            "_view_name": "LayoutView",
            "align_content": null,
            "align_items": null,
            "align_self": null,
            "border": null,
            "bottom": null,
            "display": null,
            "flex": null,
            "flex_flow": null,
            "grid_area": null,
            "grid_auto_columns": null,
            "grid_auto_flow": null,
            "grid_auto_rows": null,
            "grid_column": null,
            "grid_gap": null,
            "grid_row": null,
            "grid_template_areas": null,
            "grid_template_columns": null,
            "grid_template_rows": null,
            "height": null,
            "justify_content": null,
            "justify_items": null,
            "left": null,
            "margin": null,
            "max_height": null,
            "max_width": null,
            "min_height": null,
            "min_width": null,
            "object_fit": null,
            "object_position": null,
            "order": null,
            "overflow": null,
            "overflow_x": null,
            "overflow_y": null,
            "padding": null,
            "right": null,
            "top": null,
            "visibility": null,
            "width": null
          }
        },
        "6133c9d9df644d0f9b34fa3ae5c1109c": {
          "model_module": "@jupyter-widgets/base",
          "model_module_version": "1.2.0",
          "model_name": "LayoutModel",
          "state": {
            "_model_module": "@jupyter-widgets/base",
            "_model_module_version": "1.2.0",
            "_model_name": "LayoutModel",
            "_view_count": null,
            "_view_module": "@jupyter-widgets/base",
            "_view_module_version": "1.2.0",
            "_view_name": "LayoutView",
            "align_content": null,
            "align_items": null,
            "align_self": null,
            "border": null,
            "bottom": null,
            "display": null,
            "flex": null,
            "flex_flow": null,
            "grid_area": null,
            "grid_auto_columns": null,
            "grid_auto_flow": null,
            "grid_auto_rows": null,
            "grid_column": null,
            "grid_gap": null,
            "grid_row": null,
            "grid_template_areas": null,
            "grid_template_columns": null,
            "grid_template_rows": null,
            "height": null,
            "justify_content": null,
            "justify_items": null,
            "left": null,
            "margin": null,
            "max_height": null,
            "max_width": null,
            "min_height": null,
            "min_width": null,
            "object_fit": null,
            "object_position": null,
            "order": null,
            "overflow": null,
            "overflow_x": null,
            "overflow_y": null,
            "padding": null,
            "right": null,
            "top": null,
            "visibility": null,
            "width": null
          }
        },
        "63b3bbede779494dbb9f3d8940de943c": {
          "model_module": "@jupyter-widgets/controls",
          "model_module_version": "1.5.0",
          "model_name": "HTMLModel",
          "state": {
            "_dom_classes": [],
            "_model_module": "@jupyter-widgets/controls",
            "_model_module_version": "1.5.0",
            "_model_name": "HTMLModel",
            "_view_count": null,
            "_view_module": "@jupyter-widgets/controls",
            "_view_module_version": "1.5.0",
            "_view_name": "HTMLView",
            "description": "",
            "description_tooltip": null,
            "layout": "IPY_MODEL_d0e06ba6db674e4c9bc5a10e5fc20b71",
            "placeholder": "​",
            "style": "IPY_MODEL_02c2720954844cfdaa652aa3e2b162c2",
            "value": "Downloading builder script: 100%"
          }
        },
        "6860e7dec36a42d3a23d27e68f80b56f": {
          "model_module": "@jupyter-widgets/controls",
          "model_module_version": "1.5.0",
          "model_name": "FloatProgressModel",
          "state": {
            "_dom_classes": [],
            "_model_module": "@jupyter-widgets/controls",
            "_model_module_version": "1.5.0",
            "_model_name": "FloatProgressModel",
            "_view_count": null,
            "_view_module": "@jupyter-widgets/controls",
            "_view_module_version": "1.5.0",
            "_view_name": "ProgressView",
            "bar_style": "success",
            "description": "",
            "description_tooltip": null,
            "layout": "IPY_MODEL_22b30402294c4925bb44925220bfdcea",
            "max": 4927,
            "min": 0,
            "orientation": "horizontal",
            "style": "IPY_MODEL_4872da320e394b5f8969471f396c4bd4",
            "value": 4927
          }
        },
        "6b98881ee3484c90827c8d748049991c": {
          "model_module": "@jupyter-widgets/controls",
          "model_module_version": "1.5.0",
          "model_name": "DescriptionStyleModel",
          "state": {
            "_model_module": "@jupyter-widgets/controls",
            "_model_module_version": "1.5.0",
            "_model_name": "DescriptionStyleModel",
            "_view_count": null,
            "_view_module": "@jupyter-widgets/base",
            "_view_module_version": "1.2.0",
            "_view_name": "StyleView",
            "description_width": ""
          }
        },
        "6cd17eb2037842c59aa9bd2ac9dea7f9": {
          "model_module": "@jupyter-widgets/controls",
          "model_module_version": "1.5.0",
          "model_name": "FloatProgressModel",
          "state": {
            "_dom_classes": [],
            "_model_module": "@jupyter-widgets/controls",
            "_model_module_version": "1.5.0",
            "_model_name": "FloatProgressModel",
            "_view_count": null,
            "_view_module": "@jupyter-widgets/controls",
            "_view_module_version": "1.5.0",
            "_view_name": "ProgressView",
            "bar_style": "",
            "description": "",
            "description_tooltip": null,
            "layout": "IPY_MODEL_b008ecfd5b22437e95a6fff6f22baebe",
            "max": 755,
            "min": 0,
            "orientation": "horizontal",
            "style": "IPY_MODEL_87aa13d4aeb546248f208f1e709bb634",
            "value": 755
          }
        },
        "6e22277d0eae4998a85fb0b1e5af51d3": {
          "model_module": "@jupyter-widgets/controls",
          "model_module_version": "1.5.0",
          "model_name": "HTMLModel",
          "state": {
            "_dom_classes": [],
            "_model_module": "@jupyter-widgets/controls",
            "_model_module_version": "1.5.0",
            "_model_name": "HTMLModel",
            "_view_count": null,
            "_view_module": "@jupyter-widgets/controls",
            "_view_module_version": "1.5.0",
            "_view_name": "HTMLView",
            "description": "",
            "description_tooltip": null,
            "layout": "IPY_MODEL_b903db7bd2904a3c98697ce7d8baa74d",
            "placeholder": "​",
            "style": "IPY_MODEL_106dab31edd245dab9dd9818aba588a4",
            "value": " 2.21k/2.21k [00:00&lt;00:00, 61.2kB/s]"
          }
        },
        "6ee925b94c174da891f119b7c1969935": {
          "model_module": "@jupyter-widgets/controls",
          "model_module_version": "1.5.0",
          "model_name": "HTMLModel",
          "state": {
            "_dom_classes": [],
            "_model_module": "@jupyter-widgets/controls",
            "_model_module_version": "1.5.0",
            "_model_name": "HTMLModel",
            "_view_count": null,
            "_view_module": "@jupyter-widgets/controls",
            "_view_module_version": "1.5.0",
            "_view_name": "HTMLView",
            "description": "",
            "description_tooltip": null,
            "layout": "IPY_MODEL_2a6f459e36db45e4916d71530d239392",
            "placeholder": "​",
            "style": "IPY_MODEL_14819331d2284ef28635eef82f736b72",
            "value": " 401/755 [00:00&lt;00:00, 4009.45 examples/s]"
          }
        },
        "71351694d5f4458286fee5c8fde5172a": {
          "model_module": "@jupyter-widgets/controls",
          "model_module_version": "1.5.0",
          "model_name": "HTMLModel",
          "state": {
            "_dom_classes": [],
            "_model_module": "@jupyter-widgets/controls",
            "_model_module_version": "1.5.0",
            "_model_name": "HTMLModel",
            "_view_count": null,
            "_view_module": "@jupyter-widgets/controls",
            "_view_module_version": "1.5.0",
            "_view_name": "HTMLView",
            "description": "",
            "description_tooltip": null,
            "layout": "IPY_MODEL_4c5a33471ffc46b7a8f1b61579f40124",
            "placeholder": "​",
            "style": "IPY_MODEL_bd7c16796c374594acc9e1ee4c192d37",
            "value": " 4.93k/4.93k [00:00&lt;00:00, 120kB/s]"
          }
        },
        "733dcba134c34697988eeadfd19fedd2": {
          "model_module": "@jupyter-widgets/controls",
          "model_module_version": "1.5.0",
          "model_name": "FloatProgressModel",
          "state": {
            "_dom_classes": [],
            "_model_module": "@jupyter-widgets/controls",
            "_model_module_version": "1.5.0",
            "_model_name": "FloatProgressModel",
            "_view_count": null,
            "_view_module": "@jupyter-widgets/controls",
            "_view_module_version": "1.5.0",
            "_view_name": "ProgressView",
            "bar_style": "success",
            "description": "",
            "description_tooltip": null,
            "layout": "IPY_MODEL_8d768383e7824b9cae70ba6caaae4c3d",
            "max": 3,
            "min": 0,
            "orientation": "horizontal",
            "style": "IPY_MODEL_f86c757d421643fe95e05ca8c9b3dc90",
            "value": 3
          }
        },
        "74b9bf7d33af4f1fb1668ec69ae902e2": {
          "model_module": "@jupyter-widgets/controls",
          "model_module_version": "1.5.0",
          "model_name": "FloatProgressModel",
          "state": {
            "_dom_classes": [],
            "_model_module": "@jupyter-widgets/controls",
            "_model_module_version": "1.5.0",
            "_model_name": "FloatProgressModel",
            "_view_count": null,
            "_view_module": "@jupyter-widgets/controls",
            "_view_module_version": "1.5.0",
            "_view_name": "ProgressView",
            "bar_style": "success",
            "description": "",
            "description_tooltip": null,
            "layout": "IPY_MODEL_00d35507988d41678404e0dd266efb0b",
            "max": 2209,
            "min": 0,
            "orientation": "horizontal",
            "style": "IPY_MODEL_ffc7396ac994439884c39d6894134524",
            "value": 2209
          }
        },
        "7920acb6ec264680881fabc84f90aff2": {
          "model_module": "@jupyter-widgets/base",
          "model_module_version": "1.2.0",
          "model_name": "LayoutModel",
          "state": {
            "_model_module": "@jupyter-widgets/base",
            "_model_module_version": "1.2.0",
            "_model_name": "LayoutModel",
            "_view_count": null,
            "_view_module": "@jupyter-widgets/base",
            "_view_module_version": "1.2.0",
            "_view_name": "LayoutView",
            "align_content": null,
            "align_items": null,
            "align_self": null,
            "border": null,
            "bottom": null,
            "display": null,
            "flex": null,
            "flex_flow": null,
            "grid_area": null,
            "grid_auto_columns": null,
            "grid_auto_flow": null,
            "grid_auto_rows": null,
            "grid_column": null,
            "grid_gap": null,
            "grid_row": null,
            "grid_template_areas": null,
            "grid_template_columns": null,
            "grid_template_rows": null,
            "height": null,
            "justify_content": null,
            "justify_items": null,
            "left": null,
            "margin": null,
            "max_height": null,
            "max_width": null,
            "min_height": null,
            "min_width": null,
            "object_fit": null,
            "object_position": null,
            "order": null,
            "overflow": null,
            "overflow_x": null,
            "overflow_y": null,
            "padding": null,
            "right": null,
            "top": null,
            "visibility": null,
            "width": null
          }
        },
        "7f9e79c3b1f84d71889f625ce3fa96cf": {
          "model_module": "@jupyter-widgets/controls",
          "model_module_version": "1.5.0",
          "model_name": "DescriptionStyleModel",
          "state": {
            "_model_module": "@jupyter-widgets/controls",
            "_model_module_version": "1.5.0",
            "_model_name": "DescriptionStyleModel",
            "_view_count": null,
            "_view_module": "@jupyter-widgets/base",
            "_view_module_version": "1.2.0",
            "_view_name": "StyleView",
            "description_width": ""
          }
        },
        "850d692a24784f7aa8b29ccb55e97eb3": {
          "model_module": "@jupyter-widgets/controls",
          "model_module_version": "1.5.0",
          "model_name": "HTMLModel",
          "state": {
            "_dom_classes": [],
            "_model_module": "@jupyter-widgets/controls",
            "_model_module_version": "1.5.0",
            "_model_name": "HTMLModel",
            "_view_count": null,
            "_view_module": "@jupyter-widgets/controls",
            "_view_module_version": "1.5.0",
            "_view_name": "HTMLView",
            "description": "",
            "description_tooltip": null,
            "layout": "IPY_MODEL_22a63be846aa4ce1a3f110cec8b8d3a2",
            "placeholder": "​",
            "style": "IPY_MODEL_bebe8d8d7471477498ea97051e562e5e",
            "value": "100%"
          }
        },
        "85189131e3814270b57ac60d9f6d2c92": {
          "model_module": "@jupyter-widgets/controls",
          "model_module_version": "1.5.0",
          "model_name": "HTMLModel",
          "state": {
            "_dom_classes": [],
            "_model_module": "@jupyter-widgets/controls",
            "_model_module_version": "1.5.0",
            "_model_name": "HTMLModel",
            "_view_count": null,
            "_view_module": "@jupyter-widgets/controls",
            "_view_module_version": "1.5.0",
            "_view_name": "HTMLView",
            "description": "",
            "description_tooltip": null,
            "layout": "IPY_MODEL_343702fc28f0420d84a91fff2168adff",
            "placeholder": "​",
            "style": "IPY_MODEL_3b4a3f934dfd49949256619434abeddb",
            "value": " 94.7k/? [00:00&lt;00:00, 1.85MB/s]"
          }
        },
        "8590658b1ece4ee4a44b305c33376b6d": {
          "model_module": "@jupyter-widgets/base",
          "model_module_version": "1.2.0",
          "model_name": "LayoutModel",
          "state": {
            "_model_module": "@jupyter-widgets/base",
            "_model_module_version": "1.2.0",
            "_model_name": "LayoutModel",
            "_view_count": null,
            "_view_module": "@jupyter-widgets/base",
            "_view_module_version": "1.2.0",
            "_view_name": "LayoutView",
            "align_content": null,
            "align_items": null,
            "align_self": null,
            "border": null,
            "bottom": null,
            "display": null,
            "flex": null,
            "flex_flow": null,
            "grid_area": null,
            "grid_auto_columns": null,
            "grid_auto_flow": null,
            "grid_auto_rows": null,
            "grid_column": null,
            "grid_gap": null,
            "grid_row": null,
            "grid_template_areas": null,
            "grid_template_columns": null,
            "grid_template_rows": null,
            "height": null,
            "justify_content": null,
            "justify_items": null,
            "left": null,
            "margin": null,
            "max_height": null,
            "max_width": null,
            "min_height": null,
            "min_width": null,
            "object_fit": null,
            "object_position": null,
            "order": null,
            "overflow": null,
            "overflow_x": null,
            "overflow_y": null,
            "padding": null,
            "right": null,
            "top": null,
            "visibility": null,
            "width": null
          }
        },
        "87aa13d4aeb546248f208f1e709bb634": {
          "model_module": "@jupyter-widgets/controls",
          "model_module_version": "1.5.0",
          "model_name": "ProgressStyleModel",
          "state": {
            "_model_module": "@jupyter-widgets/controls",
            "_model_module_version": "1.5.0",
            "_model_name": "ProgressStyleModel",
            "_view_count": null,
            "_view_module": "@jupyter-widgets/base",
            "_view_module_version": "1.2.0",
            "_view_name": "StyleView",
            "bar_color": null,
            "description_width": ""
          }
        },
        "8d768383e7824b9cae70ba6caaae4c3d": {
          "model_module": "@jupyter-widgets/base",
          "model_module_version": "1.2.0",
          "model_name": "LayoutModel",
          "state": {
            "_model_module": "@jupyter-widgets/base",
            "_model_module_version": "1.2.0",
            "_model_name": "LayoutModel",
            "_view_count": null,
            "_view_module": "@jupyter-widgets/base",
            "_view_module_version": "1.2.0",
            "_view_name": "LayoutView",
            "align_content": null,
            "align_items": null,
            "align_self": null,
            "border": null,
            "bottom": null,
            "display": null,
            "flex": null,
            "flex_flow": null,
            "grid_area": null,
            "grid_auto_columns": null,
            "grid_auto_flow": null,
            "grid_auto_rows": null,
            "grid_column": null,
            "grid_gap": null,
            "grid_row": null,
            "grid_template_areas": null,
            "grid_template_columns": null,
            "grid_template_rows": null,
            "height": null,
            "justify_content": null,
            "justify_items": null,
            "left": null,
            "margin": null,
            "max_height": null,
            "max_width": null,
            "min_height": null,
            "min_width": null,
            "object_fit": null,
            "object_position": null,
            "order": null,
            "overflow": null,
            "overflow_x": null,
            "overflow_y": null,
            "padding": null,
            "right": null,
            "top": null,
            "visibility": null,
            "width": null
          }
        },
        "9551ee1647b141559a4e8c459203f53c": {
          "model_module": "@jupyter-widgets/controls",
          "model_module_version": "1.5.0",
          "model_name": "FloatProgressModel",
          "state": {
            "_dom_classes": [],
            "_model_module": "@jupyter-widgets/controls",
            "_model_module_version": "1.5.0",
            "_model_name": "FloatProgressModel",
            "_view_count": null,
            "_view_module": "@jupyter-widgets/controls",
            "_view_module_version": "1.5.0",
            "_view_name": "ProgressView",
            "bar_style": "success",
            "description": "",
            "description_tooltip": null,
            "layout": "IPY_MODEL_9cf7b11930b64a1a82afce4184b91e9d",
            "max": 3,
            "min": 0,
            "orientation": "horizontal",
            "style": "IPY_MODEL_b8c0679db50343ec973e5a42d110d858",
            "value": 3
          }
        },
        "97365f974fcc473f8a3dc3c497ae293c": {
          "model_module": "@jupyter-widgets/controls",
          "model_module_version": "1.5.0",
          "model_name": "HTMLModel",
          "state": {
            "_dom_classes": [],
            "_model_module": "@jupyter-widgets/controls",
            "_model_module_version": "1.5.0",
            "_model_name": "HTMLModel",
            "_view_count": null,
            "_view_module": "@jupyter-widgets/controls",
            "_view_module_version": "1.5.0",
            "_view_name": "HTMLView",
            "description": "",
            "description_tooltip": null,
            "layout": "IPY_MODEL_ced5ac23047045248d36855f7c7026bd",
            "placeholder": "​",
            "style": "IPY_MODEL_cd7b9e865b21459496b62969b62f48b9",
            "value": "Downloading data: "
          }
        },
        "9b4b24bfe7c547f4b64a8e21e37c26eb": {
          "model_module": "@jupyter-widgets/base",
          "model_module_version": "1.2.0",
          "model_name": "LayoutModel",
          "state": {
            "_model_module": "@jupyter-widgets/base",
            "_model_module_version": "1.2.0",
            "_model_name": "LayoutModel",
            "_view_count": null,
            "_view_module": "@jupyter-widgets/base",
            "_view_module_version": "1.2.0",
            "_view_name": "LayoutView",
            "align_content": null,
            "align_items": null,
            "align_self": null,
            "border": null,
            "bottom": null,
            "display": null,
            "flex": null,
            "flex_flow": null,
            "grid_area": null,
            "grid_auto_columns": null,
            "grid_auto_flow": null,
            "grid_auto_rows": null,
            "grid_column": null,
            "grid_gap": null,
            "grid_row": null,
            "grid_template_areas": null,
            "grid_template_columns": null,
            "grid_template_rows": null,
            "height": null,
            "justify_content": null,
            "justify_items": null,
            "left": null,
            "margin": null,
            "max_height": null,
            "max_width": null,
            "min_height": null,
            "min_width": null,
            "object_fit": null,
            "object_position": null,
            "order": null,
            "overflow": null,
            "overflow_x": null,
            "overflow_y": null,
            "padding": null,
            "right": null,
            "top": null,
            "visibility": null,
            "width": null
          }
        },
        "9b7b3153eac04cf187f28f535c6eed0b": {
          "model_module": "@jupyter-widgets/base",
          "model_module_version": "1.2.0",
          "model_name": "LayoutModel",
          "state": {
            "_model_module": "@jupyter-widgets/base",
            "_model_module_version": "1.2.0",
            "_model_name": "LayoutModel",
            "_view_count": null,
            "_view_module": "@jupyter-widgets/base",
            "_view_module_version": "1.2.0",
            "_view_name": "LayoutView",
            "align_content": null,
            "align_items": null,
            "align_self": null,
            "border": null,
            "bottom": null,
            "display": null,
            "flex": null,
            "flex_flow": null,
            "grid_area": null,
            "grid_auto_columns": null,
            "grid_auto_flow": null,
            "grid_auto_rows": null,
            "grid_column": null,
            "grid_gap": null,
            "grid_row": null,
            "grid_template_areas": null,
            "grid_template_columns": null,
            "grid_template_rows": null,
            "height": null,
            "justify_content": null,
            "justify_items": null,
            "left": null,
            "margin": null,
            "max_height": null,
            "max_width": null,
            "min_height": null,
            "min_width": null,
            "object_fit": null,
            "object_position": null,
            "order": null,
            "overflow": null,
            "overflow_x": null,
            "overflow_y": null,
            "padding": null,
            "right": null,
            "top": null,
            "visibility": null,
            "width": null
          }
        },
        "9c83771a7ca3426cbe88b677298c414f": {
          "model_module": "@jupyter-widgets/controls",
          "model_module_version": "1.5.0",
          "model_name": "FloatProgressModel",
          "state": {
            "_dom_classes": [],
            "_model_module": "@jupyter-widgets/controls",
            "_model_module_version": "1.5.0",
            "_model_name": "FloatProgressModel",
            "_view_count": null,
            "_view_module": "@jupyter-widgets/controls",
            "_view_module_version": "1.5.0",
            "_view_name": "ProgressView",
            "bar_style": "success",
            "description": "",
            "description_tooltip": null,
            "layout": "IPY_MODEL_f6b2929ec8cd44b482c0baef2baf232a",
            "max": 167915,
            "min": 0,
            "orientation": "horizontal",
            "style": "IPY_MODEL_c6ade318efd4497484c7d98783344802",
            "value": 167915
          }
        },
        "9cf7b11930b64a1a82afce4184b91e9d": {
          "model_module": "@jupyter-widgets/base",
          "model_module_version": "1.2.0",
          "model_name": "LayoutModel",
          "state": {
            "_model_module": "@jupyter-widgets/base",
            "_model_module_version": "1.2.0",
            "_model_name": "LayoutModel",
            "_view_count": null,
            "_view_module": "@jupyter-widgets/base",
            "_view_module_version": "1.2.0",
            "_view_name": "LayoutView",
            "align_content": null,
            "align_items": null,
            "align_self": null,
            "border": null,
            "bottom": null,
            "display": null,
            "flex": null,
            "flex_flow": null,
            "grid_area": null,
            "grid_auto_columns": null,
            "grid_auto_flow": null,
            "grid_auto_rows": null,
            "grid_column": null,
            "grid_gap": null,
            "grid_row": null,
            "grid_template_areas": null,
            "grid_template_columns": null,
            "grid_template_rows": null,
            "height": null,
            "justify_content": null,
            "justify_items": null,
            "left": null,
            "margin": null,
            "max_height": null,
            "max_width": null,
            "min_height": null,
            "min_width": null,
            "object_fit": null,
            "object_position": null,
            "order": null,
            "overflow": null,
            "overflow_x": null,
            "overflow_y": null,
            "padding": null,
            "right": null,
            "top": null,
            "visibility": null,
            "width": null
          }
        },
        "ac40b6f2b0874b6a844ca228635fcc52": {
          "model_module": "@jupyter-widgets/controls",
          "model_module_version": "1.5.0",
          "model_name": "HTMLModel",
          "state": {
            "_dom_classes": [],
            "_model_module": "@jupyter-widgets/controls",
            "_model_module_version": "1.5.0",
            "_model_name": "HTMLModel",
            "_view_count": null,
            "_view_module": "@jupyter-widgets/controls",
            "_view_module_version": "1.5.0",
            "_view_name": "HTMLView",
            "description": "",
            "description_tooltip": null,
            "layout": "IPY_MODEL_eac696071e694143aaed8cee5d9a3fc6",
            "placeholder": "​",
            "style": "IPY_MODEL_32e2374c06e74d4dad9fc64ac663dd2f",
            "value": "Generating train split:  53%"
          }
        },
        "acab06e81d8347c3a1a8cadb4b4e1523": {
          "model_module": "@jupyter-widgets/controls",
          "model_module_version": "1.5.0",
          "model_name": "DescriptionStyleModel",
          "state": {
            "_model_module": "@jupyter-widgets/controls",
            "_model_module_version": "1.5.0",
            "_model_name": "DescriptionStyleModel",
            "_view_count": null,
            "_view_module": "@jupyter-widgets/base",
            "_view_module_version": "1.2.0",
            "_view_name": "StyleView",
            "description_width": ""
          }
        },
        "ad9d9c0de83d4720964c59e7d455469f": {
          "model_module": "@jupyter-widgets/base",
          "model_module_version": "1.2.0",
          "model_name": "LayoutModel",
          "state": {
            "_model_module": "@jupyter-widgets/base",
            "_model_module_version": "1.2.0",
            "_model_name": "LayoutModel",
            "_view_count": null,
            "_view_module": "@jupyter-widgets/base",
            "_view_module_version": "1.2.0",
            "_view_name": "LayoutView",
            "align_content": null,
            "align_items": null,
            "align_self": null,
            "border": null,
            "bottom": null,
            "display": null,
            "flex": null,
            "flex_flow": null,
            "grid_area": null,
            "grid_auto_columns": null,
            "grid_auto_flow": null,
            "grid_auto_rows": null,
            "grid_column": null,
            "grid_gap": null,
            "grid_row": null,
            "grid_template_areas": null,
            "grid_template_columns": null,
            "grid_template_rows": null,
            "height": null,
            "justify_content": null,
            "justify_items": null,
            "left": null,
            "margin": null,
            "max_height": null,
            "max_width": null,
            "min_height": null,
            "min_width": null,
            "object_fit": null,
            "object_position": null,
            "order": null,
            "overflow": null,
            "overflow_x": null,
            "overflow_y": null,
            "padding": null,
            "right": null,
            "top": null,
            "visibility": null,
            "width": null
          }
        },
        "aeb8496f7971483781dc3aae51e8b216": {
          "model_module": "@jupyter-widgets/controls",
          "model_module_version": "1.5.0",
          "model_name": "HBoxModel",
          "state": {
            "_dom_classes": [],
            "_model_module": "@jupyter-widgets/controls",
            "_model_module_version": "1.5.0",
            "_model_name": "HBoxModel",
            "_view_count": null,
            "_view_module": "@jupyter-widgets/controls",
            "_view_module_version": "1.5.0",
            "_view_name": "HBoxView",
            "box_style": "",
            "children": [
              "IPY_MODEL_63b3bbede779494dbb9f3d8940de943c",
              "IPY_MODEL_6860e7dec36a42d3a23d27e68f80b56f",
              "IPY_MODEL_71351694d5f4458286fee5c8fde5172a"
            ],
            "layout": "IPY_MODEL_5b5fc6c4c5ad459690e3b88a26fb393c"
          }
        },
        "b008ecfd5b22437e95a6fff6f22baebe": {
          "model_module": "@jupyter-widgets/base",
          "model_module_version": "1.2.0",
          "model_name": "LayoutModel",
          "state": {
            "_model_module": "@jupyter-widgets/base",
            "_model_module_version": "1.2.0",
            "_model_name": "LayoutModel",
            "_view_count": null,
            "_view_module": "@jupyter-widgets/base",
            "_view_module_version": "1.2.0",
            "_view_name": "LayoutView",
            "align_content": null,
            "align_items": null,
            "align_self": null,
            "border": null,
            "bottom": null,
            "display": null,
            "flex": null,
            "flex_flow": null,
            "grid_area": null,
            "grid_auto_columns": null,
            "grid_auto_flow": null,
            "grid_auto_rows": null,
            "grid_column": null,
            "grid_gap": null,
            "grid_row": null,
            "grid_template_areas": null,
            "grid_template_columns": null,
            "grid_template_rows": null,
            "height": null,
            "justify_content": null,
            "justify_items": null,
            "left": null,
            "margin": null,
            "max_height": null,
            "max_width": null,
            "min_height": null,
            "min_width": null,
            "object_fit": null,
            "object_position": null,
            "order": null,
            "overflow": null,
            "overflow_x": null,
            "overflow_y": null,
            "padding": null,
            "right": null,
            "top": null,
            "visibility": null,
            "width": null
          }
        },
        "b30baa06560e4d8b83c9420c3e7819c5": {
          "model_module": "@jupyter-widgets/base",
          "model_module_version": "1.2.0",
          "model_name": "LayoutModel",
          "state": {
            "_model_module": "@jupyter-widgets/base",
            "_model_module_version": "1.2.0",
            "_model_name": "LayoutModel",
            "_view_count": null,
            "_view_module": "@jupyter-widgets/base",
            "_view_module_version": "1.2.0",
            "_view_name": "LayoutView",
            "align_content": null,
            "align_items": null,
            "align_self": null,
            "border": null,
            "bottom": null,
            "display": null,
            "flex": null,
            "flex_flow": null,
            "grid_area": null,
            "grid_auto_columns": null,
            "grid_auto_flow": null,
            "grid_auto_rows": null,
            "grid_column": null,
            "grid_gap": null,
            "grid_row": null,
            "grid_template_areas": null,
            "grid_template_columns": null,
            "grid_template_rows": null,
            "height": null,
            "justify_content": null,
            "justify_items": null,
            "left": null,
            "margin": null,
            "max_height": null,
            "max_width": null,
            "min_height": null,
            "min_width": null,
            "object_fit": null,
            "object_position": null,
            "order": null,
            "overflow": null,
            "overflow_x": null,
            "overflow_y": null,
            "padding": null,
            "right": null,
            "top": null,
            "visibility": null,
            "width": null
          }
        },
        "b46ae8781a74475c9b946245528846dc": {
          "model_module": "@jupyter-widgets/controls",
          "model_module_version": "1.5.0",
          "model_name": "HBoxModel",
          "state": {
            "_dom_classes": [],
            "_model_module": "@jupyter-widgets/controls",
            "_model_module_version": "1.5.0",
            "_model_name": "HBoxModel",
            "_view_count": null,
            "_view_module": "@jupyter-widgets/controls",
            "_view_module_version": "1.5.0",
            "_view_name": "HBoxView",
            "box_style": "",
            "children": [
              "IPY_MODEL_f90f12e76bb94bbaa28c9c5e5691c0df",
              "IPY_MODEL_9c83771a7ca3426cbe88b677298c414f",
              "IPY_MODEL_3663a0b44f4e411eaec5f3f07187cb85"
            ],
            "layout": "IPY_MODEL_b30baa06560e4d8b83c9420c3e7819c5"
          }
        },
        "b4777d7fcf9a47bfae6ab92348cdeaaa": {
          "model_module": "@jupyter-widgets/controls",
          "model_module_version": "1.5.0",
          "model_name": "DescriptionStyleModel",
          "state": {
            "_model_module": "@jupyter-widgets/controls",
            "_model_module_version": "1.5.0",
            "_model_name": "DescriptionStyleModel",
            "_view_count": null,
            "_view_module": "@jupyter-widgets/base",
            "_view_module_version": "1.2.0",
            "_view_name": "StyleView",
            "description_width": ""
          }
        },
        "b4e92b26f2aa484584857a08963adcdc": {
          "model_module": "@jupyter-widgets/base",
          "model_module_version": "1.2.0",
          "model_name": "LayoutModel",
          "state": {
            "_model_module": "@jupyter-widgets/base",
            "_model_module_version": "1.2.0",
            "_model_name": "LayoutModel",
            "_view_count": null,
            "_view_module": "@jupyter-widgets/base",
            "_view_module_version": "1.2.0",
            "_view_name": "LayoutView",
            "align_content": null,
            "align_items": null,
            "align_self": null,
            "border": null,
            "bottom": null,
            "display": null,
            "flex": null,
            "flex_flow": null,
            "grid_area": null,
            "grid_auto_columns": null,
            "grid_auto_flow": null,
            "grid_auto_rows": null,
            "grid_column": null,
            "grid_gap": null,
            "grid_row": null,
            "grid_template_areas": null,
            "grid_template_columns": null,
            "grid_template_rows": null,
            "height": null,
            "justify_content": null,
            "justify_items": null,
            "left": null,
            "margin": null,
            "max_height": null,
            "max_width": null,
            "min_height": null,
            "min_width": null,
            "object_fit": null,
            "object_position": null,
            "order": null,
            "overflow": null,
            "overflow_x": null,
            "overflow_y": null,
            "padding": null,
            "right": null,
            "top": null,
            "visibility": null,
            "width": null
          }
        },
        "b753a050d04c4d0a9aa489c4854c578a": {
          "model_module": "@jupyter-widgets/base",
          "model_module_version": "1.2.0",
          "model_name": "LayoutModel",
          "state": {
            "_model_module": "@jupyter-widgets/base",
            "_model_module_version": "1.2.0",
            "_model_name": "LayoutModel",
            "_view_count": null,
            "_view_module": "@jupyter-widgets/base",
            "_view_module_version": "1.2.0",
            "_view_name": "LayoutView",
            "align_content": null,
            "align_items": null,
            "align_self": null,
            "border": null,
            "bottom": null,
            "display": null,
            "flex": null,
            "flex_flow": null,
            "grid_area": null,
            "grid_auto_columns": null,
            "grid_auto_flow": null,
            "grid_auto_rows": null,
            "grid_column": null,
            "grid_gap": null,
            "grid_row": null,
            "grid_template_areas": null,
            "grid_template_columns": null,
            "grid_template_rows": null,
            "height": null,
            "justify_content": null,
            "justify_items": null,
            "left": null,
            "margin": null,
            "max_height": null,
            "max_width": null,
            "min_height": null,
            "min_width": null,
            "object_fit": null,
            "object_position": null,
            "order": null,
            "overflow": null,
            "overflow_x": null,
            "overflow_y": null,
            "padding": null,
            "right": null,
            "top": null,
            "visibility": null,
            "width": null
          }
        },
        "b8c0679db50343ec973e5a42d110d858": {
          "model_module": "@jupyter-widgets/controls",
          "model_module_version": "1.5.0",
          "model_name": "ProgressStyleModel",
          "state": {
            "_model_module": "@jupyter-widgets/controls",
            "_model_module_version": "1.5.0",
            "_model_name": "ProgressStyleModel",
            "_view_count": null,
            "_view_module": "@jupyter-widgets/base",
            "_view_module_version": "1.2.0",
            "_view_name": "StyleView",
            "bar_color": null,
            "description_width": ""
          }
        },
        "b903db7bd2904a3c98697ce7d8baa74d": {
          "model_module": "@jupyter-widgets/base",
          "model_module_version": "1.2.0",
          "model_name": "LayoutModel",
          "state": {
            "_model_module": "@jupyter-widgets/base",
            "_model_module_version": "1.2.0",
            "_model_name": "LayoutModel",
            "_view_count": null,
            "_view_module": "@jupyter-widgets/base",
            "_view_module_version": "1.2.0",
            "_view_name": "LayoutView",
            "align_content": null,
            "align_items": null,
            "align_self": null,
            "border": null,
            "bottom": null,
            "display": null,
            "flex": null,
            "flex_flow": null,
            "grid_area": null,
            "grid_auto_columns": null,
            "grid_auto_flow": null,
            "grid_auto_rows": null,
            "grid_column": null,
            "grid_gap": null,
            "grid_row": null,
            "grid_template_areas": null,
            "grid_template_columns": null,
            "grid_template_rows": null,
            "height": null,
            "justify_content": null,
            "justify_items": null,
            "left": null,
            "margin": null,
            "max_height": null,
            "max_width": null,
            "min_height": null,
            "min_width": null,
            "object_fit": null,
            "object_position": null,
            "order": null,
            "overflow": null,
            "overflow_x": null,
            "overflow_y": null,
            "padding": null,
            "right": null,
            "top": null,
            "visibility": null,
            "width": null
          }
        },
        "bc21d87ec919499490ad1f7cf998879f": {
          "model_module": "@jupyter-widgets/controls",
          "model_module_version": "1.5.0",
          "model_name": "HTMLModel",
          "state": {
            "_dom_classes": [],
            "_model_module": "@jupyter-widgets/controls",
            "_model_module_version": "1.5.0",
            "_model_name": "HTMLModel",
            "_view_count": null,
            "_view_module": "@jupyter-widgets/controls",
            "_view_module_version": "1.5.0",
            "_view_name": "HTMLView",
            "description": "",
            "description_tooltip": null,
            "layout": "IPY_MODEL_dda032d7d8ff4f97a186a5e6643b3ba8",
            "placeholder": "​",
            "style": "IPY_MODEL_31f423ba0971448da4bb498b4ba9afb2",
            "value": " 254k/? [00:00&lt;00:00, 5.05MB/s]"
          }
        },
        "bd7c16796c374594acc9e1ee4c192d37": {
          "model_module": "@jupyter-widgets/controls",
          "model_module_version": "1.5.0",
          "model_name": "DescriptionStyleModel",
          "state": {
            "_model_module": "@jupyter-widgets/controls",
            "_model_module_version": "1.5.0",
            "_model_name": "DescriptionStyleModel",
            "_view_count": null,
            "_view_module": "@jupyter-widgets/base",
            "_view_module_version": "1.2.0",
            "_view_name": "StyleView",
            "description_width": ""
          }
        },
        "bebe8d8d7471477498ea97051e562e5e": {
          "model_module": "@jupyter-widgets/controls",
          "model_module_version": "1.5.0",
          "model_name": "DescriptionStyleModel",
          "state": {
            "_model_module": "@jupyter-widgets/controls",
            "_model_module_version": "1.5.0",
            "_model_name": "DescriptionStyleModel",
            "_view_count": null,
            "_view_module": "@jupyter-widgets/base",
            "_view_module_version": "1.2.0",
            "_view_name": "StyleView",
            "description_width": ""
          }
        },
        "c1f11f6ed4ee4a48991204292aadaf15": {
          "model_module": "@jupyter-widgets/base",
          "model_module_version": "1.2.0",
          "model_name": "LayoutModel",
          "state": {
            "_model_module": "@jupyter-widgets/base",
            "_model_module_version": "1.2.0",
            "_model_name": "LayoutModel",
            "_view_count": null,
            "_view_module": "@jupyter-widgets/base",
            "_view_module_version": "1.2.0",
            "_view_name": "LayoutView",
            "align_content": null,
            "align_items": null,
            "align_self": null,
            "border": null,
            "bottom": null,
            "display": null,
            "flex": null,
            "flex_flow": null,
            "grid_area": null,
            "grid_auto_columns": null,
            "grid_auto_flow": null,
            "grid_auto_rows": null,
            "grid_column": null,
            "grid_gap": null,
            "grid_row": null,
            "grid_template_areas": null,
            "grid_template_columns": null,
            "grid_template_rows": null,
            "height": null,
            "justify_content": null,
            "justify_items": null,
            "left": null,
            "margin": null,
            "max_height": null,
            "max_width": null,
            "min_height": null,
            "min_width": null,
            "object_fit": null,
            "object_position": null,
            "order": null,
            "overflow": null,
            "overflow_x": null,
            "overflow_y": null,
            "padding": null,
            "right": null,
            "top": null,
            "visibility": null,
            "width": null
          }
        },
        "c5a260f6105f4f0f8d4d96fe80161d4e": {
          "model_module": "@jupyter-widgets/controls",
          "model_module_version": "1.5.0",
          "model_name": "HBoxModel",
          "state": {
            "_dom_classes": [],
            "_model_module": "@jupyter-widgets/controls",
            "_model_module_version": "1.5.0",
            "_model_name": "HBoxModel",
            "_view_count": null,
            "_view_module": "@jupyter-widgets/controls",
            "_view_module_version": "1.5.0",
            "_view_name": "HBoxView",
            "box_style": "",
            "children": [
              "IPY_MODEL_2768d9ae1df34a20be0807c84d9275f1",
              "IPY_MODEL_74b9bf7d33af4f1fb1668ec69ae902e2",
              "IPY_MODEL_6e22277d0eae4998a85fb0b1e5af51d3"
            ],
            "layout": "IPY_MODEL_c7a5bc0be5234cde85d26890cf11a17e"
          }
        },
        "c6ade318efd4497484c7d98783344802": {
          "model_module": "@jupyter-widgets/controls",
          "model_module_version": "1.5.0",
          "model_name": "ProgressStyleModel",
          "state": {
            "_model_module": "@jupyter-widgets/controls",
            "_model_module_version": "1.5.0",
            "_model_name": "ProgressStyleModel",
            "_view_count": null,
            "_view_module": "@jupyter-widgets/base",
            "_view_module_version": "1.2.0",
            "_view_name": "StyleView",
            "bar_color": null,
            "description_width": ""
          }
        },
        "c79a7528f8bf4b0cb71aa9b3c49f5c55": {
          "model_module": "@jupyter-widgets/controls",
          "model_module_version": "1.5.0",
          "model_name": "HBoxModel",
          "state": {
            "_dom_classes": [],
            "_model_module": "@jupyter-widgets/controls",
            "_model_module_version": "1.5.0",
            "_model_name": "HBoxModel",
            "_view_count": null,
            "_view_module": "@jupyter-widgets/controls",
            "_view_module_version": "1.5.0",
            "_view_name": "HBoxView",
            "box_style": "",
            "children": [
              "IPY_MODEL_e7190499c9444a769bed74dbd9e0c23a",
              "IPY_MODEL_733dcba134c34697988eeadfd19fedd2",
              "IPY_MODEL_458c830b6c3c43bfb243df6e83cf79c7"
            ],
            "layout": "IPY_MODEL_3b115bfe3e534bbb97b8e8bbddb0a037"
          }
        },
        "c7a5bc0be5234cde85d26890cf11a17e": {
          "model_module": "@jupyter-widgets/base",
          "model_module_version": "1.2.0",
          "model_name": "LayoutModel",
          "state": {
            "_model_module": "@jupyter-widgets/base",
            "_model_module_version": "1.2.0",
            "_model_name": "LayoutModel",
            "_view_count": null,
            "_view_module": "@jupyter-widgets/base",
            "_view_module_version": "1.2.0",
            "_view_name": "LayoutView",
            "align_content": null,
            "align_items": null,
            "align_self": null,
            "border": null,
            "bottom": null,
            "display": null,
            "flex": null,
            "flex_flow": null,
            "grid_area": null,
            "grid_auto_columns": null,
            "grid_auto_flow": null,
            "grid_auto_rows": null,
            "grid_column": null,
            "grid_gap": null,
            "grid_row": null,
            "grid_template_areas": null,
            "grid_template_columns": null,
            "grid_template_rows": null,
            "height": null,
            "justify_content": null,
            "justify_items": null,
            "left": null,
            "margin": null,
            "max_height": null,
            "max_width": null,
            "min_height": null,
            "min_width": null,
            "object_fit": null,
            "object_position": null,
            "order": null,
            "overflow": null,
            "overflow_x": null,
            "overflow_y": null,
            "padding": null,
            "right": null,
            "top": null,
            "visibility": null,
            "width": null
          }
        },
        "c8890b859a8c486abded3cb219cb3e50": {
          "model_module": "@jupyter-widgets/controls",
          "model_module_version": "1.5.0",
          "model_name": "DescriptionStyleModel",
          "state": {
            "_model_module": "@jupyter-widgets/controls",
            "_model_module_version": "1.5.0",
            "_model_name": "DescriptionStyleModel",
            "_view_count": null,
            "_view_module": "@jupyter-widgets/base",
            "_view_module_version": "1.2.0",
            "_view_name": "StyleView",
            "description_width": ""
          }
        },
        "ca6b30bec0a34e6c9e809e760d112396": {
          "model_module": "@jupyter-widgets/controls",
          "model_module_version": "1.5.0",
          "model_name": "DescriptionStyleModel",
          "state": {
            "_model_module": "@jupyter-widgets/controls",
            "_model_module_version": "1.5.0",
            "_model_name": "DescriptionStyleModel",
            "_view_count": null,
            "_view_module": "@jupyter-widgets/base",
            "_view_module_version": "1.2.0",
            "_view_name": "StyleView",
            "description_width": ""
          }
        },
        "cd7b9e865b21459496b62969b62f48b9": {
          "model_module": "@jupyter-widgets/controls",
          "model_module_version": "1.5.0",
          "model_name": "DescriptionStyleModel",
          "state": {
            "_model_module": "@jupyter-widgets/controls",
            "_model_module_version": "1.5.0",
            "_model_name": "DescriptionStyleModel",
            "_view_count": null,
            "_view_module": "@jupyter-widgets/base",
            "_view_module_version": "1.2.0",
            "_view_name": "StyleView",
            "description_width": ""
          }
        },
        "ced5ac23047045248d36855f7c7026bd": {
          "model_module": "@jupyter-widgets/base",
          "model_module_version": "1.2.0",
          "model_name": "LayoutModel",
          "state": {
            "_model_module": "@jupyter-widgets/base",
            "_model_module_version": "1.2.0",
            "_model_name": "LayoutModel",
            "_view_count": null,
            "_view_module": "@jupyter-widgets/base",
            "_view_module_version": "1.2.0",
            "_view_name": "LayoutView",
            "align_content": null,
            "align_items": null,
            "align_self": null,
            "border": null,
            "bottom": null,
            "display": null,
            "flex": null,
            "flex_flow": null,
            "grid_area": null,
            "grid_auto_columns": null,
            "grid_auto_flow": null,
            "grid_auto_rows": null,
            "grid_column": null,
            "grid_gap": null,
            "grid_row": null,
            "grid_template_areas": null,
            "grid_template_columns": null,
            "grid_template_rows": null,
            "height": null,
            "justify_content": null,
            "justify_items": null,
            "left": null,
            "margin": null,
            "max_height": null,
            "max_width": null,
            "min_height": null,
            "min_width": null,
            "object_fit": null,
            "object_position": null,
            "order": null,
            "overflow": null,
            "overflow_x": null,
            "overflow_y": null,
            "padding": null,
            "right": null,
            "top": null,
            "visibility": null,
            "width": null
          }
        },
        "d0e06ba6db674e4c9bc5a10e5fc20b71": {
          "model_module": "@jupyter-widgets/base",
          "model_module_version": "1.2.0",
          "model_name": "LayoutModel",
          "state": {
            "_model_module": "@jupyter-widgets/base",
            "_model_module_version": "1.2.0",
            "_model_name": "LayoutModel",
            "_view_count": null,
            "_view_module": "@jupyter-widgets/base",
            "_view_module_version": "1.2.0",
            "_view_name": "LayoutView",
            "align_content": null,
            "align_items": null,
            "align_self": null,
            "border": null,
            "bottom": null,
            "display": null,
            "flex": null,
            "flex_flow": null,
            "grid_area": null,
            "grid_auto_columns": null,
            "grid_auto_flow": null,
            "grid_auto_rows": null,
            "grid_column": null,
            "grid_gap": null,
            "grid_row": null,
            "grid_template_areas": null,
            "grid_template_columns": null,
            "grid_template_rows": null,
            "height": null,
            "justify_content": null,
            "justify_items": null,
            "left": null,
            "margin": null,
            "max_height": null,
            "max_width": null,
            "min_height": null,
            "min_width": null,
            "object_fit": null,
            "object_position": null,
            "order": null,
            "overflow": null,
            "overflow_x": null,
            "overflow_y": null,
            "padding": null,
            "right": null,
            "top": null,
            "visibility": null,
            "width": null
          }
        },
        "d7d4e6dc1935472da965eac1b50a7392": {
          "model_module": "@jupyter-widgets/controls",
          "model_module_version": "1.5.0",
          "model_name": "HTMLModel",
          "state": {
            "_dom_classes": [],
            "_model_module": "@jupyter-widgets/controls",
            "_model_module_version": "1.5.0",
            "_model_name": "HTMLModel",
            "_view_count": null,
            "_view_module": "@jupyter-widgets/controls",
            "_view_module_version": "1.5.0",
            "_view_name": "HTMLView",
            "description": "",
            "description_tooltip": null,
            "layout": "IPY_MODEL_b753a050d04c4d0a9aa489c4854c578a",
            "placeholder": "​",
            "style": "IPY_MODEL_b4777d7fcf9a47bfae6ab92348cdeaaa",
            "value": "Generating test split:  36%"
          }
        },
        "d87f3fc7c8cc42c68f7c507a2ac74143": {
          "model_module": "@jupyter-widgets/base",
          "model_module_version": "1.2.0",
          "model_name": "LayoutModel",
          "state": {
            "_model_module": "@jupyter-widgets/base",
            "_model_module_version": "1.2.0",
            "_model_name": "LayoutModel",
            "_view_count": null,
            "_view_module": "@jupyter-widgets/base",
            "_view_module_version": "1.2.0",
            "_view_name": "LayoutView",
            "align_content": null,
            "align_items": null,
            "align_self": null,
            "border": null,
            "bottom": null,
            "display": null,
            "flex": null,
            "flex_flow": null,
            "grid_area": null,
            "grid_auto_columns": null,
            "grid_auto_flow": null,
            "grid_auto_rows": null,
            "grid_column": null,
            "grid_gap": null,
            "grid_row": null,
            "grid_template_areas": null,
            "grid_template_columns": null,
            "grid_template_rows": null,
            "height": null,
            "justify_content": null,
            "justify_items": null,
            "left": null,
            "margin": null,
            "max_height": null,
            "max_width": null,
            "min_height": null,
            "min_width": null,
            "object_fit": null,
            "object_position": null,
            "order": null,
            "overflow": null,
            "overflow_x": null,
            "overflow_y": null,
            "padding": null,
            "right": null,
            "top": null,
            "visibility": null,
            "width": null
          }
        },
        "d9e257bc5a9e47cb811d3ecf14642001": {
          "model_module": "@jupyter-widgets/controls",
          "model_module_version": "1.5.0",
          "model_name": "HBoxModel",
          "state": {
            "_dom_classes": [],
            "_model_module": "@jupyter-widgets/controls",
            "_model_module_version": "1.5.0",
            "_model_name": "HBoxModel",
            "_view_count": null,
            "_view_module": "@jupyter-widgets/controls",
            "_view_module_version": "1.5.0",
            "_view_name": "HBoxView",
            "box_style": "",
            "children": [
              "IPY_MODEL_ac40b6f2b0874b6a844ca228635fcc52",
              "IPY_MODEL_6cd17eb2037842c59aa9bd2ac9dea7f9",
              "IPY_MODEL_6ee925b94c174da891f119b7c1969935"
            ],
            "layout": "IPY_MODEL_7920acb6ec264680881fabc84f90aff2"
          }
        },
        "da515f30712840ae83497bca39fd99fc": {
          "model_module": "@jupyter-widgets/controls",
          "model_module_version": "1.5.0",
          "model_name": "HTMLModel",
          "state": {
            "_dom_classes": [],
            "_model_module": "@jupyter-widgets/controls",
            "_model_module_version": "1.5.0",
            "_model_name": "HTMLModel",
            "_view_count": null,
            "_view_module": "@jupyter-widgets/controls",
            "_view_module_version": "1.5.0",
            "_view_name": "HTMLView",
            "description": "",
            "description_tooltip": null,
            "layout": "IPY_MODEL_3f92214be01c46d8a4437f251e64165f",
            "placeholder": "​",
            "style": "IPY_MODEL_5784ee2ba923423684959cea80a00798",
            "value": " 0/270 [00:00&lt;?, ? examples/s]"
          }
        },
        "dda032d7d8ff4f97a186a5e6643b3ba8": {
          "model_module": "@jupyter-widgets/base",
          "model_module_version": "1.2.0",
          "model_name": "LayoutModel",
          "state": {
            "_model_module": "@jupyter-widgets/base",
            "_model_module_version": "1.2.0",
            "_model_name": "LayoutModel",
            "_view_count": null,
            "_view_module": "@jupyter-widgets/base",
            "_view_module_version": "1.2.0",
            "_view_name": "LayoutView",
            "align_content": null,
            "align_items": null,
            "align_self": null,
            "border": null,
            "bottom": null,
            "display": null,
            "flex": null,
            "flex_flow": null,
            "grid_area": null,
            "grid_auto_columns": null,
            "grid_auto_flow": null,
            "grid_auto_rows": null,
            "grid_column": null,
            "grid_gap": null,
            "grid_row": null,
            "grid_template_areas": null,
            "grid_template_columns": null,
            "grid_template_rows": null,
            "height": null,
            "justify_content": null,
            "justify_items": null,
            "left": null,
            "margin": null,
            "max_height": null,
            "max_width": null,
            "min_height": null,
            "min_width": null,
            "object_fit": null,
            "object_position": null,
            "order": null,
            "overflow": null,
            "overflow_x": null,
            "overflow_y": null,
            "padding": null,
            "right": null,
            "top": null,
            "visibility": null,
            "width": null
          }
        },
        "e7190499c9444a769bed74dbd9e0c23a": {
          "model_module": "@jupyter-widgets/controls",
          "model_module_version": "1.5.0",
          "model_name": "HTMLModel",
          "state": {
            "_dom_classes": [],
            "_model_module": "@jupyter-widgets/controls",
            "_model_module_version": "1.5.0",
            "_model_name": "HTMLModel",
            "_view_count": null,
            "_view_module": "@jupyter-widgets/controls",
            "_view_module_version": "1.5.0",
            "_view_name": "HTMLView",
            "description": "",
            "description_tooltip": null,
            "layout": "IPY_MODEL_9b7b3153eac04cf187f28f535c6eed0b",
            "placeholder": "​",
            "style": "IPY_MODEL_4a705094d1ad49e6aaf4d143a64b4836",
            "value": "Extracting data files: 100%"
          }
        },
        "e80a24bc8da0459ebe5cf2a4d3c365ab": {
          "model_module": "@jupyter-widgets/base",
          "model_module_version": "1.2.0",
          "model_name": "LayoutModel",
          "state": {
            "_model_module": "@jupyter-widgets/base",
            "_model_module_version": "1.2.0",
            "_model_name": "LayoutModel",
            "_view_count": null,
            "_view_module": "@jupyter-widgets/base",
            "_view_module_version": "1.2.0",
            "_view_name": "LayoutView",
            "align_content": null,
            "align_items": null,
            "align_self": null,
            "border": null,
            "bottom": null,
            "display": null,
            "flex": null,
            "flex_flow": null,
            "grid_area": null,
            "grid_auto_columns": null,
            "grid_auto_flow": null,
            "grid_auto_rows": null,
            "grid_column": null,
            "grid_gap": null,
            "grid_row": null,
            "grid_template_areas": null,
            "grid_template_columns": null,
            "grid_template_rows": null,
            "height": null,
            "justify_content": null,
            "justify_items": null,
            "left": null,
            "margin": null,
            "max_height": null,
            "max_width": null,
            "min_height": null,
            "min_width": null,
            "object_fit": null,
            "object_position": null,
            "order": null,
            "overflow": null,
            "overflow_x": null,
            "overflow_y": null,
            "padding": null,
            "right": null,
            "top": null,
            "visibility": null,
            "width": null
          }
        },
        "ea918b4a7fee453482e676cb2849767d": {
          "model_module": "@jupyter-widgets/controls",
          "model_module_version": "1.5.0",
          "model_name": "DescriptionStyleModel",
          "state": {
            "_model_module": "@jupyter-widgets/controls",
            "_model_module_version": "1.5.0",
            "_model_name": "DescriptionStyleModel",
            "_view_count": null,
            "_view_module": "@jupyter-widgets/base",
            "_view_module_version": "1.2.0",
            "_view_name": "StyleView",
            "description_width": ""
          }
        },
        "eac696071e694143aaed8cee5d9a3fc6": {
          "model_module": "@jupyter-widgets/base",
          "model_module_version": "1.2.0",
          "model_name": "LayoutModel",
          "state": {
            "_model_module": "@jupyter-widgets/base",
            "_model_module_version": "1.2.0",
            "_model_name": "LayoutModel",
            "_view_count": null,
            "_view_module": "@jupyter-widgets/base",
            "_view_module_version": "1.2.0",
            "_view_name": "LayoutView",
            "align_content": null,
            "align_items": null,
            "align_self": null,
            "border": null,
            "bottom": null,
            "display": null,
            "flex": null,
            "flex_flow": null,
            "grid_area": null,
            "grid_auto_columns": null,
            "grid_auto_flow": null,
            "grid_auto_rows": null,
            "grid_column": null,
            "grid_gap": null,
            "grid_row": null,
            "grid_template_areas": null,
            "grid_template_columns": null,
            "grid_template_rows": null,
            "height": null,
            "justify_content": null,
            "justify_items": null,
            "left": null,
            "margin": null,
            "max_height": null,
            "max_width": null,
            "min_height": null,
            "min_width": null,
            "object_fit": null,
            "object_position": null,
            "order": null,
            "overflow": null,
            "overflow_x": null,
            "overflow_y": null,
            "padding": null,
            "right": null,
            "top": null,
            "visibility": null,
            "width": null
          }
        },
        "eb9afde2831a4f2d87e3ea30cda0bb55": {
          "model_module": "@jupyter-widgets/controls",
          "model_module_version": "1.5.0",
          "model_name": "HBoxModel",
          "state": {
            "_dom_classes": [],
            "_model_module": "@jupyter-widgets/controls",
            "_model_module_version": "1.5.0",
            "_model_name": "HBoxModel",
            "_view_count": null,
            "_view_module": "@jupyter-widgets/controls",
            "_view_module_version": "1.5.0",
            "_view_name": "HBoxView",
            "box_style": "",
            "children": [
              "IPY_MODEL_d7d4e6dc1935472da965eac1b50a7392",
              "IPY_MODEL_f5da246f08f64205bb29095830f3ca05",
              "IPY_MODEL_0d456250900b44e08d38a1282f34e374"
            ],
            "layout": "IPY_MODEL_31ab20256520406f91bb9a7b0871cd16"
          }
        },
        "ed3ac27cb2a04c3986a93b8b7f8b8662": {
          "model_module": "@jupyter-widgets/controls",
          "model_module_version": "1.5.0",
          "model_name": "DescriptionStyleModel",
          "state": {
            "_model_module": "@jupyter-widgets/controls",
            "_model_module_version": "1.5.0",
            "_model_name": "DescriptionStyleModel",
            "_view_count": null,
            "_view_module": "@jupyter-widgets/base",
            "_view_module_version": "1.2.0",
            "_view_name": "StyleView",
            "description_width": ""
          }
        },
        "f2a33f06e3694a8ca4111ae008795877": {
          "model_module": "@jupyter-widgets/controls",
          "model_module_version": "1.5.0",
          "model_name": "DescriptionStyleModel",
          "state": {
            "_model_module": "@jupyter-widgets/controls",
            "_model_module_version": "1.5.0",
            "_model_name": "DescriptionStyleModel",
            "_view_count": null,
            "_view_module": "@jupyter-widgets/base",
            "_view_module_version": "1.2.0",
            "_view_name": "StyleView",
            "description_width": ""
          }
        },
        "f5da246f08f64205bb29095830f3ca05": {
          "model_module": "@jupyter-widgets/controls",
          "model_module_version": "1.5.0",
          "model_name": "FloatProgressModel",
          "state": {
            "_dom_classes": [],
            "_model_module": "@jupyter-widgets/controls",
            "_model_module_version": "1.5.0",
            "_model_name": "FloatProgressModel",
            "_view_count": null,
            "_view_module": "@jupyter-widgets/controls",
            "_view_module_version": "1.5.0",
            "_view_name": "ProgressView",
            "bar_style": "",
            "description": "",
            "description_tooltip": null,
            "layout": "IPY_MODEL_e80a24bc8da0459ebe5cf2a4d3c365ab",
            "max": 1675,
            "min": 0,
            "orientation": "horizontal",
            "style": "IPY_MODEL_5f97976fb67948ac950484081a2cd74b",
            "value": 1675
          }
        },
        "f6b2929ec8cd44b482c0baef2baf232a": {
          "model_module": "@jupyter-widgets/base",
          "model_module_version": "1.2.0",
          "model_name": "LayoutModel",
          "state": {
            "_model_module": "@jupyter-widgets/base",
            "_model_module_version": "1.2.0",
            "_model_name": "LayoutModel",
            "_view_count": null,
            "_view_module": "@jupyter-widgets/base",
            "_view_module_version": "1.2.0",
            "_view_name": "LayoutView",
            "align_content": null,
            "align_items": null,
            "align_self": null,
            "border": null,
            "bottom": null,
            "display": null,
            "flex": null,
            "flex_flow": null,
            "grid_area": null,
            "grid_auto_columns": null,
            "grid_auto_flow": null,
            "grid_auto_rows": null,
            "grid_column": null,
            "grid_gap": null,
            "grid_row": null,
            "grid_template_areas": null,
            "grid_template_columns": null,
            "grid_template_rows": null,
            "height": null,
            "justify_content": null,
            "justify_items": null,
            "left": null,
            "margin": null,
            "max_height": null,
            "max_width": null,
            "min_height": null,
            "min_width": null,
            "object_fit": null,
            "object_position": null,
            "order": null,
            "overflow": null,
            "overflow_x": null,
            "overflow_y": null,
            "padding": null,
            "right": null,
            "top": null,
            "visibility": null,
            "width": null
          }
        },
        "f6d8b738fe5a4a73b29859f105786645": {
          "model_module": "@jupyter-widgets/base",
          "model_module_version": "1.2.0",
          "model_name": "LayoutModel",
          "state": {
            "_model_module": "@jupyter-widgets/base",
            "_model_module_version": "1.2.0",
            "_model_name": "LayoutModel",
            "_view_count": null,
            "_view_module": "@jupyter-widgets/base",
            "_view_module_version": "1.2.0",
            "_view_name": "LayoutView",
            "align_content": null,
            "align_items": null,
            "align_self": null,
            "border": null,
            "bottom": null,
            "display": null,
            "flex": null,
            "flex_flow": null,
            "grid_area": null,
            "grid_auto_columns": null,
            "grid_auto_flow": null,
            "grid_auto_rows": null,
            "grid_column": null,
            "grid_gap": null,
            "grid_row": null,
            "grid_template_areas": null,
            "grid_template_columns": null,
            "grid_template_rows": null,
            "height": null,
            "justify_content": null,
            "justify_items": null,
            "left": null,
            "margin": null,
            "max_height": null,
            "max_width": null,
            "min_height": null,
            "min_width": null,
            "object_fit": null,
            "object_position": null,
            "order": null,
            "overflow": null,
            "overflow_x": null,
            "overflow_y": null,
            "padding": null,
            "right": null,
            "top": null,
            "visibility": null,
            "width": null
          }
        },
        "f86c757d421643fe95e05ca8c9b3dc90": {
          "model_module": "@jupyter-widgets/controls",
          "model_module_version": "1.5.0",
          "model_name": "ProgressStyleModel",
          "state": {
            "_model_module": "@jupyter-widgets/controls",
            "_model_module_version": "1.5.0",
            "_model_name": "ProgressStyleModel",
            "_view_count": null,
            "_view_module": "@jupyter-widgets/base",
            "_view_module_version": "1.2.0",
            "_view_name": "StyleView",
            "bar_color": null,
            "description_width": ""
          }
        },
        "f90f12e76bb94bbaa28c9c5e5691c0df": {
          "model_module": "@jupyter-widgets/controls",
          "model_module_version": "1.5.0",
          "model_name": "HTMLModel",
          "state": {
            "_dom_classes": [],
            "_model_module": "@jupyter-widgets/controls",
            "_model_module_version": "1.5.0",
            "_model_name": "HTMLModel",
            "_view_count": null,
            "_view_module": "@jupyter-widgets/controls",
            "_view_module_version": "1.5.0",
            "_view_name": "HTMLView",
            "description": "",
            "description_tooltip": null,
            "layout": "IPY_MODEL_9b4b24bfe7c547f4b64a8e21e37c26eb",
            "placeholder": "​",
            "style": "IPY_MODEL_6b98881ee3484c90827c8d748049991c",
            "value": "Downloading data: "
          }
        },
        "fa01257170454d1ba2944b8124ae8bb7": {
          "model_module": "@jupyter-widgets/controls",
          "model_module_version": "1.5.0",
          "model_name": "FloatProgressModel",
          "state": {
            "_dom_classes": [],
            "_model_module": "@jupyter-widgets/controls",
            "_model_module_version": "1.5.0",
            "_model_name": "FloatProgressModel",
            "_view_count": null,
            "_view_module": "@jupyter-widgets/controls",
            "_view_module_version": "1.5.0",
            "_view_name": "ProgressView",
            "bar_style": "success",
            "description": "",
            "description_tooltip": null,
            "layout": "IPY_MODEL_6133c9d9df644d0f9b34fa3ae5c1109c",
            "max": 75943,
            "min": 0,
            "orientation": "horizontal",
            "style": "IPY_MODEL_104d8d2c999646189c4dc8f3868f88df",
            "value": 75943
          }
        },
        "ffc7396ac994439884c39d6894134524": {
          "model_module": "@jupyter-widgets/controls",
          "model_module_version": "1.5.0",
          "model_name": "ProgressStyleModel",
          "state": {
            "_model_module": "@jupyter-widgets/controls",
            "_model_module_version": "1.5.0",
            "_model_name": "ProgressStyleModel",
            "_view_count": null,
            "_view_module": "@jupyter-widgets/base",
            "_view_module_version": "1.2.0",
            "_view_name": "StyleView",
            "bar_color": null,
            "description_width": ""
          }
        }
      }
    }
  },
  "nbformat": 4,
  "nbformat_minor": 0
}
